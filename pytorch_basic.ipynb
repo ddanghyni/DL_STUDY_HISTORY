{
 "cells": [
  {
   "metadata": {},
   "cell_type": "markdown",
   "source": "## Numpy와 닮은 pytorch",
   "id": "610ff98f68642c65"
  },
  {
   "metadata": {
    "ExecuteTime": {
     "end_time": "2025-05-07T12:53:29.435988Z",
     "start_time": "2025-05-07T12:53:29.433730Z"
    }
   },
   "cell_type": "code",
   "source": [
    "import torch\n",
    "print(torch.__version__)"
   ],
   "id": "714340dc6467493b",
   "outputs": [
    {
     "name": "stdout",
     "output_type": "stream",
     "text": [
      "2.7.0\n"
     ]
    }
   ],
   "execution_count": 3
  },
  {
   "metadata": {
    "ExecuteTime": {
     "end_time": "2025-05-07T13:02:51.070226Z",
     "start_time": "2025-05-07T13:02:51.066534Z"
    }
   },
   "cell_type": "code",
   "source": [
    "a = torch.tensor([1, 2, 3, 4])\n",
    "print(a)\n",
    "print(type(a))\n",
    "print(a.dtype)\n",
    "print(a.shape) # .shape -> 지겹게 볼 녀석..\n",
    "\n",
    "b = torch.tensor([1, 2, 3.1, 4])\n",
    "print(b)\n",
    "print(b.dtype) # 하나라도 실수면 자동으로 실수 타입으로.."
   ],
   "id": "8d9e627d63812d41",
   "outputs": [
    {
     "name": "stdout",
     "output_type": "stream",
     "text": [
      "tensor([1, 2, 3, 4])\n",
      "<class 'torch.Tensor'>\n",
      "torch.int64\n",
      "torch.Size([4])\n",
      "tensor([1.0000, 2.0000, 3.1000, 4.0000])\n",
      "torch.float32\n"
     ]
    }
   ],
   "execution_count": 5
  },
  {
   "metadata": {
    "ExecuteTime": {
     "end_time": "2025-05-07T13:06:54.559481Z",
     "start_time": "2025-05-07T13:06:54.555971Z"
    }
   },
   "cell_type": "code",
   "source": [
    "A = torch.tensor([ [1, 2], [3, 4]]) # 리스트와는 달리 이제는 행렬이라서 각 행에 해당하는 숫자의 개수가 같아야함 -> 당연한거쥬?\n",
    "# A = torch.tensor([ [1, 2], [3, 4, 5]]) # -> error\n",
    "print(A)\n",
    "print(A.shape)\n",
    "print(A.ndim) # 차원의 수\n",
    "print(A.numel()) # 전체 성분의 수"
   ],
   "id": "d19fde39ba46974c",
   "outputs": [
    {
     "name": "stdout",
     "output_type": "stream",
     "text": [
      "tensor([[1, 2],\n",
      "        [3, 4]])\n",
      "torch.Size([2, 2])\n",
      "2\n",
      "4\n"
     ]
    }
   ],
   "execution_count": 8
  },
  {
   "metadata": {
    "ExecuteTime": {
     "end_time": "2025-05-07T13:11:50.347994Z",
     "start_time": "2025-05-07T13:11:50.342708Z"
    }
   },
   "cell_type": "code",
   "source": [
    "print(torch.zeros(5))\n",
    "print(torch.zeros_like(A))\n",
    "print(torch.ones(5))\n",
    "print(torch.ones((3, 3)))\n",
    "print(torch.zeros((3,3))) # 3 by 3 of 0\n",
    "print(torch.arange(3, 10 ,2))\n",
    "print(torch.arange(0, 1, 0.1))\n",
    "print(torch.linspace(0, 1, 10))"
   ],
   "id": "b3fc5ce5ca028201",
   "outputs": [
    {
     "name": "stdout",
     "output_type": "stream",
     "text": [
      "tensor([0., 0., 0., 0., 0.])\n",
      "tensor([[0, 0],\n",
      "        [0, 0]])\n",
      "tensor([1., 1., 1., 1., 1.])\n",
      "tensor([[1., 1., 1.],\n",
      "        [1., 1., 1.],\n",
      "        [1., 1., 1.]])\n",
      "tensor([[0., 0., 0.],\n",
      "        [0., 0., 0.],\n",
      "        [0., 0., 0.]])\n",
      "tensor([3, 5, 7, 9])\n",
      "tensor([0.0000, 0.1000, 0.2000, 0.3000, 0.4000, 0.5000, 0.6000, 0.7000, 0.8000,\n",
      "        0.9000])\n",
      "tensor([0.0000, 0.1111, 0.2222, 0.3333, 0.4444, 0.5556, 0.6667, 0.7778, 0.8889,\n",
      "        1.0000])\n"
     ]
    }
   ],
   "execution_count": 15
  },
  {
   "metadata": {
    "ExecuteTime": {
     "end_time": "2025-05-07T13:12:21.966471Z",
     "start_time": "2025-05-07T13:12:21.963051Z"
    }
   },
   "cell_type": "code",
   "source": [
    "a = torch.tensor([1, 2, 3])\n",
    "b = torch.tensor([4, 5, 6])\n",
    "print(a + b)"
   ],
   "id": "838737f6e054212e",
   "outputs": [
    {
     "name": "stdout",
     "output_type": "stream",
     "text": [
      "tensor([5, 7, 9])\n"
     ]
    }
   ],
   "execution_count": 17
  },
  {
   "metadata": {
    "ExecuteTime": {
     "end_time": "2025-05-07T13:15:12.002320Z",
     "start_time": "2025-05-07T13:15:11.995154Z"
    }
   },
   "cell_type": "code",
   "source": [
    "# 각 성분끼리의 여러 연산들\n",
    "A = torch.tensor([[1, 2, 3], [4, 5, 6]])\n",
    "B = torch.tensor([[4, 5, 6], [7, 8, 9]])\n",
    "\n",
    "print(A + B)\n",
    "print(A * B) # 성분끼리의 곱..!\n",
    "print(A / B)\n",
    "print(B ** 2)"
   ],
   "id": "fe543b8e94916862",
   "outputs": [
    {
     "name": "stdout",
     "output_type": "stream",
     "text": [
      "tensor([[ 5,  7,  9],\n",
      "        [11, 13, 15]])\n",
      "tensor([[ 4, 10, 18],\n",
      "        [28, 40, 54]])\n",
      "tensor([[0.2500, 0.4000, 0.5000],\n",
      "        [0.5714, 0.6250, 0.6667]])\n",
      "tensor([[16, 25, 36],\n",
      "        [49, 64, 81]])\n"
     ]
    }
   ],
   "execution_count": 18
  },
  {
   "metadata": {
    "ExecuteTime": {
     "end_time": "2025-05-07T13:18:05.521375Z",
     "start_time": "2025-05-07T13:18:05.515798Z"
    }
   },
   "cell_type": "code",
   "source": [
    "A = torch.tensor([[1, 2, 3], [4, 5, 6]]) # 2 by 3\n",
    "B = torch.tensor([[1, 2], [3, 4], [5, 6]]) # 3 by 2\n",
    "# print(A * B) # 두 행렬의 shape이 다르니깐 element wise product 안됨.\n",
    "print(A @ B) # 찐 행렬 곱"
   ],
   "id": "57c52fd03a57aaa9",
   "outputs": [
    {
     "name": "stdout",
     "output_type": "stream",
     "text": [
      "tensor([[22, 28],\n",
      "        [49, 64]])\n"
     ]
    }
   ],
   "execution_count": 20
  },
  {
   "metadata": {},
   "cell_type": "markdown",
   "source": "## Pytorch의 인덱싱 슬라이스",
   "id": "8a16e9f171e8ee42"
  },
  {
   "metadata": {
    "ExecuteTime": {
     "end_time": "2025-05-07T13:24:07.768439Z",
     "start_time": "2025-05-07T13:24:07.763897Z"
    }
   },
   "cell_type": "code",
   "source": [
    "a = torch.arange(1, 10)\n",
    "print(a)\n",
    "print(a[0])\n",
    "print(a[1])\n",
    "print(a[-1])\n",
    "print(a[1:4])\n",
    "print(a[7:])\n",
    "print(a[:])"
   ],
   "id": "3680f583a10bfbe9",
   "outputs": [
    {
     "name": "stdout",
     "output_type": "stream",
     "text": [
      "tensor([1, 2, 3, 4, 5, 6, 7, 8, 9])\n",
      "tensor(1)\n",
      "tensor(2)\n",
      "tensor(9)\n",
      "tensor([2, 3, 4])\n",
      "tensor([8, 9])\n",
      "tensor([1, 2, 3, 4, 5, 6, 7, 8, 9])\n"
     ]
    }
   ],
   "execution_count": 25
  },
  {
   "metadata": {
    "ExecuteTime": {
     "end_time": "2025-05-07T13:30:52.592699Z",
     "start_time": "2025-05-07T13:30:52.587762Z"
    }
   },
   "cell_type": "code",
   "source": [
    "# 행렬에 대한 인덱싱과 슬라이싱\n",
    "A = torch.tensor([[1, 2, 3],\n",
    "                  [4, 5, 6],\n",
    "                  [7, 8, 9]])\n",
    "\n",
    "print(A[0]) # 하나만 쓰면 행에 대한 인덱싱\n",
    "print(A[-1])\n",
    "print(A[1: ])\n",
    "print(A[:])\n",
    "print(A[0][2])\n",
    "print(A[0, 2])\n",
    "\n",
    "# 다음 두 예제 차이점 확인하기\n",
    "print(A[: ,2])\n",
    "print(A[:][2])\n",
    "\n",
    "print(A[:, [1, 2]])"
   ],
   "id": "239894c852f5458c",
   "outputs": [
    {
     "name": "stdout",
     "output_type": "stream",
     "text": [
      "tensor([1, 2, 3])\n",
      "tensor([7, 8, 9])\n",
      "tensor([[4, 5, 6],\n",
      "        [7, 8, 9]])\n",
      "tensor([[1, 2, 3],\n",
      "        [4, 5, 6],\n",
      "        [7, 8, 9]])\n",
      "tensor(3)\n",
      "tensor(3)\n",
      "tensor([3, 6, 9])\n",
      "tensor([[2, 3],\n",
      "        [5, 6],\n",
      "        [8, 9]])\n",
      "tensor([7, 8, 9])\n"
     ]
    }
   ],
   "execution_count": 36
  },
  {
   "metadata": {
    "ExecuteTime": {
     "end_time": "2025-05-07T13:34:20.617562Z",
     "start_time": "2025-05-07T13:34:20.613255Z"
    }
   },
   "cell_type": "code",
   "source": [
    "# 3차원 행렬 인덱싱\n",
    "A = torch.tensor([ [[0,1,2,3],[4,5,6,7],[8,9,10,11]] ,\n",
    "             [[12,13,14,15],[16,17,18,19],[20,21,22,23]] ])\n",
    "\n",
    "print(A)\n",
    "print(A.shape) # (chanel, row, col)\n",
    "print(A[0, 1, 2]) # 0 번째 chanel의 1 행의 2열 원소\n",
    "\n",
    "a=torch.tensor([[[1,2,3,4]]])\n",
    "print(a.shape)"
   ],
   "id": "fbf3ff97608a3b7b",
   "outputs": [
    {
     "name": "stdout",
     "output_type": "stream",
     "text": [
      "tensor([[[ 0,  1,  2,  3],\n",
      "         [ 4,  5,  6,  7],\n",
      "         [ 8,  9, 10, 11]],\n",
      "\n",
      "        [[12, 13, 14, 15],\n",
      "         [16, 17, 18, 19],\n",
      "         [20, 21, 22, 23]]])\n",
      "torch.Size([2, 3, 4])\n",
      "tensor(6)\n",
      "torch.Size([1, 1, 4])\n"
     ]
    }
   ],
   "execution_count": 38
  },
  {
   "metadata": {
    "ExecuteTime": {
     "end_time": "2025-05-07T13:38:31.216876Z",
     "start_time": "2025-05-07T13:38:31.206875Z"
    }
   },
   "cell_type": "code",
   "source": [
    "# boolean 인덱싱\n",
    "a=[1,2,3,4,5,3,3]\n",
    "print(a==3) # 여러개 값 들어있는 리스트랑 3 달랑 하나랑 같냐? 다르다!\n",
    "A=torch.tensor([[1,2,3,4],[5,3,7,3]])\n",
    "print(A==3) # 리스트와 달리 각 성분에 대해 비교해줌\n",
    "print(A[A==3]) # True, False가 담긴 행렬로 인덱싱 가능!!\n",
    "\n",
    "A[A==3] = 100\n",
    "print(A) # 그러면 이런 것도 가능하다! (3과 같은 애를 100으로 바꿔줘)\n",
    "\n",
    "A=torch.tensor([[1,2],\n",
    "                [3,4],\n",
    "                [5,6],\n",
    "                [7,8]])\n",
    "B=torch.tensor([True, False, False, True]) # 참고로 그냥 리스트여도 됨\n",
    "print(A[B,:]) # 0행, 3행 슬라이싱\n",
    "\n",
    "b=torch.tensor([1,2,3,4])\n",
    "print(b[ [True,True,False,False] ])\n",
    "c=[1,2,3,4]\n",
    "# c[[True,True,False,False]] # error!"
   ],
   "id": "8b50e26cbeb5c098",
   "outputs": [
    {
     "name": "stdout",
     "output_type": "stream",
     "text": [
      "False\n",
      "tensor([[False, False,  True, False],\n",
      "        [False,  True, False,  True]])\n",
      "tensor([3, 3, 3])\n",
      "tensor([[  1,   2, 100,   4],\n",
      "        [  5, 100,   7, 100]])\n",
      "tensor([[1, 2],\n",
      "        [7, 8]])\n",
      "tensor([1, 2])\n"
     ]
    }
   ],
   "execution_count": 39
  },
  {
   "metadata": {
    "ExecuteTime": {
     "end_time": "2025-05-07T13:41:00.950772Z",
     "start_time": "2025-05-07T13:41:00.945804Z"
    }
   },
   "cell_type": "code",
   "source": [
    "# tensor로 인덱싱\n",
    "a=torch.tensor([1,2,3,4,5])\n",
    "A=a[2]\n",
    "print(A)\n",
    "A=a[ torch.tensor(2) ] # torch.tensor 안에다가?\n",
    "print(A)\n",
    "A=a[ torch.tensor([2,3,4]) ]\n",
    "print(A)\n",
    "A=a[ torch.tensor([[2,2,2],[3,3,3]]) ]\n",
    "print(A) # 인덱싱된 애들로 2행 3열짜리 행렬을 만든다\n",
    "\n",
    "a=[1,2,3]\n",
    "# a[ [1,1,1,1,2,2,2] ] # error!\n",
    "\n",
    "a=torch.tensor([[1,2,3],\n",
    "                [4,5,6]])\n",
    "print(a[0])\n",
    "\n",
    "#! 와우\n",
    "A=a[ torch.tensor([[0,1],\n",
    "                   [1,1]]) ]\n",
    "# [0, 1] -> 0행 1행으로 chanel 하나 구성, [1, 1] -> 1행 1행으로 chanel 하나 더 구성\n",
    "\n",
    "print(A.shape) # 예를 들어, a[0] = tensor([1,2,3])과 같이 1차원 데이터이므로 한 차원이 뒤에 늘어나서 2,2, \"3\" 이 된다!\n",
    "print(A) # segmentation 결과 그림 보여줄 때 사용!"
   ],
   "id": "2cca274817e46d74",
   "outputs": [
    {
     "name": "stdout",
     "output_type": "stream",
     "text": [
      "tensor(3)\n",
      "tensor(3)\n",
      "tensor([3, 4, 5])\n",
      "tensor([[3, 3, 3],\n",
      "        [4, 4, 4]])\n",
      "tensor([1, 2, 3])\n",
      "torch.Size([2, 2, 3])\n",
      "tensor([[[1, 2, 3],\n",
      "         [4, 5, 6]],\n",
      "\n",
      "        [[4, 5, 6],\n",
      "         [4, 5, 6]]])\n"
     ]
    }
   ],
   "execution_count": 40
  },
  {
   "metadata": {
    "ExecuteTime": {
     "end_time": "2025-05-07T13:44:53.574148Z",
     "start_time": "2025-05-07T13:44:53.568633Z"
    }
   },
   "cell_type": "code",
   "source": [
    "A=torch.tensor([[1,2],[3,4],[5,6],[7,8]])\n",
    "print(A)\n",
    "print(A.shape)\n",
    "\n",
    "# 1. A[몇 번째 행이냐, 몇 번째 열이냐]\n",
    "print(A[0,1])\n",
    "# 2. A[ tensor(bool) ] => A와 같은 shape을 가지는 tensor형 bool이 어디에 True를 가지고 있냐\n",
    "print(A[ torch.tensor([[False,True],[False,False],[False,False],[False,False]]) ])\n",
    "print(A[A==2])\n",
    "# 3. A[몇 번째 값에 True가 있냐, 몇 번째 값에 True가 있냐]\n",
    "print(A[ [True,False,False,True], [False,True] ])\n",
    "# 4. A[ tensor ] # 몇 번째 것을 어떻게 쌓을거냐\n",
    "print(A[ torch.tensor([1,1,2,2,2]) ])"
   ],
   "id": "d03a7a5e2dd2f0ce",
   "outputs": [
    {
     "name": "stdout",
     "output_type": "stream",
     "text": [
      "tensor([[1, 2],\n",
      "        [3, 4],\n",
      "        [5, 6],\n",
      "        [7, 8]])\n",
      "torch.Size([4, 2])\n",
      "tensor(2)\n",
      "tensor([2])\n",
      "tensor([2])\n",
      "tensor([2, 8])\n",
      "tensor([[3, 4],\n",
      "        [3, 4],\n",
      "        [5, 6],\n",
      "        [5, 6],\n",
      "        [5, 6]])\n"
     ]
    }
   ],
   "execution_count": 41
  },
  {
   "metadata": {},
   "cell_type": "markdown",
   "source": "## Pytorch의 여러 함수들\n",
   "id": "cfe984377512fd6b"
  },
  {
   "metadata": {},
   "cell_type": "code",
   "outputs": [],
   "execution_count": null,
   "source": "# 1:04",
   "id": "68e55b6f073aad47"
  }
 ],
 "metadata": {
  "kernelspec": {
   "display_name": "Python 3",
   "language": "python",
   "name": "python3"
  },
  "language_info": {
   "codemirror_mode": {
    "name": "ipython",
    "version": 2
   },
   "file_extension": ".py",
   "mimetype": "text/x-python",
   "name": "python",
   "nbconvert_exporter": "python",
   "pygments_lexer": "ipython2",
   "version": "2.7.6"
  }
 },
 "nbformat": 4,
 "nbformat_minor": 5
}
