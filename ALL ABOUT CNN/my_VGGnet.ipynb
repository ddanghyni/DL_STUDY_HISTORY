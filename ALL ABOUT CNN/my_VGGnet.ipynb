{
 "cells": [
  {
   "cell_type": "code",
   "id": "initial_id",
   "metadata": {
    "collapsed": true,
    "ExecuteTime": {
     "end_time": "2025-05-22T03:25:48.238771Z",
     "start_time": "2025-05-22T03:25:48.236762Z"
    }
   },
   "source": [
    "import torch\n",
    "from torch import nn\n",
    "from torch.nn.functional import batch_norm\n",
    "from torchinfo import summary\n",
    "import matplotlib.pyplot as plt"
   ],
   "outputs": [],
   "execution_count": 36
  },
  {
   "metadata": {
    "ExecuteTime": {
     "end_time": "2025-05-22T03:41:50.332572Z",
     "start_time": "2025-05-22T03:41:50.330632Z"
    }
   },
   "cell_type": "code",
   "source": [
    "cfg = {\"test\" :\n",
    "        [32,32, \"M\", 64, 64, \"M\", 128, 128, 128, \"M\"]}"
   ],
   "id": "11700ed51550b28d",
   "outputs": [],
   "execution_count": 85
  },
  {
   "metadata": {
    "ExecuteTime": {
     "end_time": "2025-05-22T03:41:51.186929Z",
     "start_time": "2025-05-22T03:41:51.180220Z"
    }
   },
   "cell_type": "code",
   "source": [
    "class my_VGGnet(nn.Module):\n",
    "    def __init__(self, cfg, batch_norm = False, num_classes = 10, drop_p = 0.5):\n",
    "        super().__init__()\n",
    "\n",
    "        self.features = self.make_layers(cfg, batch_norm)\n",
    "\n",
    "\n",
    "        self.classifier = nn.Sequential(nn.Linear(128 * 4 * 4, 512),\n",
    "                                        nn.ReLU(),\n",
    "                                        nn.Dropout(p = drop_p),\n",
    "                                        nn.Linear(512, 512),\n",
    "                                        nn.ReLU(),\n",
    "                                        nn.Dropout(p = drop_p),\n",
    "                                        nn.Linear(512, num_classes))\n",
    "\n",
    "\n",
    "    def make_layers(self, cfg, batch_norm = False):\n",
    "        layer = []\n",
    "        in_channels = 3\n",
    "\n",
    "        for v in cfg:\n",
    "            if type(v) == int:\n",
    "                if batch_norm:\n",
    "                    layer += [nn.Conv2d(in_channels, v, 3, padding=1, bias = False),\n",
    "                              nn.BatchNorm2d(v),\n",
    "                              nn.ReLU()]\n",
    "                else:\n",
    "                    layer += [nn.Conv2d(in_channels, v, 3, padding = 1),\n",
    "                              nn.ReLU()]\n",
    "                in_channels = v\n",
    "            else:\n",
    "                layer += [nn.MaxPool2d(2)]\n",
    "\n",
    "        return nn.Sequential(*layer)\n",
    "\n",
    "    def forward(self,x):\n",
    "        x = self.features(x)\n",
    "        x = torch.flatten(x, 1)\n",
    "        x = self.classifier(x)\n",
    "        return x\n",
    "\n",
    "class CNN_deep(nn.Module):\n",
    "    def __init__(self):\n",
    "        super().__init__()\n",
    "        self.conv_block1 = nn.Sequential(nn.Conv2d(3,32,3,padding=1),\n",
    "                                         nn.BatchNorm2d(32),\n",
    "                                         nn.ReLU(),\n",
    "                                         nn.Conv2d(32,32,3,padding=1),\n",
    "                                         nn.BatchNorm2d(32),\n",
    "                                         nn.ReLU())\n",
    "        self.Maxpool1 = nn.MaxPool2d(2)\n",
    "\n",
    "        self.conv_block2 = nn.Sequential(nn.Conv2d(32,64,3,padding=1),\n",
    "                                         nn.BatchNorm2d(64),\n",
    "                                         nn.ReLU(),\n",
    "                                         nn.Conv2d(64,64,3,padding=1),\n",
    "                                         nn.BatchNorm2d(64),\n",
    "                                         nn.ReLU(),\n",
    "                                         nn.Conv2d(64,64,3,padding=1),\n",
    "                                         nn.BatchNorm2d(64),\n",
    "                                         nn.ReLU())\n",
    "        self.Maxpool2 = nn.MaxPool2d(2)\n",
    "\n",
    "        self.conv_block3 = nn.Sequential(nn.Conv2d(64,128,3,padding=1),\n",
    "                                         nn.BatchNorm2d(128),\n",
    "                                         nn.ReLU(),\n",
    "                                         nn.Conv2d(128,128,3,padding=1),\n",
    "                                         nn.BatchNorm2d(128),\n",
    "                                         nn.ReLU(),\n",
    "                                         nn.Conv2d(128,128,3,padding=1),\n",
    "                                         nn.BatchNorm2d(128),\n",
    "                                         nn.ReLU())\n",
    "        self.Maxpool3 = nn.MaxPool2d(2)\n",
    "\n",
    "        self.classifier = nn.Sequential(nn.Linear(128*4*4,512),\n",
    "                                       nn.Linear(512,10))\n",
    "\n",
    "    def forward(self, x):\n",
    "        x = self.conv_block1(x)\n",
    "        x = self.Maxpool1(x)\n",
    "        x = self.conv_block2(x)\n",
    "        x = self.Maxpool2(x)\n",
    "        x = self.conv_block3(x)\n",
    "        x = self.Maxpool3(x)\n",
    "        x = torch.flatten(x, start_dim=1)\n",
    "        x = self.classifier(x)\n",
    "        return x\n"
   ],
   "id": "e94fe2ce6fe29e1",
   "outputs": [],
   "execution_count": 86
  },
  {
   "metadata": {
    "ExecuteTime": {
     "end_time": "2025-05-22T03:41:56.126231Z",
     "start_time": "2025-05-22T03:41:56.083648Z"
    }
   },
   "cell_type": "code",
   "source": [
    "model = my_VGGnet(cfg[\"test\"],batch_norm = True)\n",
    "#model = CNN_deep()\n",
    "summary(model, input_size=(1,3,32,32), device=\"mps\")"
   ],
   "id": "2c672b4c82be0d94",
   "outputs": [
    {
     "data": {
      "text/plain": [
       "==========================================================================================\n",
       "Layer (type:depth-idx)                   Output Shape              Param #\n",
       "==========================================================================================\n",
       "my_VGGnet                                [1, 10]                   --\n",
       "├─Sequential: 1-1                        [1, 128, 4, 4]            --\n",
       "│    └─Conv2d: 2-1                       [1, 32, 32, 32]           864\n",
       "│    └─BatchNorm2d: 2-2                  [1, 32, 32, 32]           64\n",
       "│    └─ReLU: 2-3                         [1, 32, 32, 32]           --\n",
       "│    └─MaxPool2d: 2-4                    [1, 32, 16, 16]           --\n",
       "│    └─Conv2d: 2-5                       [1, 64, 16, 16]           18,432\n",
       "│    └─BatchNorm2d: 2-6                  [1, 64, 16, 16]           128\n",
       "│    └─ReLU: 2-7                         [1, 64, 16, 16]           --\n",
       "│    └─Conv2d: 2-8                       [1, 64, 16, 16]           36,864\n",
       "│    └─BatchNorm2d: 2-9                  [1, 64, 16, 16]           128\n",
       "│    └─ReLU: 2-10                        [1, 64, 16, 16]           --\n",
       "│    └─MaxPool2d: 2-11                   [1, 64, 8, 8]             --\n",
       "│    └─Conv2d: 2-12                      [1, 128, 8, 8]            73,728\n",
       "│    └─BatchNorm2d: 2-13                 [1, 128, 8, 8]            256\n",
       "│    └─ReLU: 2-14                        [1, 128, 8, 8]            --\n",
       "│    └─Conv2d: 2-15                      [1, 128, 8, 8]            147,456\n",
       "│    └─BatchNorm2d: 2-16                 [1, 128, 8, 8]            256\n",
       "│    └─ReLU: 2-17                        [1, 128, 8, 8]            --\n",
       "│    └─MaxPool2d: 2-18                   [1, 128, 4, 4]            --\n",
       "├─Sequential: 1-2                        [1, 10]                   --\n",
       "│    └─Linear: 2-19                      [1, 512]                  1,049,088\n",
       "│    └─ReLU: 2-20                        [1, 512]                  --\n",
       "│    └─Dropout: 2-21                     [1, 512]                  --\n",
       "│    └─Linear: 2-22                      [1, 512]                  262,656\n",
       "│    └─ReLU: 2-23                        [1, 512]                  --\n",
       "│    └─Dropout: 2-24                     [1, 512]                  --\n",
       "│    └─Linear: 2-25                      [1, 10]                   5,130\n",
       "==========================================================================================\n",
       "Total params: 1,595,050\n",
       "Trainable params: 1,595,050\n",
       "Non-trainable params: 0\n",
       "Total mult-adds (Units.MEGABYTES): 30.51\n",
       "==========================================================================================\n",
       "Input size (MB): 0.01\n",
       "Forward/backward pass size (MB): 1.32\n",
       "Params size (MB): 6.38\n",
       "Estimated Total Size (MB): 7.71\n",
       "=========================================================================================="
      ]
     },
     "execution_count": 87,
     "metadata": {},
     "output_type": "execute_result"
    }
   ],
   "execution_count": 87
  },
  {
   "metadata": {
    "ExecuteTime": {
     "end_time": "2025-05-22T03:26:10.934995Z",
     "start_time": "2025-05-22T03:26:10.932961Z"
    }
   },
   "cell_type": "code",
   "source": [
    "from multiclass_function_2 import *\n",
    "import torch\n",
    "from torchvision import datasets, transforms"
   ],
   "id": "b66fd0a6c1bcabf5",
   "outputs": [],
   "execution_count": 39
  },
  {
   "metadata": {
    "ExecuteTime": {
     "end_time": "2025-05-22T03:42:01.638374Z",
     "start_time": "2025-05-22T03:42:01.635317Z"
    }
   },
   "cell_type": "code",
   "source": [
    "BATCH_SIZE = 64\n",
    "LR = 2e-3\n",
    "LR_STEP = 3 # for LR STEP\n",
    "LR_GAMMA = 0.9 # for LR STEP\n",
    "EPOCH = 30\n",
    "TRAIN_RATIO = 0.8\n",
    "criterion = nn.CrossEntropyLoss()\n",
    "new_model_train = True\n",
    "model_type = \"VGG_Test\"\n",
    "dataset = \"CIFAR10\"\n",
    "save_model_path = f\"./result/{model_type}_{dataset}.pt\"\n",
    "save_history_path = f\"./result/{model_type}_history_{dataset}.pt\"\n",
    "\n",
    "transform_train = transforms.Compose([\n",
    "    transforms.ToTensor()])\n",
    "transform_test = transforms.ToTensor()"
   ],
   "id": "453e9c29b7eb9d73",
   "outputs": [],
   "execution_count": 88
  },
  {
   "metadata": {
    "ExecuteTime": {
     "end_time": "2025-05-22T03:42:03.171667Z",
     "start_time": "2025-05-22T03:42:02.544262Z"
    }
   },
   "cell_type": "code",
   "source": [
    "train_DS = datasets.CIFAR10(root = '/Users/sanghyun/Desktop/GIT_Folder', train = True, download=False, transform=transform_train)\n",
    "test_DS = datasets.CIFAR10(root  = '/Users/sanghyun/Desktop/GIT_Folder', train = False, download=False, transform=transform_test)"
   ],
   "id": "7398b1a945c32f7f",
   "outputs": [],
   "execution_count": 89
  },
  {
   "metadata": {
    "ExecuteTime": {
     "end_time": "2025-05-22T03:42:03.843537Z",
     "start_time": "2025-05-22T03:42:03.838977Z"
    }
   },
   "cell_type": "code",
   "source": [
    "NoT = int(len(train_DS)*TRAIN_RATIO)\n",
    "NoV = len(train_DS) - NoT\n",
    "\n",
    "train_DS, val_DS= torch.utils.data.random_split(train_DS, [NoT, NoV])\n",
    "\n",
    "val_DS.transform = transform_test # test의 transform 적용!\n",
    "\n",
    "train_DL = torch.utils.data.DataLoader(train_DS, batch_size=BATCH_SIZE, shuffle=True)\n",
    "val_DL = torch.utils.data.DataLoader(val_DS, batch_size=BATCH_SIZE, shuffle=True) # 이미지 변형 체크 할땐 False로\n",
    "test_DL = torch.utils.data.DataLoader(test_DS, batch_size=BATCH_SIZE, shuffle=True) # 이미지 변형 체크 할땐 False로"
   ],
   "id": "7a0f86fc9badf710",
   "outputs": [],
   "execution_count": 90
  },
  {
   "metadata": {
    "ExecuteTime": {
     "end_time": "2025-05-22T03:42:09.954913Z",
     "start_time": "2025-05-22T03:42:09.920893Z"
    }
   },
   "cell_type": "code",
   "source": [
    "model = my_VGGnet(cfg[\"test\"],batch_norm = True).to(DEVICE)\n",
    "#model = CNN_deep().to(DEVICE)"
   ],
   "id": "6f1c564612f87874",
   "outputs": [],
   "execution_count": 91
  },
  {
   "metadata": {
    "ExecuteTime": {
     "end_time": "2025-05-22T03:45:22.857067Z",
     "start_time": "2025-05-22T03:42:11.979844Z"
    }
   },
   "cell_type": "code",
   "source": [
    "if new_model_train:\n",
    "    optimizer = optim.Adam(model.parameters(), lr=LR)\n",
    "    # loss_history = Train(model, train_DL, criterion, optimizer, EPOCH, )\n",
    "    loss_history = Train(model, train_DL, val_DL, criterion, optimizer, EPOCH,\n",
    "          BATCH_SIZE, TRAIN_RATIO,\n",
    "          save_model_path, save_history_path)\n",
    "\n",
    "    torch.save(model, save_model_path)\n",
    "\n",
    "history = torch.load(save_history_path)\n",
    "loss_history = history[\"loss_history\"]\n",
    "acc_history = history[\"acc_history\"]\n",
    "\n",
    "epochs = range(1, len(loss_history[\"train\"]) + 1)\n",
    "\n",
    "plt.figure(figsize=(12, 5))\n",
    "\n",
    "# Loss plot\n",
    "plt.subplot(1, 2, 1)\n",
    "plt.plot(epochs, loss_history[\"train\"], label='Train Loss')\n",
    "plt.plot(epochs, loss_history[\"val\"], label='Validation Loss')\n",
    "plt.xlabel('Epoch')\n",
    "plt.ylabel('Loss')\n",
    "plt.title('Train / Validation Loss')\n",
    "plt.legend()\n",
    "\n",
    "# Accuracy plot\n",
    "plt.subplot(1, 2, 2)\n",
    "plt.plot(epochs, acc_history[\"train\"], label='Train Acc')\n",
    "plt.plot(epochs, acc_history[\"val\"], label='Validation Acc')\n",
    "plt.xlabel('Epoch')\n",
    "plt.ylabel('Accuracy (%)')\n",
    "plt.title('Train / Validation Accuracy')\n",
    "plt.legend()\n",
    "\n",
    "plt.tight_layout()\n",
    "plt.show()"
   ],
   "id": "22b3b2b54ec36d64",
   "outputs": [
    {
     "name": "stdout",
     "output_type": "stream",
     "text": [
      "Epoch: 1, current_LR = 0.002\n"
     ]
    },
    {
     "name": "stderr",
     "output_type": "stream",
     "text": [
      "                                                  \r"
     ]
    },
    {
     "name": "stdout",
     "output_type": "stream",
     "text": [
      "train loss: 1.73588, val loss: 1.50726 \n",
      "train acc: 35.1 %, val acc: 44.6 %, time: 7 s\n",
      "--------------------\n",
      "Epoch: 2, current_LR = 0.002\n"
     ]
    },
    {
     "name": "stderr",
     "output_type": "stream",
     "text": [
      "                                                  \r"
     ]
    },
    {
     "name": "stdout",
     "output_type": "stream",
     "text": [
      "train loss: 1.38113, val loss: 1.24365 \n",
      "train acc: 50.0 %, val acc: 54.8 %, time: 6 s\n",
      "--------------------\n",
      "Epoch: 3, current_LR = 0.002\n"
     ]
    },
    {
     "name": "stderr",
     "output_type": "stream",
     "text": [
      "                                                  \r"
     ]
    },
    {
     "name": "stdout",
     "output_type": "stream",
     "text": [
      "train loss: 1.18499, val loss: 1.04832 \n",
      "train acc: 57.8 %, val acc: 64.5 %, time: 6 s\n",
      "--------------------\n",
      "Epoch: 4, current_LR = 0.002\n"
     ]
    },
    {
     "name": "stderr",
     "output_type": "stream",
     "text": [
      "                                                  \r"
     ]
    },
    {
     "name": "stdout",
     "output_type": "stream",
     "text": [
      "train loss: 1.03492, val loss: 1.00574 \n",
      "train acc: 63.7 %, val acc: 64.3 %, time: 6 s\n",
      "--------------------\n",
      "Epoch: 5, current_LR = 0.002\n"
     ]
    },
    {
     "name": "stderr",
     "output_type": "stream",
     "text": [
      "                                                  \r"
     ]
    },
    {
     "name": "stdout",
     "output_type": "stream",
     "text": [
      "train loss: 0.92244, val loss: 0.98488 \n",
      "train acc: 67.7 %, val acc: 66.4 %, time: 6 s\n",
      "--------------------\n",
      "Epoch: 6, current_LR = 0.002\n"
     ]
    },
    {
     "name": "stderr",
     "output_type": "stream",
     "text": [
      "                                                  \r"
     ]
    },
    {
     "name": "stdout",
     "output_type": "stream",
     "text": [
      "train loss: 0.84183, val loss: 0.83479 \n",
      "train acc: 71.2 %, val acc: 70.8 %, time: 6 s\n",
      "--------------------\n",
      "Epoch: 7, current_LR = 0.002\n"
     ]
    },
    {
     "name": "stderr",
     "output_type": "stream",
     "text": [
      "                                                  \r"
     ]
    },
    {
     "name": "stdout",
     "output_type": "stream",
     "text": [
      "train loss: 0.76384, val loss: 0.79047 \n",
      "train acc: 74.0 %, val acc: 73.3 %, time: 6 s\n",
      "--------------------\n",
      "Epoch: 8, current_LR = 0.002\n"
     ]
    },
    {
     "name": "stderr",
     "output_type": "stream",
     "text": [
      "                                                  \r"
     ]
    },
    {
     "name": "stdout",
     "output_type": "stream",
     "text": [
      "train loss: 0.69241, val loss: 0.81207 \n",
      "train acc: 76.8 %, val acc: 72.7 %, time: 6 s\n",
      "--------------------\n",
      "Epoch: 9, current_LR = 0.002\n"
     ]
    },
    {
     "name": "stderr",
     "output_type": "stream",
     "text": [
      "                                                  \r"
     ]
    },
    {
     "name": "stdout",
     "output_type": "stream",
     "text": [
      "train loss: 0.63363, val loss: 0.82711 \n",
      "train acc: 78.7 %, val acc: 71.8 %, time: 6 s\n",
      "--------------------\n",
      "Epoch: 10, current_LR = 0.002\n"
     ]
    },
    {
     "name": "stderr",
     "output_type": "stream",
     "text": [
      "                                                  \r"
     ]
    },
    {
     "name": "stdout",
     "output_type": "stream",
     "text": [
      "train loss: 0.57551, val loss: 0.86479 \n",
      "train acc: 81.0 %, val acc: 72.4 %, time: 6 s\n",
      "--------------------\n",
      "Epoch: 11, current_LR = 0.002\n"
     ]
    },
    {
     "name": "stderr",
     "output_type": "stream",
     "text": [
      "                                                  \r"
     ]
    },
    {
     "name": "stdout",
     "output_type": "stream",
     "text": [
      "train loss: 0.52593, val loss: 0.67195 \n",
      "train acc: 82.6 %, val acc: 78.0 %, time: 6 s\n",
      "--------------------\n",
      "Epoch: 12, current_LR = 0.002\n"
     ]
    },
    {
     "name": "stderr",
     "output_type": "stream",
     "text": [
      "                                                  \r"
     ]
    },
    {
     "name": "stdout",
     "output_type": "stream",
     "text": [
      "train loss: 0.48099, val loss: 0.71969 \n",
      "train acc: 84.2 %, val acc: 75.8 %, time: 6 s\n",
      "--------------------\n",
      "Epoch: 13, current_LR = 0.002\n"
     ]
    },
    {
     "name": "stderr",
     "output_type": "stream",
     "text": [
      "                                                  \r"
     ]
    },
    {
     "name": "stdout",
     "output_type": "stream",
     "text": [
      "train loss: 0.44279, val loss: 0.71681 \n",
      "train acc: 85.7 %, val acc: 76.2 %, time: 6 s\n",
      "--------------------\n",
      "Epoch: 14, current_LR = 0.002\n"
     ]
    },
    {
     "name": "stderr",
     "output_type": "stream",
     "text": [
      "                                                  \r"
     ]
    },
    {
     "name": "stdout",
     "output_type": "stream",
     "text": [
      "train loss: 0.40255, val loss: 0.78636 \n",
      "train acc: 87.1 %, val acc: 74.3 %, time: 6 s\n",
      "--------------------\n",
      "Epoch: 15, current_LR = 0.002\n"
     ]
    },
    {
     "name": "stderr",
     "output_type": "stream",
     "text": [
      "                                                  \r"
     ]
    },
    {
     "name": "stdout",
     "output_type": "stream",
     "text": [
      "train loss: 0.36938, val loss: 0.69948 \n",
      "train acc: 87.8 %, val acc: 77.7 %, time: 7 s\n",
      "--------------------\n",
      "Epoch: 16, current_LR = 0.002\n"
     ]
    },
    {
     "name": "stderr",
     "output_type": "stream",
     "text": [
      "                                                  \r"
     ]
    },
    {
     "name": "stdout",
     "output_type": "stream",
     "text": [
      "train loss: 0.34355, val loss: 0.68084 \n",
      "train acc: 88.9 %, val acc: 77.3 %, time: 6 s\n",
      "--------------------\n",
      "Epoch: 17, current_LR = 0.002\n"
     ]
    },
    {
     "name": "stderr",
     "output_type": "stream",
     "text": [
      "                                                  \r"
     ]
    },
    {
     "name": "stdout",
     "output_type": "stream",
     "text": [
      "train loss: 0.31204, val loss: 0.67697 \n",
      "train acc: 90.1 %, val acc: 78.5 %, time: 6 s\n",
      "--------------------\n",
      "Epoch: 18, current_LR = 0.002\n"
     ]
    },
    {
     "name": "stderr",
     "output_type": "stream",
     "text": [
      "                                                  \r"
     ]
    },
    {
     "name": "stdout",
     "output_type": "stream",
     "text": [
      "train loss: 0.29441, val loss: 0.73528 \n",
      "train acc: 90.6 %, val acc: 76.2 %, time: 6 s\n",
      "--------------------\n",
      "Epoch: 19, current_LR = 0.002\n"
     ]
    },
    {
     "name": "stderr",
     "output_type": "stream",
     "text": [
      "                                                  \r"
     ]
    },
    {
     "name": "stdout",
     "output_type": "stream",
     "text": [
      "train loss: 0.28306, val loss: 0.74696 \n",
      "train acc: 91.1 %, val acc: 76.8 %, time: 6 s\n",
      "--------------------\n",
      "Epoch: 20, current_LR = 0.002\n"
     ]
    },
    {
     "name": "stderr",
     "output_type": "stream",
     "text": [
      "                                                  \r"
     ]
    },
    {
     "name": "stdout",
     "output_type": "stream",
     "text": [
      "train loss: 0.26201, val loss: 0.72179 \n",
      "train acc: 91.8 %, val acc: 79.3 %, time: 6 s\n",
      "--------------------\n",
      "Epoch: 21, current_LR = 0.002\n"
     ]
    },
    {
     "name": "stderr",
     "output_type": "stream",
     "text": [
      "                                                  \r"
     ]
    },
    {
     "name": "stdout",
     "output_type": "stream",
     "text": [
      "train loss: 0.24457, val loss: 0.7241 \n",
      "train acc: 92.4 %, val acc: 78.2 %, time: 6 s\n",
      "--------------------\n",
      "Epoch: 22, current_LR = 0.002\n"
     ]
    },
    {
     "name": "stderr",
     "output_type": "stream",
     "text": [
      "                                                  \r"
     ]
    },
    {
     "name": "stdout",
     "output_type": "stream",
     "text": [
      "train loss: 0.23664, val loss: 0.79511 \n",
      "train acc: 92.7 %, val acc: 77.4 %, time: 7 s\n",
      "--------------------\n",
      "Epoch: 23, current_LR = 0.002\n"
     ]
    },
    {
     "name": "stderr",
     "output_type": "stream",
     "text": [
      "                                                  \r"
     ]
    },
    {
     "name": "stdout",
     "output_type": "stream",
     "text": [
      "train loss: 0.21881, val loss: 0.83492 \n",
      "train acc: 93.2 %, val acc: 76.2 %, time: 6 s\n",
      "--------------------\n",
      "Epoch: 24, current_LR = 0.002\n"
     ]
    },
    {
     "name": "stderr",
     "output_type": "stream",
     "text": [
      "                                                  \r"
     ]
    },
    {
     "name": "stdout",
     "output_type": "stream",
     "text": [
      "train loss: 0.19815, val loss: 0.78191 \n",
      "train acc: 93.9 %, val acc: 78.7 %, time: 6 s\n",
      "--------------------\n",
      "Epoch: 25, current_LR = 0.002\n"
     ]
    },
    {
     "name": "stderr",
     "output_type": "stream",
     "text": [
      "                                                  \r"
     ]
    },
    {
     "name": "stdout",
     "output_type": "stream",
     "text": [
      "train loss: 0.19626, val loss: 0.85336 \n",
      "train acc: 93.9 %, val acc: 76.8 %, time: 6 s\n",
      "--------------------\n",
      "Epoch: 26, current_LR = 0.002\n"
     ]
    },
    {
     "name": "stderr",
     "output_type": "stream",
     "text": [
      "                                                  \r"
     ]
    },
    {
     "name": "stdout",
     "output_type": "stream",
     "text": [
      "train loss: 0.19956, val loss: 0.77134 \n",
      "train acc: 94.0 %, val acc: 77.9 %, time: 6 s\n",
      "--------------------\n",
      "Epoch: 27, current_LR = 0.002\n"
     ]
    },
    {
     "name": "stderr",
     "output_type": "stream",
     "text": [
      "                                                  \r"
     ]
    },
    {
     "name": "stdout",
     "output_type": "stream",
     "text": [
      "train loss: 0.18219, val loss: 0.85504 \n",
      "train acc: 94.4 %, val acc: 77.3 %, time: 6 s\n",
      "--------------------\n",
      "Epoch: 28, current_LR = 0.002\n"
     ]
    },
    {
     "name": "stderr",
     "output_type": "stream",
     "text": [
      "                                                  \r"
     ]
    },
    {
     "name": "stdout",
     "output_type": "stream",
     "text": [
      "train loss: 0.16735, val loss: 0.83289 \n",
      "train acc: 94.9 %, val acc: 77.9 %, time: 6 s\n",
      "--------------------\n",
      "Epoch: 29, current_LR = 0.002\n"
     ]
    },
    {
     "name": "stderr",
     "output_type": "stream",
     "text": [
      "                                                  \r"
     ]
    },
    {
     "name": "stdout",
     "output_type": "stream",
     "text": [
      "train loss: 0.17043, val loss: 0.85289 \n",
      "train acc: 94.8 %, val acc: 77.6 %, time: 6 s\n",
      "--------------------\n",
      "Epoch: 30, current_LR = 0.002\n"
     ]
    },
    {
     "name": "stderr",
     "output_type": "stream",
     "text": [
      "                                                  \r"
     ]
    },
    {
     "name": "stdout",
     "output_type": "stream",
     "text": [
      "train loss: 0.16507, val loss: 0.79117 \n",
      "train acc: 95.1 %, val acc: 78.6 %, time: 6 s\n",
      "--------------------\n"
     ]
    },
    {
     "data": {
      "text/plain": [
       "<Figure size 1200x500 with 2 Axes>"
      ],
      "image/png": "[encoded data removed]"
     },
     "metadata": {},
     "output_type": "display_data"
    }
   ],
   "execution_count": 92
  },
  {
   "metadata": {
    "ExecuteTime": {
     "end_time": "2025-05-22T03:45:46.944608Z",
     "start_time": "2025-05-22T03:45:46.175Z"
    }
   },
   "cell_type": "code",
   "source": "Test(model, test_DL, criterion)",
   "id": "24431e8193027eb4",
   "outputs": [
    {
     "name": "stderr",
     "output_type": "stream",
     "text": [
      "                                                  "
     ]
    },
    {
     "name": "stdout",
     "output_type": "stream",
     "text": [
      "\n",
      "Test loss: 0.7726\n",
      "Test accuracy: 7939/10000 (79.4 %)\n"
     ]
    },
    {
     "name": "stderr",
     "output_type": "stream",
     "text": [
      "\r"
     ]
    },
    {
     "data": {
      "text/plain": [
       "79.4"
      ]
     },
     "execution_count": 93,
     "metadata": {},
     "output_type": "execute_result"
    }
   ],
   "execution_count": 93
  },
  {
   "metadata": {
    "ExecuteTime": {
     "end_time": "2025-05-22T03:41:19.058392Z",
     "start_time": "2025-05-22T03:41:18.200594Z"
    }
   },
   "cell_type": "code",
   "source": "Test(model, test_DL, criterion)",
   "id": "d16a8c662bd5f645",
   "outputs": [
    {
     "name": "stderr",
     "output_type": "stream",
     "text": [
      "                                                  "
     ]
    },
    {
     "name": "stdout",
     "output_type": "stream",
     "text": [
      "\n",
      "Test loss: 1.16485\n",
      "Test accuracy: 8058/10000 (80.6 %)\n"
     ]
    },
    {
     "name": "stderr",
     "output_type": "stream",
     "text": [
      "\r"
     ]
    },
    {
     "data": {
      "text/plain": [
       "80.6"
      ]
     },
     "execution_count": 82,
     "metadata": {},
     "output_type": "execute_result"
    }
   ],
   "execution_count": 82
  },
  {
   "metadata": {
    "ExecuteTime": {
     "end_time": "2025-05-22T03:46:06.875722Z",
     "start_time": "2025-05-22T03:46:06.789299Z"
    }
   },
   "cell_type": "code",
   "source": [
    "Test_plot(model, test_DL)\n",
    "print(count_params(model))"
   ],
   "id": "1d44ada2cbbfe1e1",
   "outputs": [
    {
     "name": "stdout",
     "output_type": "stream",
     "text": [
      "1595050\n"
     ]
    },
    {
     "data": {
      "text/plain": [
       "<Figure size 800x400 with 6 Axes>"
      ],
      "image/png": "[encoded data removed]"
     },
     "metadata": {},
     "output_type": "display_data"
    }
   ],
   "execution_count": 94
  },
  {
   "metadata": {},
   "cell_type": "code",
   "outputs": [],
   "execution_count": null,
   "source": "",
   "id": "6883de2a4e9aecff"
  }
 ],
 "metadata": {
  "kernelspec": {
   "display_name": "Python 3",
   "language": "python",
   "name": "python3"
  },
  "language_info": {
   "codemirror_mode": {
    "name": "ipython",
    "version": 2
   },
   "file_extension": ".py",
   "mimetype": "text/x-python",
   "name": "python",
   "nbconvert_exporter": "python",
   "pygments_lexer": "ipython2",
   "version": "2.7.6"
  }
 },
 "nbformat": 4,
 "nbformat_minor": 5
}
