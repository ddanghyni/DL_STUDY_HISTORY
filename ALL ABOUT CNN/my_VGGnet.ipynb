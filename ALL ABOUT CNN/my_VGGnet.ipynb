{
 "cells": [
  {
   "cell_type": "code",
   "id": "initial_id",
   "metadata": {
    "collapsed": true,
    "ExecuteTime": {
     "end_time": "2025-05-22T04:34:09.911844Z",
     "start_time": "2025-05-22T04:34:09.909180Z"
    }
   },
   "source": [
    "import torch\n",
    "from torch import nn\n",
    "from torch.nn.functional import batch_norm\n",
    "from torchinfo import summary\n",
    "import matplotlib.pyplot as plt"
   ],
   "outputs": [],
   "execution_count": 31
  },
  {
   "metadata": {
    "ExecuteTime": {
     "end_time": "2025-05-22T04:46:59.729136Z",
     "start_time": "2025-05-22T04:46:59.726686Z"
    }
   },
   "cell_type": "code",
   "source": [
    "cfg = {\"test\" :\n",
    "        [64, 64, \"M\", 128, 128, \"M\", 256, 256, 256, \"M\"],\n",
    "       \"test_2\":\n",
    "       [32, 32, \"M\", 64, 64, \"M\", 128, 128, \"M\"]}"
   ],
   "id": "11700ed51550b28d",
   "outputs": [],
   "execution_count": 62
  },
  {
   "metadata": {
    "ExecuteTime": {
     "end_time": "2025-05-22T04:47:22.607681Z",
     "start_time": "2025-05-22T04:47:22.603410Z"
    }
   },
   "cell_type": "code",
   "source": [
    "class my_VGGnet(nn.Module):\n",
    "    def __init__(self, cfg, batch_norm = False, num_classes = 10, drop_p = 0.5):\n",
    "        super().__init__()\n",
    "\n",
    "        self.features = self.make_layers(cfg, batch_norm)\n",
    "\n",
    "\n",
    "        self.classifier = nn.Sequential(nn.Linear(128 * 4 * 4, 516),\n",
    "                                        nn.ReLU(),\n",
    "                                        nn.Dropout(p = drop_p),\n",
    "                                        #nn.Linear(512, 512),\n",
    "                                        #nn.ReLU(),\n",
    "                                        #nn.Dropout(p = drop_p),\n",
    "                                        nn.Linear(516, num_classes))\n",
    "\n",
    "\n",
    "    def make_layers(self, cfg, batch_norm = False):\n",
    "        layer = []\n",
    "        in_channels = 3\n",
    "\n",
    "        for v in cfg:\n",
    "            if type(v) == int:\n",
    "                if batch_norm:\n",
    "                    layer += [nn.Conv2d(in_channels, v, 3, padding=1, bias = False),\n",
    "                              nn.BatchNorm2d(v),\n",
    "                              nn.ReLU()]\n",
    "                else:\n",
    "                    layer += [nn.Conv2d(in_channels, v, 3, padding = 1),\n",
    "                              nn.ReLU()]\n",
    "                in_channels = v\n",
    "            else:\n",
    "                layer += [nn.MaxPool2d(2)]\n",
    "\n",
    "        return nn.Sequential(*layer)\n",
    "\n",
    "    def forward(self,x):\n",
    "        x = self.features(x)\n",
    "        x = torch.flatten(x, 1)\n",
    "        x = self.classifier(x)\n",
    "        return x\n",
    "\n",
    "class CNN_deep(nn.Module):\n",
    "    def __init__(self):\n",
    "        super().__init__()\n",
    "        self.conv_block1 = nn.Sequential(nn.Conv2d(3,32,3,padding=1),\n",
    "                                         nn.BatchNorm2d(32),\n",
    "                                         nn.ReLU(),\n",
    "                                         nn.Conv2d(32,32,3,padding=1),\n",
    "                                         nn.BatchNorm2d(32),\n",
    "                                         nn.ReLU())\n",
    "        self.Maxpool1 = nn.MaxPool2d(2)\n",
    "\n",
    "        self.conv_block2 = nn.Sequential(nn.Conv2d(32,64,3,padding=1),\n",
    "                                         nn.BatchNorm2d(64),\n",
    "                                         nn.ReLU(),\n",
    "                                         nn.Conv2d(64,64,3,padding=1),\n",
    "                                         nn.BatchNorm2d(64),\n",
    "                                         nn.ReLU(),\n",
    "                                         nn.Conv2d(64,64,3,padding=1),\n",
    "                                         nn.BatchNorm2d(64),\n",
    "                                         nn.ReLU())\n",
    "        self.Maxpool2 = nn.MaxPool2d(2)\n",
    "\n",
    "        self.conv_block3 = nn.Sequential(nn.Conv2d(64,128,3,padding=1),\n",
    "                                         nn.BatchNorm2d(128),\n",
    "                                         nn.ReLU(),\n",
    "                                         nn.Conv2d(128,128,3,padding=1),\n",
    "                                         nn.BatchNorm2d(128),\n",
    "                                         nn.ReLU(),\n",
    "                                         nn.Conv2d(128,128,3,padding=1),\n",
    "                                         nn.BatchNorm2d(128),\n",
    "                                         nn.ReLU())\n",
    "        self.Maxpool3 = nn.MaxPool2d(2)\n",
    "\n",
    "        self.classifier = nn.Sequential(nn.Linear(128*4*4,512),\n",
    "                                       nn.Linear(512,10))\n",
    "\n",
    "    def forward(self, x):\n",
    "        x = self.conv_block1(x)\n",
    "        x = self.Maxpool1(x)\n",
    "        x = self.conv_block2(x)\n",
    "        x = self.Maxpool2(x)\n",
    "        x = self.conv_block3(x)\n",
    "        x = self.Maxpool3(x)\n",
    "        x = torch.flatten(x, start_dim=1)\n",
    "        x = self.classifier(x)\n",
    "        return x\n"
   ],
   "id": "e94fe2ce6fe29e1",
   "outputs": [],
   "execution_count": 65
  },
  {
   "metadata": {
    "ExecuteTime": {
     "end_time": "2025-05-22T04:47:07.681335Z",
     "start_time": "2025-05-22T04:47:07.642260Z"
    }
   },
   "cell_type": "code",
   "source": [
    "model = my_VGGnet(cfg[\"test_2\"],batch_norm = True)\n",
    "#model = CNN_deep()\n",
    "summary(model, input_size=(1,3,32,32), device=\"mps\")"
   ],
   "id": "2c672b4c82be0d94",
   "outputs": [
    {
     "data": {
      "text/plain": [
       "==========================================================================================\n",
       "Layer (type:depth-idx)                   Output Shape              Param #\n",
       "==========================================================================================\n",
       "my_VGGnet                                [1, 128, 4, 4]            269,878\n",
       "├─Sequential: 1-1                        [1, 128, 4, 4]            --\n",
       "│    └─Conv2d: 2-1                       [1, 32, 32, 32]           864\n",
       "│    └─BatchNorm2d: 2-2                  [1, 32, 32, 32]           64\n",
       "│    └─ReLU: 2-3                         [1, 32, 32, 32]           --\n",
       "│    └─Conv2d: 2-4                       [1, 32, 32, 32]           9,216\n",
       "│    └─BatchNorm2d: 2-5                  [1, 32, 32, 32]           64\n",
       "│    └─ReLU: 2-6                         [1, 32, 32, 32]           --\n",
       "│    └─MaxPool2d: 2-7                    [1, 32, 16, 16]           --\n",
       "│    └─Conv2d: 2-8                       [1, 64, 16, 16]           18,432\n",
       "│    └─BatchNorm2d: 2-9                  [1, 64, 16, 16]           128\n",
       "│    └─ReLU: 2-10                        [1, 64, 16, 16]           --\n",
       "│    └─Conv2d: 2-11                      [1, 64, 16, 16]           36,864\n",
       "│    └─BatchNorm2d: 2-12                 [1, 64, 16, 16]           128\n",
       "│    └─ReLU: 2-13                        [1, 64, 16, 16]           --\n",
       "│    └─MaxPool2d: 2-14                   [1, 64, 8, 8]             --\n",
       "│    └─Conv2d: 2-15                      [1, 128, 8, 8]            73,728\n",
       "│    └─BatchNorm2d: 2-16                 [1, 128, 8, 8]            256\n",
       "│    └─ReLU: 2-17                        [1, 128, 8, 8]            --\n",
       "│    └─Conv2d: 2-18                      [1, 128, 8, 8]            147,456\n",
       "│    └─BatchNorm2d: 2-19                 [1, 128, 8, 8]            256\n",
       "│    └─ReLU: 2-20                        [1, 128, 8, 8]            --\n",
       "│    └─MaxPool2d: 2-21                   [1, 128, 4, 4]            --\n",
       "==========================================================================================\n",
       "Total params: 557,334\n",
       "Trainable params: 557,334\n",
       "Non-trainable params: 0\n",
       "Total mult-adds (Units.MEGABYTES): 38.63\n",
       "==========================================================================================\n",
       "Input size (MB): 0.01\n",
       "Forward/backward pass size (MB): 1.84\n",
       "Params size (MB): 1.15\n",
       "Estimated Total Size (MB): 3.00\n",
       "=========================================================================================="
      ]
     },
     "execution_count": 64,
     "metadata": {},
     "output_type": "execute_result"
    }
   ],
   "execution_count": 64
  },
  {
   "metadata": {
    "ExecuteTime": {
     "end_time": "2025-05-22T04:34:15.552312Z",
     "start_time": "2025-05-22T04:34:15.549703Z"
    }
   },
   "cell_type": "code",
   "source": [
    "from multiclass_function_2 import *\n",
    "import torch\n",
    "from torchvision import datasets, transforms"
   ],
   "id": "b66fd0a6c1bcabf5",
   "outputs": [],
   "execution_count": 34
  },
  {
   "metadata": {
    "ExecuteTime": {
     "end_time": "2025-05-22T04:42:33.259508Z",
     "start_time": "2025-05-22T04:42:33.256329Z"
    }
   },
   "cell_type": "code",
   "source": [
    "BATCH_SIZE = 64\n",
    "LR = 2e-3\n",
    "LR_STEP = 3 # for LR STEP\n",
    "LR_GAMMA = 0.9 # for LR STEP\n",
    "EPOCH = 30\n",
    "TRAIN_RATIO = 0.7\n",
    "criterion = nn.CrossEntropyLoss()\n",
    "new_model_train = True\n",
    "model_type = \"VGG_Test\"\n",
    "dataset = \"CIFAR10\"\n",
    "save_model_path = f\"./result/{model_type}_{dataset}.pt\"\n",
    "save_history_path = f\"./result/{model_type}_history_{dataset}.pt\"\n",
    "\n",
    "transform_train = transforms.Compose([\n",
    "    transforms.ToTensor()])\n",
    "transform_test = transforms.ToTensor()"
   ],
   "id": "453e9c29b7eb9d73",
   "outputs": [],
   "execution_count": 56
  },
  {
   "metadata": {
    "ExecuteTime": {
     "end_time": "2025-05-22T04:42:35.404023Z",
     "start_time": "2025-05-22T04:42:34.784762Z"
    }
   },
   "cell_type": "code",
   "source": [
    "train_DS = datasets.CIFAR10(root = '/Users/sanghyun/Desktop/GIT_Folder', train = True, download=False, transform=transform_train)\n",
    "test_DS = datasets.CIFAR10(root  = '/Users/sanghyun/Desktop/GIT_Folder', train = False, download=False, transform=transform_test)"
   ],
   "id": "7398b1a945c32f7f",
   "outputs": [],
   "execution_count": 57
  },
  {
   "metadata": {
    "ExecuteTime": {
     "end_time": "2025-05-22T04:42:35.416901Z",
     "start_time": "2025-05-22T04:42:35.410654Z"
    }
   },
   "cell_type": "code",
   "source": [
    "NoT = int(len(train_DS)*TRAIN_RATIO)\n",
    "NoV = len(train_DS) - NoT\n",
    "\n",
    "train_DS, val_DS= torch.utils.data.random_split(train_DS, [NoT, NoV])\n",
    "\n",
    "val_DS.transform = transform_test # test의 transform 적용!\n",
    "\n",
    "train_DL = torch.utils.data.DataLoader(train_DS, batch_size=BATCH_SIZE, shuffle=True)\n",
    "val_DL = torch.utils.data.DataLoader(val_DS, batch_size=BATCH_SIZE, shuffle=True) # 이미지 변형 체크 할땐 False로\n",
    "test_DL = torch.utils.data.DataLoader(test_DS, batch_size=BATCH_SIZE, shuffle=True) # 이미지 변형 체크 할땐 False로"
   ],
   "id": "7a0f86fc9badf710",
   "outputs": [],
   "execution_count": 58
  },
  {
   "metadata": {
    "ExecuteTime": {
     "end_time": "2025-05-22T04:47:27.642889Z",
     "start_time": "2025-05-22T04:47:27.607064Z"
    }
   },
   "cell_type": "code",
   "source": [
    "model = my_VGGnet(cfg[\"test_2\"],batch_norm = True).to(DEVICE)\n",
    "#model = CNN_deep().to(DEVICE)"
   ],
   "id": "6f1c564612f87874",
   "outputs": [],
   "execution_count": 66
  },
  {
   "metadata": {
    "ExecuteTime": {
     "end_time": "2025-05-22T04:50:36.974522Z",
     "start_time": "2025-05-22T04:47:29.594447Z"
    }
   },
   "cell_type": "code",
   "source": [
    "if new_model_train:\n",
    "    optimizer = optim.Adam(model.parameters(), lr=LR)\n",
    "    # loss_history = Train(model, train_DL, criterion, optimizer, EPOCH, )\n",
    "    loss_history = Train(model, train_DL, val_DL, criterion, optimizer, EPOCH,\n",
    "          BATCH_SIZE, TRAIN_RATIO,\n",
    "          save_model_path, save_history_path)\n",
    "\n",
    "    torch.save(model, save_model_path)\n",
    "\n",
    "history = torch.load(save_history_path)\n",
    "loss_history = history[\"loss_history\"]\n",
    "acc_history = history[\"acc_history\"]\n",
    "\n",
    "epochs = range(1, len(loss_history[\"train\"]) + 1)\n",
    "\n",
    "plt.figure(figsize=(12, 5))\n",
    "\n",
    "# Loss plot\n",
    "plt.subplot(1, 2, 1)\n",
    "plt.plot(epochs, loss_history[\"train\"], label='Train Loss')\n",
    "plt.plot(epochs, loss_history[\"val\"], label='Validation Loss')\n",
    "plt.xlabel('Epoch')\n",
    "plt.ylabel('Loss')\n",
    "plt.title('Train / Validation Loss')\n",
    "plt.legend()\n",
    "\n",
    "# Accuracy plot\n",
    "plt.subplot(1, 2, 2)\n",
    "plt.plot(epochs, acc_history[\"train\"], label='Train Acc')\n",
    "plt.plot(epochs, acc_history[\"val\"], label='Validation Acc')\n",
    "plt.xlabel('Epoch')\n",
    "plt.ylabel('Accuracy (%)')\n",
    "plt.title('Train / Validation Accuracy')\n",
    "plt.legend()\n",
    "\n",
    "plt.tight_layout()\n",
    "plt.show()"
   ],
   "id": "22b3b2b54ec36d64",
   "outputs": [
    {
     "name": "stdout",
     "output_type": "stream",
     "text": [
      "Epoch: 1, current_LR = 0.002\n"
     ]
    },
    {
     "name": "stderr",
     "output_type": "stream",
     "text": [
      "                                                  \r"
     ]
    },
    {
     "name": "stdout",
     "output_type": "stream",
     "text": [
      "train loss: 1.73217, val loss: 1.40533 \n",
      "train acc: 36.6 %, val acc: 47.8 %, time: 6 s\n",
      "--------------------\n",
      "Epoch: 2, current_LR = 0.002\n"
     ]
    },
    {
     "name": "stderr",
     "output_type": "stream",
     "text": [
      "                                                  \r"
     ]
    },
    {
     "name": "stdout",
     "output_type": "stream",
     "text": [
      "train loss: 1.31879, val loss: 1.15612 \n",
      "train acc: 52.5 %, val acc: 57.9 %, time: 6 s\n",
      "--------------------\n",
      "Epoch: 3, current_LR = 0.002\n"
     ]
    },
    {
     "name": "stderr",
     "output_type": "stream",
     "text": [
      "                                                  \r"
     ]
    },
    {
     "name": "stdout",
     "output_type": "stream",
     "text": [
      "train loss: 1.10392, val loss: 0.9995 \n",
      "train acc: 60.9 %, val acc: 65.3 %, time: 6 s\n",
      "--------------------\n",
      "Epoch: 4, current_LR = 0.002\n"
     ]
    },
    {
     "name": "stderr",
     "output_type": "stream",
     "text": [
      "                                                  \r"
     ]
    },
    {
     "name": "stdout",
     "output_type": "stream",
     "text": [
      "train loss: 0.95485, val loss: 0.88678 \n",
      "train acc: 67.0 %, val acc: 69.1 %, time: 6 s\n",
      "--------------------\n",
      "Epoch: 5, current_LR = 0.002\n"
     ]
    },
    {
     "name": "stderr",
     "output_type": "stream",
     "text": [
      "                                                  \r"
     ]
    },
    {
     "name": "stdout",
     "output_type": "stream",
     "text": [
      "train loss: 0.82697, val loss: 0.84582 \n",
      "train acc: 71.4 %, val acc: 70.5 %, time: 6 s\n",
      "--------------------\n",
      "Epoch: 6, current_LR = 0.002\n"
     ]
    },
    {
     "name": "stderr",
     "output_type": "stream",
     "text": [
      "                                                  \r"
     ]
    },
    {
     "name": "stdout",
     "output_type": "stream",
     "text": [
      "train loss: 0.72241, val loss: 0.75825 \n",
      "train acc: 75.3 %, val acc: 74.8 %, time: 6 s\n",
      "--------------------\n",
      "Epoch: 7, current_LR = 0.002\n"
     ]
    },
    {
     "name": "stderr",
     "output_type": "stream",
     "text": [
      "                                                  \r"
     ]
    },
    {
     "name": "stdout",
     "output_type": "stream",
     "text": [
      "train loss: 0.64081, val loss: 0.65273 \n",
      "train acc: 78.3 %, val acc: 77.2 %, time: 6 s\n",
      "--------------------\n",
      "Epoch: 8, current_LR = 0.002\n"
     ]
    },
    {
     "name": "stderr",
     "output_type": "stream",
     "text": [
      "                                                  \r"
     ]
    },
    {
     "name": "stdout",
     "output_type": "stream",
     "text": [
      "train loss: 0.56482, val loss: 0.61373 \n",
      "train acc: 80.9 %, val acc: 79.1 %, time: 6 s\n",
      "--------------------\n",
      "Epoch: 9, current_LR = 0.002\n"
     ]
    },
    {
     "name": "stderr",
     "output_type": "stream",
     "text": [
      "                                                  \r"
     ]
    },
    {
     "name": "stdout",
     "output_type": "stream",
     "text": [
      "train loss: 0.49872, val loss: 0.61514 \n",
      "train acc: 83.2 %, val acc: 79.0 %, time: 6 s\n",
      "--------------------\n",
      "Epoch: 10, current_LR = 0.002\n"
     ]
    },
    {
     "name": "stderr",
     "output_type": "stream",
     "text": [
      "                                                  \r"
     ]
    },
    {
     "name": "stdout",
     "output_type": "stream",
     "text": [
      "train loss: 0.42785, val loss: 0.73815 \n",
      "train acc: 85.5 %, val acc: 76.9 %, time: 6 s\n",
      "--------------------\n",
      "Epoch: 11, current_LR = 0.002\n"
     ]
    },
    {
     "name": "stderr",
     "output_type": "stream",
     "text": [
      "                                                  \r"
     ]
    },
    {
     "name": "stdout",
     "output_type": "stream",
     "text": [
      "train loss: 0.38765, val loss: 0.72496 \n",
      "train acc: 86.8 %, val acc: 78.7 %, time: 6 s\n",
      "--------------------\n",
      "Epoch: 12, current_LR = 0.002\n"
     ]
    },
    {
     "name": "stderr",
     "output_type": "stream",
     "text": [
      "                                                  \r"
     ]
    },
    {
     "name": "stdout",
     "output_type": "stream",
     "text": [
      "train loss: 0.33717, val loss: 0.63771 \n",
      "train acc: 88.4 %, val acc: 80.2 %, time: 6 s\n",
      "--------------------\n",
      "Epoch: 13, current_LR = 0.002\n"
     ]
    },
    {
     "name": "stderr",
     "output_type": "stream",
     "text": [
      "                                                  \r"
     ]
    },
    {
     "name": "stdout",
     "output_type": "stream",
     "text": [
      "train loss: 0.29315, val loss: 0.61641 \n",
      "train acc: 89.8 %, val acc: 81.8 %, time: 6 s\n",
      "--------------------\n",
      "Epoch: 14, current_LR = 0.002\n"
     ]
    },
    {
     "name": "stderr",
     "output_type": "stream",
     "text": [
      "                                                  \r"
     ]
    },
    {
     "name": "stdout",
     "output_type": "stream",
     "text": [
      "train loss: 0.25646, val loss: 0.64937 \n",
      "train acc: 91.2 %, val acc: 80.3 %, time: 6 s\n",
      "--------------------\n",
      "Epoch: 15, current_LR = 0.002\n"
     ]
    },
    {
     "name": "stderr",
     "output_type": "stream",
     "text": [
      "                                                  \r"
     ]
    },
    {
     "name": "stdout",
     "output_type": "stream",
     "text": [
      "train loss: 0.2268, val loss: 0.73729 \n",
      "train acc: 92.3 %, val acc: 79.5 %, time: 6 s\n",
      "--------------------\n",
      "Epoch: 16, current_LR = 0.002\n"
     ]
    },
    {
     "name": "stderr",
     "output_type": "stream",
     "text": [
      "                                                  \r"
     ]
    },
    {
     "name": "stdout",
     "output_type": "stream",
     "text": [
      "train loss: 0.20527, val loss: 0.68646 \n",
      "train acc: 92.9 %, val acc: 80.7 %, time: 6 s\n",
      "--------------------\n",
      "Epoch: 17, current_LR = 0.002\n"
     ]
    },
    {
     "name": "stderr",
     "output_type": "stream",
     "text": [
      "                                                  \r"
     ]
    },
    {
     "name": "stdout",
     "output_type": "stream",
     "text": [
      "train loss: 0.18111, val loss: 0.72179 \n",
      "train acc: 93.8 %, val acc: 81.5 %, time: 6 s\n",
      "--------------------\n",
      "Epoch: 18, current_LR = 0.002\n"
     ]
    },
    {
     "name": "stderr",
     "output_type": "stream",
     "text": [
      "                                                  \r"
     ]
    },
    {
     "name": "stdout",
     "output_type": "stream",
     "text": [
      "train loss: 0.16577, val loss: 0.76519 \n",
      "train acc: 94.3 %, val acc: 81.7 %, time: 6 s\n",
      "--------------------\n",
      "Epoch: 19, current_LR = 0.002\n"
     ]
    },
    {
     "name": "stderr",
     "output_type": "stream",
     "text": [
      "                                                  \r"
     ]
    },
    {
     "name": "stdout",
     "output_type": "stream",
     "text": [
      "train loss: 0.15142, val loss: 0.85422 \n",
      "train acc: 94.8 %, val acc: 80.0 %, time: 6 s\n",
      "--------------------\n",
      "Epoch: 20, current_LR = 0.002\n"
     ]
    },
    {
     "name": "stderr",
     "output_type": "stream",
     "text": [
      "                                                  \r"
     ]
    },
    {
     "name": "stdout",
     "output_type": "stream",
     "text": [
      "train loss: 0.14298, val loss: 0.88765 \n",
      "train acc: 95.1 %, val acc: 80.1 %, time: 6 s\n",
      "--------------------\n",
      "Epoch: 21, current_LR = 0.002\n"
     ]
    },
    {
     "name": "stderr",
     "output_type": "stream",
     "text": [
      "                                                  \r"
     ]
    },
    {
     "name": "stdout",
     "output_type": "stream",
     "text": [
      "train loss: 0.13077, val loss: 0.83517 \n",
      "train acc: 95.7 %, val acc: 81.7 %, time: 6 s\n",
      "--------------------\n",
      "Epoch: 22, current_LR = 0.002\n"
     ]
    },
    {
     "name": "stderr",
     "output_type": "stream",
     "text": [
      "                                                  \r"
     ]
    },
    {
     "name": "stdout",
     "output_type": "stream",
     "text": [
      "train loss: 0.12096, val loss: 0.86938 \n",
      "train acc: 95.9 %, val acc: 80.5 %, time: 6 s\n",
      "--------------------\n",
      "Epoch: 23, current_LR = 0.002\n"
     ]
    },
    {
     "name": "stderr",
     "output_type": "stream",
     "text": [
      "                                                  \r"
     ]
    },
    {
     "name": "stdout",
     "output_type": "stream",
     "text": [
      "train loss: 0.10948, val loss: 0.96774 \n",
      "train acc: 96.3 %, val acc: 81.3 %, time: 6 s\n",
      "--------------------\n",
      "Epoch: 24, current_LR = 0.002\n"
     ]
    },
    {
     "name": "stderr",
     "output_type": "stream",
     "text": [
      "                                                  \r"
     ]
    },
    {
     "name": "stdout",
     "output_type": "stream",
     "text": [
      "train loss: 0.1148, val loss: 0.89385 \n",
      "train acc: 96.3 %, val acc: 80.8 %, time: 6 s\n",
      "--------------------\n",
      "Epoch: 25, current_LR = 0.002\n"
     ]
    },
    {
     "name": "stderr",
     "output_type": "stream",
     "text": [
      "                                                  \r"
     ]
    },
    {
     "name": "stdout",
     "output_type": "stream",
     "text": [
      "train loss: 0.10693, val loss: 0.92668 \n",
      "train acc: 96.5 %, val acc: 82.0 %, time: 6 s\n",
      "--------------------\n",
      "Epoch: 26, current_LR = 0.002\n"
     ]
    },
    {
     "name": "stderr",
     "output_type": "stream",
     "text": [
      "                                                  \r"
     ]
    },
    {
     "name": "stdout",
     "output_type": "stream",
     "text": [
      "train loss: 0.09424, val loss: 0.90401 \n",
      "train acc: 96.9 %, val acc: 81.6 %, time: 6 s\n",
      "--------------------\n",
      "Epoch: 27, current_LR = 0.002\n"
     ]
    },
    {
     "name": "stderr",
     "output_type": "stream",
     "text": [
      "                                                  \r"
     ]
    },
    {
     "name": "stdout",
     "output_type": "stream",
     "text": [
      "train loss: 0.08733, val loss: 0.99149 \n",
      "train acc: 97.1 %, val acc: 81.0 %, time: 6 s\n",
      "--------------------\n",
      "Epoch: 28, current_LR = 0.002\n"
     ]
    },
    {
     "name": "stderr",
     "output_type": "stream",
     "text": [
      "                                                  \r"
     ]
    },
    {
     "name": "stdout",
     "output_type": "stream",
     "text": [
      "train loss: 0.09401, val loss: 0.90494 \n",
      "train acc: 97.0 %, val acc: 81.4 %, time: 6 s\n",
      "--------------------\n",
      "Epoch: 29, current_LR = 0.002\n"
     ]
    },
    {
     "name": "stderr",
     "output_type": "stream",
     "text": [
      "                                                  \r"
     ]
    },
    {
     "name": "stdout",
     "output_type": "stream",
     "text": [
      "train loss: 0.09091, val loss: 0.97671 \n",
      "train acc: 97.2 %, val acc: 80.8 %, time: 6 s\n",
      "--------------------\n",
      "Epoch: 30, current_LR = 0.002\n"
     ]
    },
    {
     "name": "stderr",
     "output_type": "stream",
     "text": [
      "                                                  \r"
     ]
    },
    {
     "name": "stdout",
     "output_type": "stream",
     "text": [
      "train loss: 0.07826, val loss: 1.03008 \n",
      "train acc: 97.4 %, val acc: 81.8 %, time: 6 s\n",
      "--------------------\n"
     ]
    },
    {
     "data": {
      "text/plain": [
       "<Figure size 1200x500 with 2 Axes>"
      ],
      "image/png": "[encoded data removed]"
     },
     "metadata": {},
     "output_type": "display_data"
    }
   ],
   "execution_count": 67
  },
  {
   "metadata": {
    "ExecuteTime": {
     "end_time": "2025-05-22T04:27:43.712587Z",
     "start_time": "2025-05-22T04:27:42.367960Z"
    }
   },
   "cell_type": "code",
   "source": "Test(model, test_DL, criterion)",
   "id": "90c911f8f58ff0c",
   "outputs": [
    {
     "name": "stderr",
     "output_type": "stream",
     "text": [
      "                                                  "
     ]
    },
    {
     "name": "stdout",
     "output_type": "stream",
     "text": [
      "\n",
      "Test loss: 0.91606\n",
      "Test accuracy: 8392/10000 (83.9 %)\n"
     ]
    },
    {
     "name": "stderr",
     "output_type": "stream",
     "text": [
      "\r"
     ]
    },
    {
     "data": {
      "text/plain": [
       "83.9"
      ]
     },
     "execution_count": 13,
     "metadata": {},
     "output_type": "execute_result"
    }
   ],
   "execution_count": 13
  },
  {
   "metadata": {
    "ExecuteTime": {
     "end_time": "2025-05-22T04:50:43.437494Z",
     "start_time": "2025-05-22T04:50:42.660394Z"
    }
   },
   "cell_type": "code",
   "source": "Test(model, test_DL, criterion)",
   "id": "24431e8193027eb4",
   "outputs": [
    {
     "name": "stderr",
     "output_type": "stream",
     "text": [
      "                                                  "
     ]
    },
    {
     "name": "stdout",
     "output_type": "stream",
     "text": [
      "\n",
      "Test loss: 1.08913\n",
      "Test accuracy: 8159/10000 (81.6 %)\n"
     ]
    },
    {
     "name": "stderr",
     "output_type": "stream",
     "text": [
      "\r"
     ]
    },
    {
     "data": {
      "text/plain": [
       "81.6"
      ]
     },
     "execution_count": 68,
     "metadata": {},
     "output_type": "execute_result"
    }
   ],
   "execution_count": 68
  },
  {
   "metadata": {
    "ExecuteTime": {
     "end_time": "2025-05-22T03:41:19.058392Z",
     "start_time": "2025-05-22T03:41:18.200594Z"
    }
   },
   "cell_type": "code",
   "source": "Test(model, test_DL, criterion)",
   "id": "d16a8c662bd5f645",
   "outputs": [
    {
     "name": "stderr",
     "output_type": "stream",
     "text": [
      "                                                  "
     ]
    },
    {
     "name": "stdout",
     "output_type": "stream",
     "text": [
      "\n",
      "Test loss: 1.16485\n",
      "Test accuracy: 8058/10000 (80.6 %)\n"
     ]
    },
    {
     "name": "stderr",
     "output_type": "stream",
     "text": [
      "\r"
     ]
    },
    {
     "data": {
      "text/plain": [
       "80.6"
      ]
     },
     "execution_count": 82,
     "metadata": {},
     "output_type": "execute_result"
    }
   ],
   "execution_count": 82
  },
  {
   "metadata": {
    "ExecuteTime": {
     "end_time": "2025-05-22T04:50:57.693375Z",
     "start_time": "2025-05-22T04:50:57.609552Z"
    }
   },
   "cell_type": "code",
   "source": [
    "Test_plot(model, test_DL)\n",
    "print(count_params(model))"
   ],
   "id": "1d44ada2cbbfe1e1",
   "outputs": [
    {
     "name": "stdout",
     "output_type": "stream",
     "text": [
      "1349910\n"
     ]
    },
    {
     "data": {
      "text/plain": [
       "<Figure size 800x400 with 6 Axes>"
      ],
      "image/png": "[encoded data removed]"
     },
     "metadata": {},
     "output_type": "display_data"
    }
   ],
   "execution_count": 71
  },
  {
   "metadata": {
    "ExecuteTime": {
     "end_time": "2025-05-22T04:51:02.291417Z",
     "start_time": "2025-05-22T04:51:02.289743Z"
    }
   },
   "cell_type": "code",
   "source": "",
   "id": "6883de2a4e9aecff",
   "outputs": [],
   "execution_count": null
  },
  {
   "metadata": {},
   "cell_type": "code",
   "outputs": [],
   "execution_count": null,
   "source": "",
   "id": "5964be743e42f9be"
  }
 ],
 "metadata": {
  "kernelspec": {
   "display_name": "Python 3",
   "language": "python",
   "name": "python3"
  },
  "language_info": {
   "codemirror_mode": {
    "name": "ipython",
    "version": 2
   },
   "file_extension": ".py",
   "mimetype": "text/x-python",
   "name": "python",
   "nbconvert_exporter": "python",
   "pygments_lexer": "ipython2",
   "version": "2.7.6"
  }
 },
 "nbformat": 4,
 "nbformat_minor": 5
}
