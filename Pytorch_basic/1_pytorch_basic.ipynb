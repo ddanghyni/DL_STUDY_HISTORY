{
 "cells": [
  {
   "metadata": {},
   "cell_type": "markdown",
   "source": "## Numpy와 닮은 pytorch",
   "id": "610ff98f68642c65"
  },
  {
   "metadata": {
    "ExecuteTime": {
     "end_time": "2025-05-22T03:58:48.681495Z",
     "start_time": "2025-05-22T03:58:48.137156Z"
    }
   },
   "cell_type": "code",
   "source": [
    "from ast import Suite\n",
    "\n",
    "import torch\n",
    "print(torch.__version__)"
   ],
   "id": "714340dc6467493b",
   "outputs": [
    {
     "name": "stdout",
     "output_type": "stream",
     "text": [
      "2.7.0\n"
     ]
    }
   ],
   "execution_count": 1
  },
  {
   "metadata": {
    "ExecuteTime": {
     "end_time": "2025-05-07T13:02:51.070226Z",
     "start_time": "2025-05-07T13:02:51.066534Z"
    }
   },
   "cell_type": "code",
   "source": [
    "a = torch.tensor([1, 2, 3, 4])\n",
    "print(a)\n",
    "print(type(a))\n",
    "print(a.dtype)\n",
    "print(a.shape) # .shape -> 지겹게 볼 녀석..\n",
    "\n",
    "b = torch.tensor([1, 2, 3.1, 4])\n",
    "print(b)\n",
    "print(b.dtype) # 하나라도 실수면 자동으로 실수 타입으로.."
   ],
   "id": "8d9e627d63812d41",
   "outputs": [
    {
     "name": "stdout",
     "output_type": "stream",
     "text": [
      "tensor([1, 2, 3, 4])\n",
      "<class 'torch.Tensor'>\n",
      "torch.int64\n",
      "torch.Size([4])\n",
      "tensor([1.0000, 2.0000, 3.1000, 4.0000])\n",
      "torch.float32\n"
     ]
    }
   ],
   "execution_count": 5
  },
  {
   "metadata": {
    "ExecuteTime": {
     "end_time": "2025-05-07T13:06:54.559481Z",
     "start_time": "2025-05-07T13:06:54.555971Z"
    }
   },
   "cell_type": "code",
   "source": [
    "A = torch.tensor([ [1, 2], [3, 4]]) # 리스트와는 달리 이제는 행렬이라서 각 행에 해당하는 숫자의 개수가 같아야함 -> 당연한거쥬?\n",
    "# A = torch.tensor([ [1, 2], [3, 4, 5]]) # -> error\n",
    "print(A)\n",
    "print(A.shape)\n",
    "print(A.ndim) # 차원의 수\n",
    "print(A.numel()) # 전체 성분의 수"
   ],
   "id": "d19fde39ba46974c",
   "outputs": [
    {
     "name": "stdout",
     "output_type": "stream",
     "text": [
      "tensor([[1, 2],\n",
      "        [3, 4]])\n",
      "torch.Size([2, 2])\n",
      "2\n",
      "4\n"
     ]
    }
   ],
   "execution_count": 8
  },
  {
   "metadata": {
    "ExecuteTime": {
     "end_time": "2025-05-07T13:11:50.347994Z",
     "start_time": "2025-05-07T13:11:50.342708Z"
    }
   },
   "cell_type": "code",
   "source": [
    "print(torch.zeros(5))\n",
    "print(torch.zeros_like(A))\n",
    "print(torch.ones(5))\n",
    "print(torch.ones((3, 3)))\n",
    "print(torch.zeros((3,3))) # 3 by 3 of 0\n",
    "print(torch.arange(3, 10 ,2))\n",
    "print(torch.arange(0, 1, 0.1))\n",
    "print(torch.linspace(0, 1, 10))"
   ],
   "id": "b3fc5ce5ca028201",
   "outputs": [
    {
     "name": "stdout",
     "output_type": "stream",
     "text": [
      "tensor([0., 0., 0., 0., 0.])\n",
      "tensor([[0, 0],\n",
      "        [0, 0]])\n",
      "tensor([1., 1., 1., 1., 1.])\n",
      "tensor([[1., 1., 1.],\n",
      "        [1., 1., 1.],\n",
      "        [1., 1., 1.]])\n",
      "tensor([[0., 0., 0.],\n",
      "        [0., 0., 0.],\n",
      "        [0., 0., 0.]])\n",
      "tensor([3, 5, 7, 9])\n",
      "tensor([0.0000, 0.1000, 0.2000, 0.3000, 0.4000, 0.5000, 0.6000, 0.7000, 0.8000,\n",
      "        0.9000])\n",
      "tensor([0.0000, 0.1111, 0.2222, 0.3333, 0.4444, 0.5556, 0.6667, 0.7778, 0.8889,\n",
      "        1.0000])\n"
     ]
    }
   ],
   "execution_count": 15
  },
  {
   "metadata": {
    "ExecuteTime": {
     "end_time": "2025-05-07T13:12:21.966471Z",
     "start_time": "2025-05-07T13:12:21.963051Z"
    }
   },
   "cell_type": "code",
   "source": [
    "a = torch.tensor([1, 2, 3])\n",
    "b = torch.tensor([4, 5, 6])\n",
    "print(a + b)"
   ],
   "id": "838737f6e054212e",
   "outputs": [
    {
     "name": "stdout",
     "output_type": "stream",
     "text": [
      "tensor([5, 7, 9])\n"
     ]
    }
   ],
   "execution_count": 17
  },
  {
   "metadata": {
    "ExecuteTime": {
     "end_time": "2025-05-07T13:15:12.002320Z",
     "start_time": "2025-05-07T13:15:11.995154Z"
    }
   },
   "cell_type": "code",
   "source": [
    "# 각 성분끼리의 여러 연산들\n",
    "A = torch.tensor([[1, 2, 3], [4, 5, 6]])\n",
    "B = torch.tensor([[4, 5, 6], [7, 8, 9]])\n",
    "\n",
    "print(A + B)\n",
    "print(A * B) # 성분끼리의 곱..!\n",
    "print(A / B)\n",
    "print(B ** 2)"
   ],
   "id": "fe543b8e94916862",
   "outputs": [
    {
     "name": "stdout",
     "output_type": "stream",
     "text": [
      "tensor([[ 5,  7,  9],\n",
      "        [11, 13, 15]])\n",
      "tensor([[ 4, 10, 18],\n",
      "        [28, 40, 54]])\n",
      "tensor([[0.2500, 0.4000, 0.5000],\n",
      "        [0.5714, 0.6250, 0.6667]])\n",
      "tensor([[16, 25, 36],\n",
      "        [49, 64, 81]])\n"
     ]
    }
   ],
   "execution_count": 18
  },
  {
   "metadata": {
    "ExecuteTime": {
     "end_time": "2025-05-07T13:18:05.521375Z",
     "start_time": "2025-05-07T13:18:05.515798Z"
    }
   },
   "cell_type": "code",
   "source": [
    "A = torch.tensor([[1, 2, 3], [4, 5, 6]]) # 2 by 3\n",
    "B = torch.tensor([[1, 2], [3, 4], [5, 6]]) # 3 by 2\n",
    "# print(A * B) # 두 행렬의 shape이 다르니깐 element wise product 안됨.\n",
    "print(A @ B) # 찐 행렬 곱"
   ],
   "id": "57c52fd03a57aaa9",
   "outputs": [
    {
     "name": "stdout",
     "output_type": "stream",
     "text": [
      "tensor([[22, 28],\n",
      "        [49, 64]])\n"
     ]
    }
   ],
   "execution_count": 20
  },
  {
   "metadata": {},
   "cell_type": "markdown",
   "source": "## Pytorch의 인덱싱 슬라이스",
   "id": "8a16e9f171e8ee42"
  },
  {
   "metadata": {
    "ExecuteTime": {
     "end_time": "2025-05-07T13:24:07.768439Z",
     "start_time": "2025-05-07T13:24:07.763897Z"
    }
   },
   "cell_type": "code",
   "source": [
    "a = torch.arange(1, 10)\n",
    "print(a)\n",
    "print(a[0])\n",
    "print(a[1])\n",
    "print(a[-1])\n",
    "print(a[1:4])\n",
    "print(a[7:])\n",
    "print(a[:])"
   ],
   "id": "3680f583a10bfbe9",
   "outputs": [
    {
     "name": "stdout",
     "output_type": "stream",
     "text": [
      "tensor([1, 2, 3, 4, 5, 6, 7, 8, 9])\n",
      "tensor(1)\n",
      "tensor(2)\n",
      "tensor(9)\n",
      "tensor([2, 3, 4])\n",
      "tensor([8, 9])\n",
      "tensor([1, 2, 3, 4, 5, 6, 7, 8, 9])\n"
     ]
    }
   ],
   "execution_count": 25
  },
  {
   "metadata": {
    "ExecuteTime": {
     "end_time": "2025-05-07T13:30:52.592699Z",
     "start_time": "2025-05-07T13:30:52.587762Z"
    }
   },
   "cell_type": "code",
   "source": [
    "# 행렬에 대한 인덱싱과 슬라이싱\n",
    "A = torch.tensor([[1, 2, 3],\n",
    "                  [4, 5, 6],\n",
    "                  [7, 8, 9]])\n",
    "\n",
    "print(A[0]) # 하나만 쓰면 행에 대한 인덱싱\n",
    "print(A[-1])\n",
    "print(A[1: ])\n",
    "print(A[:])\n",
    "print(A[0][2])\n",
    "print(A[0, 2])\n",
    "\n",
    "# 다음 두 예제 차이점 확인하기\n",
    "print(A[: ,2])\n",
    "print(A[:][2])\n",
    "\n",
    "print(A[:, [1, 2]])"
   ],
   "id": "239894c852f5458c",
   "outputs": [
    {
     "name": "stdout",
     "output_type": "stream",
     "text": [
      "tensor([1, 2, 3])\n",
      "tensor([7, 8, 9])\n",
      "tensor([[4, 5, 6],\n",
      "        [7, 8, 9]])\n",
      "tensor([[1, 2, 3],\n",
      "        [4, 5, 6],\n",
      "        [7, 8, 9]])\n",
      "tensor(3)\n",
      "tensor(3)\n",
      "tensor([3, 6, 9])\n",
      "tensor([[2, 3],\n",
      "        [5, 6],\n",
      "        [8, 9]])\n",
      "tensor([7, 8, 9])\n"
     ]
    }
   ],
   "execution_count": 36
  },
  {
   "metadata": {
    "ExecuteTime": {
     "end_time": "2025-05-07T13:34:20.617562Z",
     "start_time": "2025-05-07T13:34:20.613255Z"
    }
   },
   "cell_type": "code",
   "source": [
    "# 3차원 행렬 인덱싱\n",
    "A = torch.tensor([ [[0,1,2,3],[4,5,6,7],[8,9,10,11]] ,\n",
    "             [[12,13,14,15],[16,17,18,19],[20,21,22,23]] ])\n",
    "\n",
    "print(A)\n",
    "print(A.shape) # (chanel, row, col)\n",
    "print(A[0, 1, 2]) # 0 번째 chanel의 1 행의 2열 원소\n",
    "\n",
    "a=torch.tensor([[[1,2,3,4]]])\n",
    "print(a.shape)"
   ],
   "id": "fbf3ff97608a3b7b",
   "outputs": [
    {
     "name": "stdout",
     "output_type": "stream",
     "text": [
      "tensor([[[ 0,  1,  2,  3],\n",
      "         [ 4,  5,  6,  7],\n",
      "         [ 8,  9, 10, 11]],\n",
      "\n",
      "        [[12, 13, 14, 15],\n",
      "         [16, 17, 18, 19],\n",
      "         [20, 21, 22, 23]]])\n",
      "torch.Size([2, 3, 4])\n",
      "tensor(6)\n",
      "torch.Size([1, 1, 4])\n"
     ]
    }
   ],
   "execution_count": 38
  },
  {
   "metadata": {
    "ExecuteTime": {
     "end_time": "2025-05-07T13:38:31.216876Z",
     "start_time": "2025-05-07T13:38:31.206875Z"
    }
   },
   "cell_type": "code",
   "source": [
    "# boolean 인덱싱\n",
    "a=[1,2,3,4,5,3,3]\n",
    "print(a==3) # 여러개 값 들어있는 리스트랑 3 달랑 하나랑 같냐? 다르다!\n",
    "A=torch.tensor([[1,2,3,4],[5,3,7,3]])\n",
    "print(A==3) # 리스트와 달리 각 성분에 대해 비교해줌\n",
    "print(A[A==3]) # True, False가 담긴 행렬로 인덱싱 가능!!\n",
    "\n",
    "A[A==3] = 100\n",
    "print(A) # 그러면 이런 것도 가능하다! (3과 같은 애를 100으로 바꿔줘)\n",
    "\n",
    "A=torch.tensor([[1,2],\n",
    "                [3,4],\n",
    "                [5,6],\n",
    "                [7,8]])\n",
    "B=torch.tensor([True, False, False, True]) # 참고로 그냥 리스트여도 됨\n",
    "print(A[B,:]) # 0행, 3행 슬라이싱\n",
    "\n",
    "b=torch.tensor([1,2,3,4])\n",
    "print(b[ [True,True,False,False] ])\n",
    "c=[1,2,3,4]\n",
    "# c[[True,True,False,False]] # error!"
   ],
   "id": "8b50e26cbeb5c098",
   "outputs": [
    {
     "name": "stdout",
     "output_type": "stream",
     "text": [
      "False\n",
      "tensor([[False, False,  True, False],\n",
      "        [False,  True, False,  True]])\n",
      "tensor([3, 3, 3])\n",
      "tensor([[  1,   2, 100,   4],\n",
      "        [  5, 100,   7, 100]])\n",
      "tensor([[1, 2],\n",
      "        [7, 8]])\n",
      "tensor([1, 2])\n"
     ]
    }
   ],
   "execution_count": 39
  },
  {
   "metadata": {
    "ExecuteTime": {
     "end_time": "2025-05-07T13:41:00.950772Z",
     "start_time": "2025-05-07T13:41:00.945804Z"
    }
   },
   "cell_type": "code",
   "source": [
    "# tensor로 인덱싱\n",
    "a=torch.tensor([1,2,3,4,5])\n",
    "A=a[2]\n",
    "print(A)\n",
    "A=a[ torch.tensor(2) ] # torch.tensor 안에다가?\n",
    "print(A)\n",
    "A=a[ torch.tensor([2,3,4]) ]\n",
    "print(A)\n",
    "A=a[ torch.tensor([[2,2,2],[3,3,3]]) ]\n",
    "print(A) # 인덱싱된 애들로 2행 3열짜리 행렬을 만든다\n",
    "\n",
    "a=[1,2,3]\n",
    "# a[ [1,1,1,1,2,2,2] ] # error!\n",
    "\n",
    "a=torch.tensor([[1,2,3],\n",
    "                [4,5,6]])\n",
    "print(a[0])\n",
    "\n",
    "#! 와우\n",
    "A=a[ torch.tensor([[0,1],\n",
    "                   [1,1]]) ]\n",
    "# [0, 1] -> 0행 1행으로 chanel 하나 구성, [1, 1] -> 1행 1행으로 chanel 하나 더 구성\n",
    "\n",
    "print(A.shape) # 예를 들어, a[0] = tensor([1,2,3])과 같이 1차원 데이터이므로 한 차원이 뒤에 늘어나서 2,2, \"3\" 이 된다!\n",
    "print(A) # segmentation 결과 그림 보여줄 때 사용!"
   ],
   "id": "2cca274817e46d74",
   "outputs": [
    {
     "name": "stdout",
     "output_type": "stream",
     "text": [
      "tensor(3)\n",
      "tensor(3)\n",
      "tensor([3, 4, 5])\n",
      "tensor([[3, 3, 3],\n",
      "        [4, 4, 4]])\n",
      "tensor([1, 2, 3])\n",
      "torch.Size([2, 2, 3])\n",
      "tensor([[[1, 2, 3],\n",
      "         [4, 5, 6]],\n",
      "\n",
      "        [[4, 5, 6],\n",
      "         [4, 5, 6]]])\n"
     ]
    }
   ],
   "execution_count": 40
  },
  {
   "metadata": {
    "ExecuteTime": {
     "end_time": "2025-05-07T13:44:53.574148Z",
     "start_time": "2025-05-07T13:44:53.568633Z"
    }
   },
   "cell_type": "code",
   "source": [
    "A=torch.tensor([[1,2],[3,4],[5,6],[7,8]])\n",
    "print(A)\n",
    "print(A.shape)\n",
    "\n",
    "# 1. A[몇 번째 행이냐, 몇 번째 열이냐]\n",
    "print(A[0,1])\n",
    "# 2. A[ tensor(bool) ] => A와 같은 shape을 가지는 tensor형 bool이 어디에 True를 가지고 있냐\n",
    "print(A[ torch.tensor([[False,True],[False,False],[False,False],[False,False]]) ])\n",
    "print(A[A==2])\n",
    "# 3. A[몇 번째 값에 True가 있냐, 몇 번째 값에 True가 있냐]\n",
    "print(A[ [True,False,False,True], [False,True] ])\n",
    "# 4. A[ tensor ] # 몇 번째 것을 어떻게 쌓을거냐\n",
    "print(A[ torch.tensor([1,1,2,2,2]) ])"
   ],
   "id": "d03a7a5e2dd2f0ce",
   "outputs": [
    {
     "name": "stdout",
     "output_type": "stream",
     "text": [
      "tensor([[1, 2],\n",
      "        [3, 4],\n",
      "        [5, 6],\n",
      "        [7, 8]])\n",
      "torch.Size([4, 2])\n",
      "tensor(2)\n",
      "tensor([2])\n",
      "tensor([2])\n",
      "tensor([2, 8])\n",
      "tensor([[3, 4],\n",
      "        [3, 4],\n",
      "        [5, 6],\n",
      "        [5, 6],\n",
      "        [5, 6]])\n"
     ]
    }
   ],
   "execution_count": 41
  },
  {
   "metadata": {},
   "cell_type": "markdown",
   "source": "## Pytorch의 여러 함수들\n",
   "id": "cfe984377512fd6b"
  },
  {
   "metadata": {
    "ExecuteTime": {
     "end_time": "2025-05-09T14:47:31.980495Z",
     "start_time": "2025-05-09T14:47:31.975669Z"
    }
   },
   "cell_type": "code",
   "source": [
    "import random\n",
    "random.seed(12345)\n",
    "A = torch.randn(3, 3)  # normal -> from N(0,0)\n",
    "A_ = torch.randn(3, 3) + 10 # from N(10,0)\n",
    "A__ = torch.randn(3, 3) * 2 + 10 # from N(10, 2)\n",
    "B = torch.rand(3, 3) # uniform\n",
    "\n",
    "print(A)\n",
    "print(A_)\n",
    "print(A__)\n",
    "print(B)\n",
    "\n",
    "print(A[A[:, 0] < 0, :])"
   ],
   "id": "68e55b6f073aad47",
   "outputs": [
    {
     "name": "stdout",
     "output_type": "stream",
     "text": [
      "tensor([[-0.2544, -1.3183, -0.3435],\n",
      "        [ 0.6113,  0.1768,  0.3762],\n",
      "        [ 2.0800,  1.1721, -1.2036]])\n",
      "tensor([[ 9.9426,  9.1565,  7.8947],\n",
      "        [10.9868,  9.9789, 10.5273],\n",
      "        [ 9.8790, 10.7619, 11.0735]])\n",
      "tensor([[ 9.2190, 11.8505, 10.9910],\n",
      "        [10.3727,  6.5629,  8.9750],\n",
      "        [10.2523, 11.3979,  8.6241]])\n",
      "tensor([[0.5693, 0.3427, 0.6763],\n",
      "        [0.2189, 0.0231, 0.2305],\n",
      "        [0.4941, 0.0743, 0.6917]])\n",
      "tensor([[-0.2544, -1.3183, -0.3435]])\n"
     ]
    }
   ],
   "execution_count": 14
  },
  {
   "metadata": {
    "ExecuteTime": {
     "end_time": "2025-05-09T14:50:26.493816Z",
     "start_time": "2025-05-09T14:50:26.488329Z"
    }
   },
   "cell_type": "code",
   "source": [
    "A=torch.randn(3,3)\n",
    "print(A)\n",
    "print(torch.abs(A))\n",
    "print(torch.sqrt(torch.abs(A)))\n",
    "print(torch.exp(A))\n",
    "print(torch.log(torch.abs(A)))\n",
    "print(torch.log(torch.exp(torch.tensor(1)))) # torch.exp(torch.tensor(1)) = e^1\n",
    "print(torch.log10(torch.tensor(10)))\n",
    "print(torch.log2(torch.tensor(2)))\n",
    "print(torch.round(A)) # 반올림\n",
    "print(torch.round(A, decimals=2)) # 소수점 둘째자리까지\n",
    "print(torch.floor(A)) # 내림\n",
    "print(torch.ceil(A)) # 올림"
   ],
   "id": "47ad33fd6e9dfc9a",
   "outputs": [
    {
     "name": "stdout",
     "output_type": "stream",
     "text": [
      "tensor([[-1.4349,  1.2663,  1.0191],\n",
      "        [-0.8751,  0.6025, -0.8530],\n",
      "        [-0.8788,  1.9465, -1.2330]])\n",
      "tensor([[1.4349, 1.2663, 1.0191],\n",
      "        [0.8751, 0.6025, 0.8530],\n",
      "        [0.8788, 1.9465, 1.2330]])\n",
      "tensor([[1.1979, 1.1253, 1.0095],\n",
      "        [0.9355, 0.7762, 0.9236],\n",
      "        [0.9374, 1.3952, 1.1104]])\n",
      "tensor([[0.2381, 3.5476, 2.7706],\n",
      "        [0.4168, 1.8267, 0.4261],\n",
      "        [0.4153, 7.0042, 0.2914]])\n",
      "tensor([[ 0.3611,  0.2361,  0.0189],\n",
      "        [-0.1334, -0.5066, -0.1590],\n",
      "        [-0.1292,  0.6660,  0.2094]])\n",
      "tensor(1.0000)\n",
      "tensor(1.)\n",
      "tensor(1.)\n",
      "tensor([[-1.,  1.,  1.],\n",
      "        [-1.,  1., -1.],\n",
      "        [-1.,  2., -1.]])\n",
      "tensor([[-1.4300,  1.2700,  1.0200],\n",
      "        [-0.8800,  0.6000, -0.8500],\n",
      "        [-0.8800,  1.9500, -1.2300]])\n",
      "tensor([[-2.,  1.,  1.],\n",
      "        [-1.,  0., -1.],\n",
      "        [-1.,  1., -2.]])\n",
      "tensor([[-1.,  2.,  2.],\n",
      "        [-0.,  1., -0.],\n",
      "        [-0.,  2., -1.]])\n"
     ]
    }
   ],
   "execution_count": 16
  },
  {
   "metadata": {
    "ExecuteTime": {
     "end_time": "2025-05-09T14:53:18.050170Z",
     "start_time": "2025-05-09T14:53:18.046069Z"
    }
   },
   "cell_type": "code",
   "source": [
    "print(torch.sin(torch.tensor(torch.pi/6))) # type(torch.pi) <- float임 만약 tensor와 연산하면 tensor로 바꿔줌\n",
    "print(torch.cos(torch.tensor(torch.pi/3)))\n",
    "print(torch.tan(torch.tensor(torch.pi/4)))\n",
    "print(torch.tanh(torch.tensor(-10)))\n",
    "\n",
    "print(type(torch.tensor(1)/6))\n",
    "print(type(torch.tensor(torch.pi / 6)))"
   ],
   "id": "9ce76bd8ab4f5215",
   "outputs": [
    {
     "name": "stdout",
     "output_type": "stream",
     "text": [
      "tensor(0.5000)\n",
      "tensor(0.5000)\n",
      "tensor(1.0000)\n",
      "tensor(-1.)\n",
      "<class 'torch.Tensor'>\n",
      "<class 'torch.Tensor'>\n"
     ]
    }
   ],
   "execution_count": 23
  },
  {
   "metadata": {
    "ExecuteTime": {
     "end_time": "2025-05-09T14:54:10.873039Z",
     "start_time": "2025-05-09T14:54:10.867284Z"
    }
   },
   "cell_type": "code",
   "source": [
    "torch.nan # not a number\n",
    "print(torch.log(torch.tensor(-1)))\n",
    "print(torch.isnan(torch.tensor([1,2,torch.nan,3,4])))\n",
    "print(torch.isinf(torch.tensor([1,2,3,4,torch.inf])))"
   ],
   "id": "4476ea9539d37e85",
   "outputs": [
    {
     "name": "stdout",
     "output_type": "stream",
     "text": [
      "tensor(nan)\n",
      "tensor([False, False,  True, False, False])\n",
      "tensor([False, False, False, False,  True])\n"
     ]
    }
   ],
   "execution_count": 24
  },
  {
   "metadata": {
    "ExecuteTime": {
     "end_time": "2025-05-09T14:56:39.509935Z",
     "start_time": "2025-05-09T14:56:39.506509Z"
    }
   },
   "cell_type": "code",
   "source": [
    "A=torch.randn(3,4)\n",
    "print(A)"
   ],
   "id": "7378734c64969f0b",
   "outputs": [
    {
     "name": "stdout",
     "output_type": "stream",
     "text": [
      "tensor([[-0.6835,  0.5690,  0.7161, -0.4581],\n",
      "        [ 0.6097, -0.8827, -1.0898, -0.3668],\n",
      "        [ 0.7610, -0.6947,  0.7119, -1.9444]])\n"
     ]
    }
   ],
   "execution_count": 26
  },
  {
   "metadata": {
    "ExecuteTime": {
     "end_time": "2025-05-09T15:04:02.240460Z",
     "start_time": "2025-05-09T15:04:02.238001Z"
    }
   },
   "cell_type": "code",
   "source": [
    "print(torch.max(A))\n",
    "print(A.max()) # 이걸 더 자주 쓴다"
   ],
   "id": "458ded2c0c6c0212",
   "outputs": [
    {
     "name": "stdout",
     "output_type": "stream",
     "text": [
      "tensor(0.7610)\n",
      "tensor(0.7610)\n"
     ]
    }
   ],
   "execution_count": 41
  },
  {
   "metadata": {
    "ExecuteTime": {
     "end_time": "2025-05-09T14:57:43.856549Z",
     "start_time": "2025-05-09T14:57:43.852380Z"
    }
   },
   "cell_type": "code",
   "source": "torch.max(A, dim = 0) # dim = 0 -> by each cols",
   "id": "277d039b84b98241",
   "outputs": [
    {
     "data": {
      "text/plain": [
       "torch.return_types.max(\n",
       "values=tensor([ 0.7610,  0.5690,  0.7161, -0.3668]),\n",
       "indices=tensor([2, 0, 0, 1]))"
      ]
     },
     "execution_count": 28,
     "metadata": {},
     "output_type": "execute_result"
    }
   ],
   "execution_count": 28
  },
  {
   "metadata": {
    "ExecuteTime": {
     "end_time": "2025-05-09T14:58:44.308491Z",
     "start_time": "2025-05-09T14:58:44.304850Z"
    }
   },
   "cell_type": "code",
   "source": "torch.max(A, dim = 1) # dim = 1 -> by each rows",
   "id": "12a724e99ede2898",
   "outputs": [
    {
     "data": {
      "text/plain": [
       "torch.return_types.max(\n",
       "values=tensor([0.7161, 0.6097, 0.7610]),\n",
       "indices=tensor([2, 0, 0]))"
      ]
     },
     "execution_count": 29,
     "metadata": {},
     "output_type": "execute_result"
    }
   ],
   "execution_count": 29
  },
  {
   "metadata": {
    "ExecuteTime": {
     "end_time": "2025-05-09T14:59:18.851307Z",
     "start_time": "2025-05-09T14:59:18.847512Z"
    }
   },
   "cell_type": "code",
   "source": "torch.argmax(A) # output -> index of max value",
   "id": "2d3b882b7a1c114b",
   "outputs": [
    {
     "data": {
      "text/plain": [
       "tensor(8)"
      ]
     },
     "execution_count": 30,
     "metadata": {},
     "output_type": "execute_result"
    }
   ],
   "execution_count": 30
  },
  {
   "metadata": {
    "ExecuteTime": {
     "end_time": "2025-05-09T15:01:26.088178Z",
     "start_time": "2025-05-09T15:01:26.084938Z"
    }
   },
   "cell_type": "code",
   "source": [
    "a=torch.randn(6,1)\n",
    "print(a)"
   ],
   "id": "ee5cb92c793eeaa9",
   "outputs": [
    {
     "name": "stdout",
     "output_type": "stream",
     "text": [
      "tensor([[ 0.4424],\n",
      "        [ 1.5133],\n",
      "        [-0.8876],\n",
      "        [-1.3378],\n",
      "        [-0.2419],\n",
      "        [ 0.2492]])\n"
     ]
    }
   ],
   "execution_count": 33
  },
  {
   "metadata": {
    "ExecuteTime": {
     "end_time": "2025-05-09T15:02:51.952957Z",
     "start_time": "2025-05-09T15:02:51.948989Z"
    }
   },
   "cell_type": "code",
   "source": [
    "print(torch.sort(a, dim = 0))\n",
    "print(torch.sort(a, dim = 1))"
   ],
   "id": "b4433c4464c9aa93",
   "outputs": [
    {
     "name": "stdout",
     "output_type": "stream",
     "text": [
      "torch.return_types.sort(\n",
      "values=tensor([[-1.3378],\n",
      "        [-0.8876],\n",
      "        [-0.2419],\n",
      "        [ 0.2492],\n",
      "        [ 0.4424],\n",
      "        [ 1.5133]]),\n",
      "indices=tensor([[3],\n",
      "        [2],\n",
      "        [4],\n",
      "        [5],\n",
      "        [0],\n",
      "        [1]]))\n",
      "torch.return_types.sort(\n",
      "values=tensor([[ 0.4424],\n",
      "        [ 1.5133],\n",
      "        [-0.8876],\n",
      "        [-1.3378],\n",
      "        [-0.2419],\n",
      "        [ 0.2492]]),\n",
      "indices=tensor([[0],\n",
      "        [0],\n",
      "        [0],\n",
      "        [0],\n",
      "        [0],\n",
      "        [0]]))\n"
     ]
    }
   ],
   "execution_count": 38
  },
  {
   "metadata": {
    "ExecuteTime": {
     "end_time": "2025-05-09T15:03:37.604872Z",
     "start_time": "2025-05-09T15:03:37.601445Z"
    }
   },
   "cell_type": "code",
   "source": [
    "print(a.sort(dim = 0))\n",
    "print(a.sort(dim = 1))"
   ],
   "id": "d0785e8a20b2356e",
   "outputs": [
    {
     "name": "stdout",
     "output_type": "stream",
     "text": [
      "torch.return_types.sort(\n",
      "values=tensor([[-1.3378],\n",
      "        [-0.8876],\n",
      "        [-0.2419],\n",
      "        [ 0.2492],\n",
      "        [ 0.4424],\n",
      "        [ 1.5133]]),\n",
      "indices=tensor([[3],\n",
      "        [2],\n",
      "        [4],\n",
      "        [5],\n",
      "        [0],\n",
      "        [1]]))\n",
      "torch.return_types.sort(\n",
      "values=tensor([[ 0.4424],\n",
      "        [ 1.5133],\n",
      "        [-0.8876],\n",
      "        [-1.3378],\n",
      "        [-0.2419],\n",
      "        [ 0.2492]]),\n",
      "indices=tensor([[0],\n",
      "        [0],\n",
      "        [0],\n",
      "        [0],\n",
      "        [0],\n",
      "        [0]]))\n"
     ]
    }
   ],
   "execution_count": 40
  },
  {
   "metadata": {
    "ExecuteTime": {
     "end_time": "2025-05-09T15:04:39.399213Z",
     "start_time": "2025-05-09T15:04:39.394975Z"
    }
   },
   "cell_type": "code",
   "source": [
    "print(torch.abs(a))\n",
    "print(a.abs())"
   ],
   "id": "f65a0584379a90f",
   "outputs": [
    {
     "name": "stdout",
     "output_type": "stream",
     "text": [
      "tensor([[0.4424],\n",
      "        [1.5133],\n",
      "        [0.8876],\n",
      "        [1.3378],\n",
      "        [0.2419],\n",
      "        [0.2492]])\n",
      "tensor([[0.4424],\n",
      "        [1.5133],\n",
      "        [0.8876],\n",
      "        [1.3378],\n",
      "        [0.2419],\n",
      "        [0.2492]])\n"
     ]
    }
   ],
   "execution_count": 42
  },
  {
   "metadata": {
    "ExecuteTime": {
     "end_time": "2025-05-09T15:05:32.899541Z",
     "start_time": "2025-05-09T15:05:32.896027Z"
    }
   },
   "cell_type": "code",
   "source": [
    "A = torch.randn(3, 4)\n",
    "print(A)"
   ],
   "id": "a0172d68ac202248",
   "outputs": [
    {
     "name": "stdout",
     "output_type": "stream",
     "text": [
      "tensor([[ 0.0137, -0.9071, -0.0196,  0.3320],\n",
      "        [-1.1884,  2.1506, -2.5310,  0.6597],\n",
      "        [-0.3351,  1.0678,  1.7736, -0.7711]])\n"
     ]
    }
   ],
   "execution_count": 43
  },
  {
   "metadata": {
    "ExecuteTime": {
     "end_time": "2025-05-09T15:06:12.716736Z",
     "start_time": "2025-05-09T15:06:12.712544Z"
    }
   },
   "cell_type": "code",
   "source": [
    "print(A.sum())\n",
    "print(torch.sum(A))"
   ],
   "id": "9de1a38ef6ede546",
   "outputs": [
    {
     "name": "stdout",
     "output_type": "stream",
     "text": [
      "tensor(0.2451)\n",
      "tensor(0.2451)\n"
     ]
    }
   ],
   "execution_count": 45
  },
  {
   "metadata": {
    "ExecuteTime": {
     "end_time": "2025-05-09T15:10:45.693399Z",
     "start_time": "2025-05-09T15:10:45.689022Z"
    }
   },
   "cell_type": "code",
   "source": [
    "print(A.sum(dim = 0))\n",
    "print(torch.sum(A, dim = 0))\n",
    "print(torch.sum(A, dim = 0, keepdims = True)) # shape 유지\n",
    "\n",
    "print(A.sum(dim = 0).shape)\n",
    "print(A.sum(dim = 0, keepdims = True).shape)\n",
    "print(A.shape)"
   ],
   "id": "3c20896cc569fa64",
   "outputs": [
    {
     "name": "stdout",
     "output_type": "stream",
     "text": [
      "tensor([-1.5099,  2.3113, -0.7770,  0.2207])\n",
      "tensor([-1.5099,  2.3113, -0.7770,  0.2207])\n",
      "tensor([[-1.5099,  2.3113, -0.7770,  0.2207]])\n",
      "torch.Size([4])\n",
      "torch.Size([1, 4])\n",
      "torch.Size([3, 4])\n"
     ]
    }
   ],
   "execution_count": 56
  },
  {
   "metadata": {
    "ExecuteTime": {
     "end_time": "2025-05-09T15:07:07.688413Z",
     "start_time": "2025-05-09T15:07:07.684198Z"
    }
   },
   "cell_type": "code",
   "source": [
    "print(A.sum(dim = 1))\n",
    "print(torch.sum(A, dim = 1))"
   ],
   "id": "6dc80656428d938e",
   "outputs": [
    {
     "name": "stdout",
     "output_type": "stream",
     "text": [
      "tensor([-0.5810, -0.9090,  1.7351])\n",
      "tensor([-0.5810, -0.9090,  1.7351])\n"
     ]
    }
   ],
   "execution_count": 48
  },
  {
   "metadata": {
    "ExecuteTime": {
     "end_time": "2025-05-09T15:11:14.739489Z",
     "start_time": "2025-05-09T15:11:14.733618Z"
    }
   },
   "cell_type": "code",
   "source": [
    "# 다 dim, keepdims 셋팅 가능,,\n",
    "print(A.mean())\n",
    "print(A.std())"
   ],
   "id": "5fdc3dcd83d9980d",
   "outputs": [
    {
     "name": "stdout",
     "output_type": "stream",
     "text": [
      "tensor(0.0204)\n",
      "tensor(1.3073)\n"
     ]
    }
   ],
   "execution_count": 57
  },
  {
   "metadata": {},
   "cell_type": "code",
   "outputs": [],
   "execution_count": null,
   "source": [
    "A=torch.randint(1,5,size=(12,)) # 1부터 5미만 12개 정수 (1 차원은 (N,) 과 같이 표현)\n",
    "print(A)\n",
    "print(A.shape)\n",
    "\n",
    "B=A.reshape(2,2,3)\n",
    "print(B)\n",
    "print(B.ndim) # 3 차원 행렬이다"
   ],
   "id": "2692cfdffe10ff32"
  },
  {
   "metadata": {
    "ExecuteTime": {
     "end_time": "2025-05-09T15:14:18.262050Z",
     "start_time": "2025-05-09T15:14:18.259182Z"
    }
   },
   "cell_type": "code",
   "source": [
    "A = torch.randint(1 ,5, size = (12, )) # 1부터 5미만 12개 정수 (1 차원은 (N,)과 같이 표현)\n",
    "print(A)"
   ],
   "id": "7b4026a0fa57fa7c",
   "outputs": [
    {
     "name": "stdout",
     "output_type": "stream",
     "text": [
      "tensor([3, 1, 4, 2, 3, 4, 4, 4, 4, 2, 3, 2])\n"
     ]
    }
   ],
   "execution_count": 59
  },
  {
   "metadata": {
    "ExecuteTime": {
     "end_time": "2025-05-09T15:16:39.446921Z",
     "start_time": "2025-05-09T15:16:39.443644Z"
    }
   },
   "cell_type": "code",
   "source": [
    "print(A.shape)\n",
    "\n",
    "B = A.reshape(2, 2, 3) # chanel 2, 2 by 3 matrix\n",
    "print(A)\n",
    "print(B) # 약간... 흠... 2 2 3이니깐 3부터 시작한다고 생각하고 A에서 3개씩 탁탁탁...\n",
    "print(B.shape)"
   ],
   "id": "fc3eb79406960eb",
   "outputs": [
    {
     "name": "stdout",
     "output_type": "stream",
     "text": [
      "torch.Size([12])\n",
      "tensor([3, 1, 4, 2, 3, 4, 4, 4, 4, 2, 3, 2])\n",
      "tensor([[[3, 1, 4],\n",
      "         [2, 3, 4]],\n",
      "\n",
      "        [[4, 4, 4],\n",
      "         [2, 3, 2]]])\n",
      "torch.Size([2, 2, 3])\n"
     ]
    }
   ],
   "execution_count": 61
  },
  {
   "metadata": {
    "ExecuteTime": {
     "end_time": "2025-05-13T13:22:24.819417Z",
     "start_time": "2025-05-13T13:22:24.809776Z"
    }
   },
   "cell_type": "code",
   "source": [
    "a=torch.tensor([1,2,3])\n",
    "b=torch.tensor([2,2,1])\n",
    "print(torch.sum(a*b)) # 내적\n",
    "print(torch.dot(a, b))\n",
    "\n",
    "a=a.reshape(3,1)\n",
    "b=b.reshape(3,1)\n",
    "print(a.transpose(1,0)@b)\n",
    "print(a.permute(1,0)@b) # transpose\n",
    "print(a.T@b)\n",
    "print(a.t()@b)\n",
    "\n",
    "A=torch.randn(4,3,6)\n",
    "print(A.permute(0,2,1).shape)\n",
    "print(A.transpose(0,2).shape) # transpose 는 둘끼리 자리 바꾸기만 가능"
   ],
   "id": "f2745731ec6d59a0",
   "outputs": [
    {
     "name": "stdout",
     "output_type": "stream",
     "text": [
      "tensor(9)\n",
      "tensor(9)\n",
      "tensor([[9]])\n",
      "tensor([[9]])\n",
      "tensor([[9]])\n",
      "tensor([[9]])\n",
      "torch.Size([4, 6, 3])\n",
      "torch.Size([6, 3, 4])\n"
     ]
    }
   ],
   "execution_count": 3
  },
  {
   "metadata": {
    "ExecuteTime": {
     "end_time": "2025-05-09T15:22:10.600496Z",
     "start_time": "2025-05-09T15:22:10.596772Z"
    }
   },
   "cell_type": "code",
   "source": "print(A)",
   "id": "a0703946f7127e5d",
   "outputs": [
    {
     "name": "stdout",
     "output_type": "stream",
     "text": [
      "tensor([[[-0.0112,  1.0773,  0.3169,  2.4944, -0.9286,  1.0073],\n",
      "         [-0.0108,  0.1317, -0.9642,  1.2723, -0.2647,  1.1200],\n",
      "         [-0.1801, -0.3052, -0.1002, -0.8464,  0.3043, -1.8037]],\n",
      "\n",
      "        [[ 0.0526, -0.2447, -1.5836, -1.1202, -0.9550, -0.4123],\n",
      "         [-0.3169,  0.4753, -0.7320,  1.0433,  0.5793, -0.9376],\n",
      "         [ 0.1348, -0.8774,  0.1752, -0.5626, -1.4065, -0.8402]],\n",
      "\n",
      "        [[-0.5600,  0.8141, -0.1095, -0.8370, -1.1488, -1.0946],\n",
      "         [ 1.1906,  0.2315,  0.0992,  0.0442, -0.5102, -2.9406],\n",
      "         [-1.6571, -2.3421, -1.2454, -0.9399,  0.2917,  1.8599]],\n",
      "\n",
      "        [[ 0.3303,  0.0768, -0.8631,  0.5578, -0.2679,  1.1894],\n",
      "         [ 1.4135,  0.4112,  0.4748,  0.5509,  0.2026,  1.6134],\n",
      "         [-0.1503,  0.2306,  0.8457,  0.7897,  0.4234,  0.2427]]])\n"
     ]
    }
   ],
   "execution_count": 70
  },
  {
   "metadata": {},
   "cell_type": "markdown",
   "source": [
    "`permute( 0 dim, 1 dim , 2 dim)`\n",
    "* 0 dim -> 에는 몇 번째 dim을 넣을래?"
   ],
   "id": "6ff78515b28fc6cc"
  },
  {
   "metadata": {
    "ExecuteTime": {
     "end_time": "2025-05-09T15:24:50.602639Z",
     "start_time": "2025-05-09T15:24:50.598128Z"
    }
   },
   "cell_type": "code",
   "source": "A.permute(0, 1, 2) == A",
   "id": "11a0a9ba16a6cf7a",
   "outputs": [
    {
     "data": {
      "text/plain": [
       "tensor([[[True, True, True, True, True, True],\n",
       "         [True, True, True, True, True, True],\n",
       "         [True, True, True, True, True, True]],\n",
       "\n",
       "        [[True, True, True, True, True, True],\n",
       "         [True, True, True, True, True, True],\n",
       "         [True, True, True, True, True, True]],\n",
       "\n",
       "        [[True, True, True, True, True, True],\n",
       "         [True, True, True, True, True, True],\n",
       "         [True, True, True, True, True, True]],\n",
       "\n",
       "        [[True, True, True, True, True, True],\n",
       "         [True, True, True, True, True, True],\n",
       "         [True, True, True, True, True, True]]])"
      ]
     },
     "execution_count": 75,
     "metadata": {},
     "output_type": "execute_result"
    }
   ],
   "execution_count": 75
  },
  {
   "metadata": {
    "ExecuteTime": {
     "end_time": "2025-05-09T15:26:04.320189Z",
     "start_time": "2025-05-09T15:26:04.317804Z"
    }
   },
   "cell_type": "code",
   "source": [
    "print(A.shape)\n",
    "print(A.permute(0, 2, 1).shape)\n",
    "print(A.permute(0, 2, 1))"
   ],
   "id": "d08ec0b278be9f04",
   "outputs": [
    {
     "name": "stdout",
     "output_type": "stream",
     "text": [
      "torch.Size([4, 3, 6])\n",
      "torch.Size([4, 6, 3])\n",
      "tensor([[[-0.0112, -0.0108, -0.1801],\n",
      "         [ 1.0773,  0.1317, -0.3052],\n",
      "         [ 0.3169, -0.9642, -0.1002],\n",
      "         [ 2.4944,  1.2723, -0.8464],\n",
      "         [-0.9286, -0.2647,  0.3043],\n",
      "         [ 1.0073,  1.1200, -1.8037]],\n",
      "\n",
      "        [[ 0.0526, -0.3169,  0.1348],\n",
      "         [-0.2447,  0.4753, -0.8774],\n",
      "         [-1.5836, -0.7320,  0.1752],\n",
      "         [-1.1202,  1.0433, -0.5626],\n",
      "         [-0.9550,  0.5793, -1.4065],\n",
      "         [-0.4123, -0.9376, -0.8402]],\n",
      "\n",
      "        [[-0.5600,  1.1906, -1.6571],\n",
      "         [ 0.8141,  0.2315, -2.3421],\n",
      "         [-0.1095,  0.0992, -1.2454],\n",
      "         [-0.8370,  0.0442, -0.9399],\n",
      "         [-1.1488, -0.5102,  0.2917],\n",
      "         [-1.0946, -2.9406,  1.8599]],\n",
      "\n",
      "        [[ 0.3303,  1.4135, -0.1503],\n",
      "         [ 0.0768,  0.4112,  0.2306],\n",
      "         [-0.8631,  0.4748,  0.8457],\n",
      "         [ 0.5578,  0.5509,  0.7897],\n",
      "         [-0.2679,  0.2026,  0.4234],\n",
      "         [ 1.1894,  1.6134,  0.2427]]])\n"
     ]
    }
   ],
   "execution_count": 77
  },
  {
   "metadata": {
    "ExecuteTime": {
     "end_time": "2025-05-09T15:28:18.917243Z",
     "start_time": "2025-05-09T15:28:18.914838Z"
    }
   },
   "cell_type": "code",
   "source": [
    "A=torch.arange(20)\n",
    "print(A)\n",
    "print(A.reshape(4,5))\n",
    "print(A.reshape(4,-1).shape) # 4개 행이 될 수 있도록 열의 수를 맞춰라\n",
    "print(A.reshape(2,5,-1).shape)\n",
    "print(A.reshape(2,-1,5).shape)\n",
    "print(A.reshape(1,-1).shape) # 2차원 행 벡터\n",
    "print(A.reshape(-1,1).shape) # 2차원 열 벡터"
   ],
   "id": "7bdc316299b2e03d",
   "outputs": [
    {
     "name": "stdout",
     "output_type": "stream",
     "text": [
      "tensor([ 0,  1,  2,  3,  4,  5,  6,  7,  8,  9, 10, 11, 12, 13, 14, 15, 16, 17,\n",
      "        18, 19])\n",
      "tensor([[ 0,  1,  2,  3,  4],\n",
      "        [ 5,  6,  7,  8,  9],\n",
      "        [10, 11, 12, 13, 14],\n",
      "        [15, 16, 17, 18, 19]])\n",
      "torch.Size([4, 5])\n",
      "torch.Size([2, 5, 2])\n",
      "torch.Size([2, 2, 5])\n",
      "torch.Size([1, 20])\n",
      "torch.Size([20, 1])\n"
     ]
    }
   ],
   "execution_count": 79
  },
  {
   "metadata": {
    "ExecuteTime": {
     "end_time": "2025-05-09T15:29:38.308798Z",
     "start_time": "2025-05-09T15:29:38.305232Z"
    }
   },
   "cell_type": "code",
   "source": [
    "# ????\n",
    "x=torch.randn(2,3,4,5,6)\n",
    "print(x[1,2,:,:,:].shape)\n",
    "print(x[1,2,...].shape) # x[1, 2, …] 는 x[1, 2, :, :, :] 와 같습니다.\n",
    "print(x[:,:,:,:,3].shape)\n",
    "print(x[...,3].shape) # x[…, 3] 는 x[:, :, :, :, 3] 와 같습니다.\n",
    "print(x[1,:,:,3,:].shape)\n",
    "print(x[1,...,3,:].shape) # x[1, …, 3, :] 는 x[1, :, :, 3, :] 와 같습니다."
   ],
   "id": "452bcbe9271231f4",
   "outputs": [
    {
     "name": "stdout",
     "output_type": "stream",
     "text": [
      "torch.Size([4, 5, 6])\n",
      "torch.Size([4, 5, 6])\n",
      "torch.Size([2, 3, 4, 5])\n",
      "torch.Size([2, 3, 4, 5])\n",
      "torch.Size([3, 4, 6])\n",
      "torch.Size([3, 4, 6])\n"
     ]
    }
   ],
   "execution_count": 82
  },
  {
   "metadata": {
    "ExecuteTime": {
     "end_time": "2025-05-10T04:49:34.705139Z",
     "start_time": "2025-05-10T04:49:34.700241Z"
    }
   },
   "cell_type": "code",
   "source": [
    "# 나중에 이거 다시 한 번 체크..\n",
    "A=torch.ones((2,3,4))\n",
    "B=torch.zeros((2,3,4))\n",
    "\n",
    "C=torch.vstack([A,B])\n",
    "D=torch.hstack([A,B]) # v는 0번째 차원, h는 1번째 차원에 쌓는다. -> 잘 안씀.\n",
    "\n",
    "E=torch.cat([A,B], dim=0) # torch.cat()을 주로 쓴다, dim을 control 하면서\n",
    "F=torch.cat([A,B], dim=1)\n",
    "G=torch.cat([A,B], dim=2)\n",
    "\n",
    "# print(C)\n",
    "# print(D)\n",
    "print(E)\n",
    "#print(F)\n",
    "#print(G.shape)"
   ],
   "id": "80a14a6a616dd6fd",
   "outputs": [
    {
     "name": "stdout",
     "output_type": "stream",
     "text": [
      "tensor([[[1., 1., 1., 1.],\n",
      "         [1., 1., 1., 1.],\n",
      "         [1., 1., 1., 1.]],\n",
      "\n",
      "        [[1., 1., 1., 1.],\n",
      "         [1., 1., 1., 1.],\n",
      "         [1., 1., 1., 1.]],\n",
      "\n",
      "        [[0., 0., 0., 0.],\n",
      "         [0., 0., 0., 0.],\n",
      "         [0., 0., 0., 0.]],\n",
      "\n",
      "        [[0., 0., 0., 0.],\n",
      "         [0., 0., 0., 0.],\n",
      "         [0., 0., 0., 0.]]])\n"
     ]
    }
   ],
   "execution_count": 11
  },
  {
   "metadata": {
    "ExecuteTime": {
     "end_time": "2025-05-10T04:44:35.664978Z",
     "start_time": "2025-05-10T04:44:35.661706Z"
    }
   },
   "cell_type": "code",
   "source": [
    "A = torch.randn(1,1,1,3,1,1,4,1)\n",
    "print(A)"
   ],
   "id": "bf5b3775642dcf56",
   "outputs": [
    {
     "name": "stdout",
     "output_type": "stream",
     "text": [
      "tensor([[[[[[[[-0.5672],\n",
      "              [ 0.7019],\n",
      "              [-0.2483],\n",
      "              [-0.1935]]]],\n",
      "\n",
      "\n",
      "\n",
      "           [[[[ 0.4001],\n",
      "              [ 1.4507],\n",
      "              [ 0.6544],\n",
      "              [ 1.4915]]]],\n",
      "\n",
      "\n",
      "\n",
      "           [[[[ 0.9619],\n",
      "              [-1.8396],\n",
      "              [-0.0389],\n",
      "              [ 1.5653]]]]]]]])\n"
     ]
    }
   ],
   "execution_count": 5
  },
  {
   "metadata": {
    "ExecuteTime": {
     "end_time": "2025-05-10T04:44:48.860762Z",
     "start_time": "2025-05-10T04:44:48.859115Z"
    }
   },
   "cell_type": "code",
   "source": "print(A.shape)",
   "id": "106e2a259e07ce40",
   "outputs": [
    {
     "name": "stdout",
     "output_type": "stream",
     "text": [
      "torch.Size([1, 1, 1, 3, 1, 1, 4, 1])\n"
     ]
    }
   ],
   "execution_count": 6
  },
  {
   "metadata": {
    "ExecuteTime": {
     "end_time": "2025-05-10T04:45:04.976333Z",
     "start_time": "2025-05-10T04:45:04.972742Z"
    }
   },
   "cell_type": "code",
   "source": "print(A.squeeze())",
   "id": "d975d7b6c7d25827",
   "outputs": [
    {
     "name": "stdout",
     "output_type": "stream",
     "text": [
      "tensor([[-0.5672,  0.7019, -0.2483, -0.1935],\n",
      "        [ 0.4001,  1.4507,  0.6544,  1.4915],\n",
      "        [ 0.9619, -1.8396, -0.0389,  1.5653]])\n"
     ]
    }
   ],
   "execution_count": 7
  },
  {
   "metadata": {
    "ExecuteTime": {
     "end_time": "2025-05-10T04:46:50.452783Z",
     "start_time": "2025-05-10T04:46:50.450515Z"
    }
   },
   "cell_type": "code",
   "source": [
    "A = torch.randn(3,4)\n",
    "print(A.shape)\n",
    "print(A.unsqueeze(dim=0).shape)\n",
    "print(A.unsqueeze(dim=1).shape)\n",
    "print(A.unsqueeze(dim=2).shape)\n",
    "print(A.reshape(1,3,4).shape)\n",
    "print(A.reshape(3,1,4).shape)\n",
    "print(A.reshape(3,4,1).shape)"
   ],
   "id": "61f663bea625b064",
   "outputs": [
    {
     "name": "stdout",
     "output_type": "stream",
     "text": [
      "torch.Size([3, 4])\n",
      "torch.Size([1, 3, 4])\n",
      "torch.Size([3, 1, 4])\n",
      "torch.Size([3, 4, 1])\n",
      "torch.Size([1, 3, 4])\n",
      "torch.Size([3, 1, 4])\n",
      "torch.Size([3, 4, 1])\n"
     ]
    }
   ],
   "execution_count": 9
  },
  {
   "metadata": {},
   "cell_type": "markdown",
   "source": "<hr>",
   "id": "a05fe30c70a0f0ac"
  },
  {
   "metadata": {},
   "cell_type": "markdown",
   "source": "chanel이 없는 두 행렬을 쌓고 싶다 -> 2 chanel로..",
   "id": "f737582db513a567"
  },
  {
   "metadata": {
    "ExecuteTime": {
     "end_time": "2025-05-10T04:50:06.422231Z",
     "start_time": "2025-05-10T04:50:06.419847Z"
    }
   },
   "cell_type": "code",
   "source": [
    "# unsqueeze는 언제 쓰노,,?\n",
    "A=torch.ones(3,4)\n",
    "B=torch.zeros(3,4)\n",
    "# 이놈들을 합쳐서 2 chanel로 만들고 싶다.."
   ],
   "id": "ba7cdf9d0979ffdd",
   "outputs": [],
   "execution_count": 13
  },
  {
   "metadata": {
    "ExecuteTime": {
     "end_time": "2025-05-10T04:50:18.332829Z",
     "start_time": "2025-05-10T04:50:18.329150Z"
    }
   },
   "cell_type": "code",
   "source": [
    "A=A.unsqueeze(dim=0)\n",
    "B=B.unsqueeze(dim=0)\n",
    "print(A)\n",
    "print(B)"
   ],
   "id": "34762e6e9b77365",
   "outputs": [
    {
     "name": "stdout",
     "output_type": "stream",
     "text": [
      "tensor([[[1., 1., 1., 1.],\n",
      "         [1., 1., 1., 1.],\n",
      "         [1., 1., 1., 1.]]])\n",
      "tensor([[[0., 0., 0., 0.],\n",
      "         [0., 0., 0., 0.],\n",
      "         [0., 0., 0., 0.]]])\n"
     ]
    }
   ],
   "execution_count": 14
  },
  {
   "metadata": {
    "ExecuteTime": {
     "end_time": "2025-05-10T04:50:29.812245Z",
     "start_time": "2025-05-10T04:50:29.808430Z"
    }
   },
   "cell_type": "code",
   "source": [
    "C=torch.cat([A,B], dim=0)\n",
    "print(C)\n",
    "print(C.shape)"
   ],
   "id": "f53ca7ebeb2e2faf",
   "outputs": [
    {
     "name": "stdout",
     "output_type": "stream",
     "text": [
      "tensor([[[1., 1., 1., 1.],\n",
      "         [1., 1., 1., 1.],\n",
      "         [1., 1., 1., 1.]],\n",
      "\n",
      "        [[0., 0., 0., 0.],\n",
      "         [0., 0., 0., 0.],\n",
      "         [0., 0., 0., 0.]]])\n",
      "torch.Size([2, 3, 4])\n"
     ]
    }
   ],
   "execution_count": 15
  },
  {
   "metadata": {},
   "cell_type": "markdown",
   "source": "<hr>",
   "id": "edad40d0a7e83a6f"
  },
  {
   "metadata": {
    "ExecuteTime": {
     "end_time": "2025-05-10T04:51:53.532624Z",
     "start_time": "2025-05-10T04:51:53.527888Z"
    }
   },
   "cell_type": "code",
   "source": [
    "A=torch.tensor([[1,2],[3,4]])\n",
    "B=A.clone() # 주소는 다르게 copy 같은 거임..!\n",
    "B[0,0]=100\n",
    "\n",
    "print(B)\n",
    "print(A)"
   ],
   "id": "378fb96e3cae7823",
   "outputs": [
    {
     "name": "stdout",
     "output_type": "stream",
     "text": [
      "tensor([[100,   2],\n",
      "        [  3,   4]])\n",
      "tensor([[1, 2],\n",
      "        [3, 4]])\n"
     ]
    }
   ],
   "execution_count": 16
  },
  {
   "metadata": {},
   "cell_type": "markdown",
   "source": "## @ ?!?",
   "id": "9356153243eb5787"
  },
  {
   "metadata": {
    "ExecuteTime": {
     "end_time": "2025-05-10T04:59:18.570487Z",
     "start_time": "2025-05-10T04:59:18.562734Z"
    }
   },
   "cell_type": "code",
   "source": [
    "A=torch.randn(5,7)\n",
    "B=torch.randn(7,10)\n",
    "C=A@B\n",
    "print(C.shape)\n",
    "\n",
    "A=torch.randn(32,5,7)\n",
    "B=torch.randn(32,7,10)\n",
    "C=A@B\n",
    "print(C.shape)"
   ],
   "id": "61f7e7642f08e577",
   "outputs": [
    {
     "name": "stdout",
     "output_type": "stream",
     "text": [
      "torch.Size([5, 10])\n",
      "torch.Size([32, 5, 10])\n"
     ]
    }
   ],
   "execution_count": 17
  },
  {
   "metadata": {
    "ExecuteTime": {
     "end_time": "2025-05-10T05:00:40.229565Z",
     "start_time": "2025-05-10T05:00:40.222373Z"
    }
   },
   "cell_type": "code",
   "source": [
    "A=torch.randn(32,5,7)\n",
    "B=torch.randn(7,10)\n",
    "\n",
    "C=A@B.repeat(32,1,1)\n",
    "D=A@B\n",
    "\n",
    "print(C.shape)\n",
    "print(D.shape)\n",
    "print((C-D).abs().max())"
   ],
   "id": "5e161585214ddd10",
   "outputs": [
    {
     "name": "stdout",
     "output_type": "stream",
     "text": [
      "torch.Size([32, 5, 10])\n",
      "torch.Size([32, 5, 10])\n",
      "tensor(0.)\n"
     ]
    }
   ],
   "execution_count": 18
  },
  {
   "metadata": {
    "ExecuteTime": {
     "end_time": "2025-05-10T05:01:49.938944Z",
     "start_time": "2025-05-10T05:01:49.936642Z"
    }
   },
   "cell_type": "code",
   "source": [
    "tmp = A@B\n",
    "tmp.shape"
   ],
   "id": "8a8abd6c5b85b71a",
   "outputs": [
    {
     "data": {
      "text/plain": [
       "torch.Size([32, 5, 10])"
      ]
     },
     "execution_count": 21,
     "metadata": {},
     "output_type": "execute_result"
    }
   ],
   "execution_count": 21
  },
  {
   "metadata": {
    "ExecuteTime": {
     "end_time": "2025-05-10T05:02:59.912615Z",
     "start_time": "2025-05-10T05:02:59.906324Z"
    }
   },
   "cell_type": "code",
   "source": [
    "A = torch.rand(2,3)\n",
    "A_repeat=A.repeat(3,1,3,2)\n",
    "print(A)\n",
    "print(A_repeat)\n",
    "print(A_repeat.shape)"
   ],
   "id": "dd2c7f4f57959159",
   "outputs": [
    {
     "name": "stdout",
     "output_type": "stream",
     "text": [
      "tensor([[0.8521, 0.9931, 0.6623],\n",
      "        [0.3191, 0.9350, 0.9937]])\n",
      "tensor([[[[0.8521, 0.9931, 0.6623, 0.8521, 0.9931, 0.6623],\n",
      "          [0.3191, 0.9350, 0.9937, 0.3191, 0.9350, 0.9937],\n",
      "          [0.8521, 0.9931, 0.6623, 0.8521, 0.9931, 0.6623],\n",
      "          [0.3191, 0.9350, 0.9937, 0.3191, 0.9350, 0.9937],\n",
      "          [0.8521, 0.9931, 0.6623, 0.8521, 0.9931, 0.6623],\n",
      "          [0.3191, 0.9350, 0.9937, 0.3191, 0.9350, 0.9937]]],\n",
      "\n",
      "\n",
      "        [[[0.8521, 0.9931, 0.6623, 0.8521, 0.9931, 0.6623],\n",
      "          [0.3191, 0.9350, 0.9937, 0.3191, 0.9350, 0.9937],\n",
      "          [0.8521, 0.9931, 0.6623, 0.8521, 0.9931, 0.6623],\n",
      "          [0.3191, 0.9350, 0.9937, 0.3191, 0.9350, 0.9937],\n",
      "          [0.8521, 0.9931, 0.6623, 0.8521, 0.9931, 0.6623],\n",
      "          [0.3191, 0.9350, 0.9937, 0.3191, 0.9350, 0.9937]]],\n",
      "\n",
      "\n",
      "        [[[0.8521, 0.9931, 0.6623, 0.8521, 0.9931, 0.6623],\n",
      "          [0.3191, 0.9350, 0.9937, 0.3191, 0.9350, 0.9937],\n",
      "          [0.8521, 0.9931, 0.6623, 0.8521, 0.9931, 0.6623],\n",
      "          [0.3191, 0.9350, 0.9937, 0.3191, 0.9350, 0.9937],\n",
      "          [0.8521, 0.9931, 0.6623, 0.8521, 0.9931, 0.6623],\n",
      "          [0.3191, 0.9350, 0.9937, 0.3191, 0.9350, 0.9937]]]])\n",
      "torch.Size([3, 1, 6, 6])\n"
     ]
    }
   ],
   "execution_count": 22
  },
  {
   "metadata": {},
   "cell_type": "markdown",
   "source": "## 딥러닝을 가능케한 autograd",
   "id": "e9b7f11be4365192"
  },
  {
   "metadata": {
    "ExecuteTime": {
     "end_time": "2025-05-16T11:13:13.732825Z",
     "start_time": "2025-05-16T11:13:13.729669Z"
    }
   },
   "cell_type": "code",
   "source": [
    "x = torch.tensor([1.], requires_grad=True) # requires_grad => 나 이놈 미분할거야~ 라는 뜻\n",
    "# 정수는 안됨.. Float만됨.\n",
    "# 미분은 실수공간에서 정의된 개념.."
   ],
   "id": "aad06a25759df72",
   "outputs": [],
   "execution_count": 2
  },
  {
   "metadata": {
    "ExecuteTime": {
     "end_time": "2025-05-16T11:13:14.688585Z",
     "start_time": "2025-05-16T11:13:14.685843Z"
    }
   },
   "cell_type": "code",
   "source": "print(x)",
   "id": "dd41f4901585b796",
   "outputs": [
    {
     "name": "stdout",
     "output_type": "stream",
     "text": [
      "tensor([1.], requires_grad=True)\n"
     ]
    }
   ],
   "execution_count": 3
  },
  {
   "metadata": {
    "ExecuteTime": {
     "end_time": "2025-05-16T11:13:50.939950Z",
     "start_time": "2025-05-16T11:13:50.936891Z"
    }
   },
   "cell_type": "code",
   "source": [
    "# also..\n",
    "x = torch.tensor([1. ])\n",
    "print(x)\n",
    "\n",
    "x.requires_grad = True\n",
    "print(x)"
   ],
   "id": "9e021987cfab937c",
   "outputs": [
    {
     "name": "stdout",
     "output_type": "stream",
     "text": [
      "tensor([1.])\n",
      "tensor([1.], requires_grad=True)\n"
     ]
    }
   ],
   "execution_count": 4
  },
  {
   "metadata": {
    "ExecuteTime": {
     "end_time": "2025-05-16T11:14:31.316486Z",
     "start_time": "2025-05-16T11:14:31.313089Z"
    }
   },
   "cell_type": "code",
   "source": [
    "x = torch.tensor([1.], requires_grad=True)\n",
    "y = x ** 2\n",
    "print(y) # 오잉...grad_fn = <PowBackward0>는 뭐농?!"
   ],
   "id": "1efb140cc188e9b0",
   "outputs": [
    {
     "name": "stdout",
     "output_type": "stream",
     "text": [
      "tensor([1.], grad_fn=<PowBackward0>)\n"
     ]
    }
   ],
   "execution_count": 5
  },
  {
   "metadata": {},
   "cell_type": "markdown",
   "source": "$x^2$ - 미분 -> $2x$ --> by `backward()`",
   "id": "e1a36c48f5678b2d"
  },
  {
   "metadata": {
    "ExecuteTime": {
     "end_time": "2025-05-16T11:14:33.395068Z",
     "start_time": "2025-05-16T11:14:33.376171Z"
    }
   },
   "cell_type": "code",
   "source": [
    "print(x.grad)\n",
    "y.backward()"
   ],
   "id": "2b6c96c068648050",
   "outputs": [
    {
     "name": "stdout",
     "output_type": "stream",
     "text": [
      "None\n"
     ]
    }
   ],
   "execution_count": 6
  },
  {
   "metadata": {
    "ExecuteTime": {
     "end_time": "2025-05-16T11:14:41.410301Z",
     "start_time": "2025-05-16T11:14:41.407240Z"
    }
   },
   "cell_type": "code",
   "source": [
    "# 미분값\n",
    "x.grad"
   ],
   "id": "4354caf085c73e4a",
   "outputs": [
    {
     "data": {
      "text/plain": [
       "tensor([2.])"
      ]
     },
     "execution_count": 7,
     "metadata": {},
     "output_type": "execute_result"
    }
   ],
   "execution_count": 7
  },
  {
   "metadata": {
    "ExecuteTime": {
     "end_time": "2025-05-16T11:15:05.320843Z",
     "start_time": "2025-05-16T11:15:05.316904Z"
    }
   },
   "cell_type": "code",
   "source": [
    "# 정리하면\n",
    "x = torch.tensor([1.], requires_grad=True)\n",
    "y = x ** 2\n",
    "y.backward()\n",
    "x.grad # y=x**2을 미분한 2x의 x 값에 1을 대입한 gradient 값"
   ],
   "id": "3e0c3325d6ced6ce",
   "outputs": [
    {
     "data": {
      "text/plain": [
       "tensor([2.])"
      ]
     },
     "execution_count": 8,
     "metadata": {},
     "output_type": "execute_result"
    }
   ],
   "execution_count": 8
  },
  {
   "metadata": {
    "ExecuteTime": {
     "end_time": "2025-05-16T11:15:26.799674Z",
     "start_time": "2025-05-16T11:15:26.796093Z"
    }
   },
   "cell_type": "code",
   "source": [
    "x = torch.tensor([1.], requires_grad=True)\n",
    "y = x ** 2\n",
    "z = 3 * y # 3x^2\n",
    "print(z) # MulBackward0가 있다..\n",
    "y.retain_grad() # 중간 체"
   ],
   "id": "afc31caf764c9166",
   "outputs": [
    {
     "name": "stdout",
     "output_type": "stream",
     "text": [
      "tensor([3.], grad_fn=<MulBackward0>)\n"
     ]
    }
   ],
   "execution_count": 9
  },
  {
   "metadata": {
    "ExecuteTime": {
     "end_time": "2025-05-16T11:15:30.561976Z",
     "start_time": "2025-05-16T11:15:30.559182Z"
    }
   },
   "cell_type": "code",
   "source": [
    "z.backward() # chain rule..\n",
    "print(x.grad)\n",
    "print(y.grad)"
   ],
   "id": "17c23b7ccafb8abb",
   "outputs": [
    {
     "name": "stdout",
     "output_type": "stream",
     "text": [
      "tensor([6.])\n",
      "tensor([3.])\n"
     ]
    }
   ],
   "execution_count": 10
  },
  {
   "metadata": {},
   "cell_type": "markdown",
   "source": [
    "$$\n",
    "{dz\\over{dx}} = {dz\\over{dy}} {dy\\over{dx}}\n",
    "$$"
   ],
   "id": "ee01d34915f5de3b"
  },
  {
   "metadata": {
    "ExecuteTime": {
     "end_time": "2025-05-16T11:18:59.386670Z",
     "start_time": "2025-05-16T11:18:59.383144Z"
    }
   },
   "cell_type": "code",
   "source": [
    "x = torch.tensor([1.], requires_grad=True)\n",
    "y = x ** 2\n",
    "z = 3 * y\n",
    "\n",
    "y.backward() # 이렇게하면 y에서부터 뒤로 넘어감..\n",
    "# 이건 y를 기준으로 gradient를 계산하겠다는 의미.\n",
    "# 즉, y를 출력으로 두고, x에 대한 gradient를 구하는 것.\n",
    "print(x.grad)"
   ],
   "id": "2f21dae011dfe0a3",
   "outputs": [
    {
     "name": "stdout",
     "output_type": "stream",
     "text": [
      "tensor([2.])\n"
     ]
    }
   ],
   "execution_count": 11
  },
  {
   "metadata": {
    "ExecuteTime": {
     "end_time": "2025-05-16T11:19:09.973765Z",
     "start_time": "2025-05-16T11:19:09.969721Z"
    }
   },
   "cell_type": "code",
   "source": [
    "x=torch.tensor([1.], requires_grad=True)\n",
    "a=x**2\n",
    "b=a+1\n",
    "print(b) # AddBackward0 가 붙어있다!\n",
    "c=b**2\n",
    "c.backward()\n",
    "print(x.grad)"
   ],
   "id": "ff32ffb83abd8c8c",
   "outputs": [
    {
     "name": "stdout",
     "output_type": "stream",
     "text": [
      "tensor([2.], grad_fn=<AddBackward0>)\n",
      "tensor([8.])\n"
     ]
    }
   ],
   "execution_count": 12
  },
  {
   "metadata": {
    "ExecuteTime": {
     "end_time": "2025-05-16T11:24:37.951792Z",
     "start_time": "2025-05-16T11:24:37.947532Z"
    }
   },
   "cell_type": "code",
   "source": [
    "x=torch.tensor([1.],requires_grad=True)\n",
    "y=torch.tensor([1.],requires_grad=True)\n",
    "z= 2*x**2 + y**2\n",
    "print(z)\n",
    "z.backward() # z에 대해서 x, y 각각 편미분\n",
    "print(x.grad)\n",
    "print(y.grad)"
   ],
   "id": "58954878fd3cfae8",
   "outputs": [
    {
     "name": "stdout",
     "output_type": "stream",
     "text": [
      "tensor([3.], grad_fn=<AddBackward0>)\n",
      "tensor([4.])\n",
      "tensor([2.])\n"
     ]
    }
   ],
   "execution_count": 13
  },
  {
   "metadata": {
    "ExecuteTime": {
     "end_time": "2025-05-16T11:24:45.792959Z",
     "start_time": "2025-05-16T11:24:45.789339Z"
    }
   },
   "cell_type": "code",
   "source": [
    "x=torch.tensor([1.],requires_grad=True)\n",
    "y=torch.tensor([1.],requires_grad=True)\n",
    "z= y*x**2\n",
    "z.backward()\n",
    "print(x.grad)\n",
    "print(y.grad)"
   ],
   "id": "a858f20b65da522",
   "outputs": [
    {
     "name": "stdout",
     "output_type": "stream",
     "text": [
      "tensor([2.])\n",
      "tensor([1.])\n"
     ]
    }
   ],
   "execution_count": 14
  },
  {
   "metadata": {
    "ExecuteTime": {
     "end_time": "2025-05-10T05:35:56.478359Z",
     "start_time": "2025-05-10T05:35:56.472786Z"
    }
   },
   "cell_type": "code",
   "source": [
    "x=torch.tensor([1., 2., 3.] ,requires_grad=True)\n",
    "print(x)\n",
    "y=torch.sum(x**2) # x1**2 + x2**2 + x3**2\n",
    "print(y)\n",
    "y.backward() # 편미분 각 각...\n",
    "\n",
    "print(y)\n",
    "print(x.grad) # 스칼라를 벡터로 미분"
   ],
   "id": "3a1438239bd94b86",
   "outputs": [
    {
     "name": "stdout",
     "output_type": "stream",
     "text": [
      "tensor([1., 2., 3.], requires_grad=True)\n",
      "tensor(14., grad_fn=<SumBackward0>)\n",
      "tensor(14., grad_fn=<SumBackward0>)\n",
      "tensor([2., 4., 6.])\n"
     ]
    }
   ],
   "execution_count": 53
  },
  {
   "metadata": {
    "ExecuteTime": {
     "end_time": "2025-05-10T05:43:04.444683Z",
     "start_time": "2025-05-10T05:43:04.440937Z"
    }
   },
   "cell_type": "code",
   "source": [
    "# 일부만 훈련 시키고 싶을 떄\n",
    "x=torch.tensor([1.] ,requires_grad=True)\n",
    "x.requires_grad=False\n",
    "# tranfer learning 할 때 필요\n",
    "y=x**2\n",
    "print(y)\n",
    "# y.backward() # error!"
   ],
   "id": "47b27a84bb408b6d",
   "outputs": [
    {
     "name": "stdout",
     "output_type": "stream",
     "text": [
      "tensor([1.])\n"
     ]
    }
   ],
   "execution_count": 58
  },
  {
   "metadata": {},
   "cell_type": "markdown",
   "source": [
    "-> 내가 어떤 만들어 놓은 학습된 모델이 있는데 그 학습된 모델에서 일부분만 학습을 시키고 싶을 때..\n",
    "\n",
    "나머지 부분을 `requires_grad = False`로 놓고\n",
    "\n",
    "학습시킬 녀석들만 `requires_grad = True`로 학습"
   ],
   "id": "fbd6d606cafa9451"
  },
  {
   "metadata": {
    "ExecuteTime": {
     "end_time": "2025-05-16T11:30:47.433071Z",
     "start_time": "2025-05-16T11:30:47.429677Z"
    }
   },
   "cell_type": "code",
   "source": [
    "x=torch.tensor([2.] ,requires_grad=True)\n",
    "x2=x.detach() # detach는 requries_grad = False인 새로운 텐서를 만드는 것\n",
    "print(x)\n",
    "print(x2)\n",
    "y=x**2\n",
    "y_2 = x2 ** 2\n",
    "print(y)\n",
    "y.backward()\n",
    "x.grad\n",
    "\n",
    "# y_2.backward() # error,,!"
   ],
   "id": "e27d975808929c27",
   "outputs": [
    {
     "name": "stdout",
     "output_type": "stream",
     "text": [
      "tensor([2.], requires_grad=True)\n",
      "tensor([2.])\n",
      "tensor([4.], grad_fn=<PowBackward0>)\n"
     ]
    },
    {
     "data": {
      "text/plain": [
       "tensor([4.])"
      ]
     },
     "execution_count": 19,
     "metadata": {},
     "output_type": "execute_result"
    }
   ],
   "execution_count": 19
  },
  {
   "metadata": {},
   "cell_type": "markdown",
   "source": "torch.no_grad, backward() 이거 복습",
   "id": "f8de1e343d4c4f52"
  },
  {
   "metadata": {},
   "cell_type": "code",
   "outputs": [
    {
     "name": "stdout",
     "output_type": "stream",
     "text": [
      "True\n",
      "tensor([1.])\n",
      "True\n",
      "tensor([1.], grad_fn=<PowBackward0>)\n"
     ]
    }
   ],
   "execution_count": 6,
   "source": [
    "# detach와 torch.no_grad ==> 중요!!!\n",
    "x = torch.tensor([1.], requires_grad=True)\n",
    "# chain rule을 위해 계속 grad_fu을 update 하니까 grad_fn 잠시 안 계산하고 싶을 때 torch.no_grad\n",
    "# 모델 테스트 시에는 불필요하게 메모리 쓸 필요 없기 때문!\n",
    "# 여기에서만 미분 ㄴㄴ 하자는 뜻\n",
    "with torch.no_grad():\n",
    "    y = x ** 2\n",
    "    print(x.requires_grad)\n",
    "    print(y)\n",
    "\n",
    "print(x.requires_grad)\n",
    "# y.backward() #error\n",
    "y = x ** 2\n",
    "print(y)\n"
   ],
   "id": "35b2246a17fedb81"
  },
  {
   "metadata": {},
   "cell_type": "code",
   "outputs": [
    {
     "name": "stdout",
     "output_type": "stream",
     "text": [
      "True\n",
      "tensor([1.], grad_fn=<PowBackward0>)\n",
      "True\n",
      "tensor([1.], grad_fn=<PowBackward0>)\n"
     ]
    },
    {
     "data": {
      "text/plain": [
       "tensor([2.])"
      ]
     },
     "execution_count": 24,
     "metadata": {},
     "output_type": "execute_result"
    }
   ],
   "execution_count": 24,
   "source": [
    "x = torch.tensor([1.], requires_grad=True)\n",
    "\n",
    "with torch.no_grad():\n",
    "\n",
    "    y = x ** 2\n",
    "\n",
    "    print(x.requires_grad) # 여전히 true\n",
    "\n",
    "    print(y) # 하지만 여기에서 grad_fn이 사라진걸 알 수 있다.\n",
    "\n",
    "print(x.requires_grad)\n",
    "\n",
    "# y.backward() -> error!\n",
    "\n",
    "y = x ** 2\n",
    "\n",
    "print(y)\n",
    "\n",
    "y.backward()\n",
    "x.grad\n",
    "\n",
    "# with문 안에서만 grad_fn 업데이트를 하지 않겠다..!"
   ],
   "id": "9de6cfe6093414fd"
  },
  {
   "metadata": {},
   "cell_type": "code",
   "outputs": [
    {
     "name": "stdout",
     "output_type": "stream",
     "text": [
      "False\n",
      "tensor([1.])\n"
     ]
    }
   ],
   "execution_count": 64,
   "source": [
    "x=torch.tensor([1.], requires_grad=True)\n",
    "x=x.detach()\n",
    "y = x**2\n",
    "print(x.requires_grad)\n",
    "print(y)\n",
    "# y.backward() # error!"
   ],
   "id": "92f385e97f6143"
  },
  {
   "metadata": {},
   "cell_type": "code",
   "outputs": [
    {
     "name": "stdout",
     "output_type": "stream",
     "text": [
      "tensor([1.], grad_fn=<AbsBackward0>)\n"
     ]
    }
   ],
   "execution_count": 5,
   "source": [
    "x = torch.tensor([-1.], requires_grad=True)\n",
    "y = torch.abs(x)\n",
    "print(y)"
   ],
   "id": "f516ea9b66e87061"
  },
  {
   "metadata": {},
   "cell_type": "code",
   "outputs": [],
   "execution_count": 6,
   "source": "y.backward()",
   "id": "9fefc2ae4dc4f05c"
  },
  {
   "metadata": {},
   "cell_type": "code",
   "outputs": [
    {
     "data": {
      "text/plain": [
       "tensor([-1.])"
      ]
     },
     "execution_count": 7,
     "metadata": {},
     "output_type": "execute_result"
    }
   ],
   "execution_count": 7,
   "source": "x.grad",
   "id": "28267753201aac3a"
  },
  {
   "metadata": {},
   "cell_type": "markdown",
   "source": "## 간단한 인공신경망 만들기",
   "id": "96605894c6854dd2"
  },
  {
   "metadata": {
    "ExecuteTime": {
     "end_time": "2025-05-22T04:00:45.452573Z",
     "start_time": "2025-05-22T04:00:45.439418Z"
    }
   },
   "cell_type": "code",
   "source": [
    "import torch\n",
    "from torch import nn\n",
    "\n",
    "seed = 1234\n",
    "torch.manual_seed(seed)\n",
    "\n",
    "x = torch.tensor([1.])\n",
    "\n",
    "model = nn.Linear(1, 1) # 입력 node 한 개, 출력 node 한 개인 layer 만듦.\n",
    "\n",
    "print(model.weight) # 만들면서 initialize 한다.. 책 57페이지 참고\n",
    "print(model.bias)\n",
    "\n",
    "# 이제 x를 이 모델에 통과 시켜보자\n",
    "y = model(x)\n",
    "print(y)\n",
    "\n",
    "# 자세히 확인해보자\n",
    "\n",
    "y = x @ model.weight + model.bias\n",
    "print(y)"
   ],
   "id": "3e2fd57d8dcab93a",
   "outputs": [
    {
     "name": "stdout",
     "output_type": "stream",
     "text": [
      "Parameter containing:\n",
      "tensor([[-0.9420]], requires_grad=True)\n",
      "Parameter containing:\n",
      "tensor([-0.1962], requires_grad=True)\n",
      "tensor([-1.1382], grad_fn=<ViewBackward0>)\n",
      "tensor([-1.1382], grad_fn=<AddBackward0>)\n"
     ]
    }
   ],
   "execution_count": 3
  },
  {
   "metadata": {
    "ExecuteTime": {
     "end_time": "2025-05-22T04:00:46.602359Z",
     "start_time": "2025-05-22T04:00:46.598770Z"
    }
   },
   "cell_type": "code",
   "source": [
    "fc1 = nn.Linear(1, 3) # Fully connected layer\n",
    "\n",
    "fc2 = nn.Linear(3, 1)\n",
    "\n",
    "print(fc1.weight)\n",
    "print(fc1.bias)\n",
    "print(fc2.weight)\n",
    "print(fc2.bias)"
   ],
   "id": "c727736e7c163fd5",
   "outputs": [
    {
     "name": "stdout",
     "output_type": "stream",
     "text": [
      "Parameter containing:\n",
      "tensor([[-0.4803],\n",
      "        [-0.2667],\n",
      "        [-0.8834]], requires_grad=True)\n",
      "Parameter containing:\n",
      "tensor([ 0.4013, -0.8964, -0.0637], requires_grad=True)\n",
      "Parameter containing:\n",
      "tensor([[ 0.2007, -0.1946,  0.3276]], requires_grad=True)\n",
      "Parameter containing:\n",
      "tensor([0.0728], requires_grad=True)\n"
     ]
    }
   ],
   "execution_count": 4
  },
  {
   "metadata": {
    "ExecuteTime": {
     "end_time": "2025-05-16T12:53:09.695024Z",
     "start_time": "2025-05-16T12:53:09.692513Z"
    }
   },
   "cell_type": "code",
   "source": [
    "x = torch.tensor([1.])\n",
    "x = fc1(x)\n",
    "print(x)"
   ],
   "id": "4227013a7f1b1315",
   "outputs": [
    {
     "name": "stdout",
     "output_type": "stream",
     "text": [
      "tensor([-0.0790, -1.1631, -0.9471], grad_fn=<ViewBackward0>)\n"
     ]
    }
   ],
   "execution_count": 12
  },
  {
   "metadata": {
    "ExecuteTime": {
     "end_time": "2025-05-16T12:53:40.841950Z",
     "start_time": "2025-05-16T12:53:40.839626Z"
    }
   },
   "cell_type": "code",
   "source": [
    "x = fc2(x)\n",
    "print(x)"
   ],
   "id": "1e38ec54306770a8",
   "outputs": [
    {
     "name": "stdout",
     "output_type": "stream",
     "text": [
      "tensor([-0.0270], grad_fn=<ViewBackward0>)\n"
     ]
    }
   ],
   "execution_count": 13
  },
  {
   "metadata": {
    "ExecuteTime": {
     "end_time": "2025-05-16T13:02:36.278777Z",
     "start_time": "2025-05-16T13:02:36.275608Z"
    }
   },
   "cell_type": "code",
   "source": [
    "# 뜯어보자.. 식은 공식 문서 nn.Linear\n",
    "x = torch.tensor([1.])\n",
    "(x @ fc1.weight.T + fc1.bias) @ fc2.weight.T + fc2.bias"
   ],
   "id": "2212aff379f9132b",
   "outputs": [
    {
     "data": {
      "text/plain": [
       "tensor([-0.0270], grad_fn=<AddBackward0>)"
      ]
     },
     "execution_count": 16,
     "metadata": {},
     "output_type": "execute_result"
    }
   ],
   "execution_count": 16
  },
  {
   "metadata": {},
   "cell_type": "markdown",
   "source": [
    "`nn.Linear`은 개x채x행x열에서 뒤에서 붙어 만들어짐.\n",
    "\n",
    "예를 들어서 (3, 2, 3, 4)가 있으면\n",
    "\n",
    "4열을 만들고 0 0 0 0\n",
    "\n",
    "이놈이 3행이 있는 거고 <p>\n",
    "0 0 0 0 <p>\n",
    "0 0 0 0 <p>\n",
    "0 0 0 0 <p>\n",
    "\n",
    "그 다음 2개의 채널로 있는거다..!\n",
    "\n",
    "그리고 이 모음이 총 3개가 있다..!"
   ],
   "id": "ca9ee52ec421648a"
  },
  {
   "metadata": {},
   "cell_type": "markdown",
   "source": [
    "`nn.Linear` 은 개 채 행 열에서 \"채\" 형태로 (1D data) 들어오길 기대하는 녀석이다.\n",
    "\n",
    "(3, 4) -> 4개의 채널을 가진 3개의 데이터 ???\n",
    "\n",
    "키와 몸무게 5 사람 - > (5, 2)\n",
    "\n",
    "즉, 노드 하나가 곧 한 채널을 의미한다.\n",
    "\n",
    "따라서, 데이터 여러개를 통과 시키고 싶다면 개 x 채의 형태로 줘야한다.\n",
    "\n",
    "**nn.Linear()** 통과 시키려면 개 x 채 의 형태의 데이터를 보내야한다... 이미지 데이터는 채 행 열을 flatten 해서 MLP에 통과 시켜야한다."
   ],
   "id": "f2b80e3a41657402"
  },
  {
   "metadata": {
    "ExecuteTime": {
     "end_time": "2025-05-16T13:23:51.418260Z",
     "start_time": "2025-05-16T13:23:51.413992Z"
    }
   },
   "cell_type": "code",
   "source": [
    "fc1 = nn.Linear(1, 3)\n",
    "fc2 = nn.Linear(3, 1)\n",
    "\n",
    "x = torch.tensor([1.])\n",
    "\n",
    "model = nn.Sequential(fc1, fc2) # layer 풀칠 1 - 3 - 1\n",
    "\n",
    "print(model(x))\n",
    "print((x @ fc1.weight.T + fc1.bias) @ fc2.weight.T + fc2.bias)"
   ],
   "id": "f6adc7658a0726d5",
   "outputs": [
    {
     "name": "stdout",
     "output_type": "stream",
     "text": [
      "tensor([-0.0901], grad_fn=<ViewBackward0>)\n",
      "tensor([-0.0901], grad_fn=<AddBackward0>)\n"
     ]
    }
   ],
   "execution_count": 18
  },
  {
   "metadata": {
    "ExecuteTime": {
     "end_time": "2025-05-16T13:26:33.301753Z",
     "start_time": "2025-05-16T13:26:33.297234Z"
    }
   },
   "cell_type": "code",
   "source": [
    "model = nn.Sequential(nn.Linear(2,5), # 여기서는 (채, 채) 2개 채널 -> 5개 채널\n",
    "                      nn.Linear(5, 10),\n",
    "                      nn.Linear(10, 3))\n",
    "\n",
    "x = torch.randn(2)\n",
    "\n",
    "print(x)\n",
    "\n",
    "print(model(x))"
   ],
   "id": "f1bb2aac2b265068",
   "outputs": [
    {
     "name": "stdout",
     "output_type": "stream",
     "text": [
      "tensor([-1.7873,  0.0538])\n",
      "tensor([ 0.1002, -0.2118,  0.2712], grad_fn=<ViewBackward0>)\n"
     ]
    }
   ],
   "execution_count": 19
  },
  {
   "metadata": {
    "ExecuteTime": {
     "end_time": "2025-05-16T13:28:06.949350Z",
     "start_time": "2025-05-16T13:28:06.946998Z"
    }
   },
   "cell_type": "code",
   "source": [
    "x = torch.randn(1, 2)\n",
    "print(x)\n",
    "print(model(x))"
   ],
   "id": "ddf6d6b45c66e02f",
   "outputs": [
    {
     "name": "stdout",
     "output_type": "stream",
     "text": [
      "tensor([[-0.4876,  0.1944]])\n",
      "tensor([[0.0431, 0.0027, 0.3130]], grad_fn=<AddmmBackward0>)\n"
     ]
    }
   ],
   "execution_count": 21
  },
  {
   "metadata": {
    "ExecuteTime": {
     "end_time": "2025-05-16T13:30:22.878342Z",
     "start_time": "2025-05-16T13:30:22.875815Z"
    }
   },
   "cell_type": "code",
   "source": [
    "x = torch.rand(5, 2) # 개 x 채 => 두 개의 채널 값(키 몸무게)을 가지는 데이터 5개를 통과시킴 -> feature의 수 관점...\n",
    "print(x)\n",
    "print(model(x))"
   ],
   "id": "a36637787d93a5e7",
   "outputs": [
    {
     "name": "stdout",
     "output_type": "stream",
     "text": [
      "tensor([[0.4408, 0.3674],\n",
      "        [0.7157, 0.8493],\n",
      "        [0.6216, 0.4546],\n",
      "        [0.3720, 0.8920],\n",
      "        [0.3819, 0.8610]])\n",
      "tensor([[-0.0114,  0.1729,  0.3560],\n",
      "        [-0.1090,  0.3244,  0.4465],\n",
      "        [-0.0321,  0.2186,  0.3740],\n",
      "        [-0.1090,  0.2864,  0.4498],\n",
      "        [-0.1034,  0.2805,  0.4443]], grad_fn=<AddmmBackward0>)\n"
     ]
    }
   ],
   "execution_count": 26
  },
  {
   "metadata": {
    "ExecuteTime": {
     "end_time": "2025-05-16T13:37:38.173613Z",
     "start_time": "2025-05-16T13:37:38.171768Z"
    }
   },
   "cell_type": "code",
   "source": [
    "x = torch.randn(2, 3, 1, 4, 5, 2) # 2만 채! 나머지는 개!\n",
    "\n",
    "print(model(x).shape)"
   ],
   "id": "b03c9d8094f57e50",
   "outputs": [
    {
     "name": "stdout",
     "output_type": "stream",
     "text": [
      "torch.Size([2, 3, 1, 4, 5, 3])\n"
     ]
    }
   ],
   "execution_count": 27
  },
  {
   "metadata": {},
   "cell_type": "markdown",
   "source": "<hr>",
   "id": "d5e63822054d9d71"
  },
  {
   "metadata": {},
   "cell_type": "markdown",
   "source": "## About class",
   "id": "c40929cc728c1d08"
  },
  {
   "metadata": {
    "ExecuteTime": {
     "end_time": "2025-05-16T14:47:10.775299Z",
     "start_time": "2025-05-16T14:47:10.772442Z"
    }
   },
   "cell_type": "code",
   "source": [
    "# 로봇을 만든다고 해보자 -> 로봇의 키가 몇이고 몸무게가 몇이고,,, 안녕이랄고 말하면서 인사를 하는 기능이 있고...\n",
    "# 클래스는 좀 큰 변수를 만든다고 봐야... a = 1 은 숫자 한 개 들어간 변수..\n",
    "# a에 숫자 한 개도 넣고 리스트도 넣고 그것들을 가지는 뭔가 기능을 하는 함수를 만들어 넣고 그럴 순 없을까?\n",
    "# 객체 지향 프로그래밍..\n",
    "\n",
    "class robot:\n",
    "    def greeting(self): # method : 클래스 내부의 함수, 첫 번째 매개변수는 무조건 self\n",
    "        print(\"Hello\")\n",
    "\n",
    "bot1 = robot() # robot 이라는 클래스에 해당하는 instance 만들기...\n",
    "bot1.greeting() # 쩜은 \"이놈이 가지고 있는\" 정도의 의미"
   ],
   "id": "a2d53e039adeec7e",
   "outputs": [
    {
     "name": "stdout",
     "output_type": "stream",
     "text": [
      "Hello\n"
     ]
    }
   ],
   "execution_count": 30
  },
  {
   "metadata": {
    "ExecuteTime": {
     "end_time": "2025-05-16T14:54:23.858842Z",
     "start_time": "2025-05-16T14:54:23.856919Z"
    }
   },
   "cell_type": "code",
   "source": [
    "a = [1, 2, 3] # 인스턴스 생성\n",
    "a.append(4) # a라는 이름의 인스턴스가 append라는 이름의 method 실행"
   ],
   "id": "5acf05d4b20dc7c5",
   "outputs": [],
   "execution_count": 34
  },
  {
   "metadata": {
    "ExecuteTime": {
     "end_time": "2025-05-16T14:50:22.974397Z",
     "start_time": "2025-05-16T14:50:22.972708Z"
    }
   },
   "cell_type": "code",
   "source": [
    "class robot:\n",
    "    def __init__(self): # initialize 라서 init, 인스턴스 생성 즉시 이 함수로 들어옴!!!!!\n",
    "        print(\"__init__으로 들어옴\")\n",
    "\n",
    "bot1 = robot()\n"
   ],
   "id": "92a894259243e752",
   "outputs": [
    {
     "name": "stdout",
     "output_type": "stream",
     "text": [
      "__init__으로 들어옴\n"
     ]
    }
   ],
   "execution_count": 32
  },
  {
   "metadata": {
    "ExecuteTime": {
     "end_time": "2025-05-16T14:57:31.955072Z",
     "start_time": "2025-05-16T14:57:31.953084Z"
    }
   },
   "cell_type": "code",
   "source": [
    "class robot:\n",
    "    def __init__(self):\n",
    "        self.sentence = \"안녕\"\n",
    "        # self는 만들어진 인스턴스 자기자신 자체를 가리킴.\n",
    "        # self.무엇 은 self 내부의 것(변수, 함수)을 가리킴.\n",
    "        # 클래스 내부의 변수는 속성 이라고 한다.\n",
    "\n",
    "    def greeting(self):\n",
    "        #print(sentence) -> error\n",
    "        print(self.sentence) # 주머니에서 sentence를 꺼내 쓴다..\n",
    "\n",
    "robot().greeting()"
   ],
   "id": "3838038dff2c2cc3",
   "outputs": [
    {
     "name": "stdout",
     "output_type": "stream",
     "text": [
      "안녕\n"
     ]
    }
   ],
   "execution_count": 35
  },
  {
   "metadata": {
    "ExecuteTime": {
     "end_time": "2025-05-16T15:04:26.967557Z",
     "start_time": "2025-05-16T15:04:26.965481Z"
    }
   },
   "cell_type": "code",
   "source": [
    "class robot:\n",
    "    def __init__(self, height, sentence): # 밖에서 넘어오는 매개변수\n",
    "        self.height = height # self.height는 밖에서 들어온 height랑은 다른거임.\n",
    "                             # 클래스 내부에서 써먹을라고 주머니에 넣은 것\n",
    "        self.sentence = sentence\n",
    "\n",
    "    def greeting(self):\n",
    "        #print(sentence) # error\n",
    "        print(self.sentence)\n",
    "        print(self.height)\n",
    "\n",
    "bot1 = robot(180, \"안녕\")\n",
    "bot1.greeting()\n",
    "\n",
    "print(bot1.height)\n",
    "bot1.height -= 10\n",
    "print(bot1.height)"
   ],
   "id": "9c880a242ce4a4c6",
   "outputs": [
    {
     "name": "stdout",
     "output_type": "stream",
     "text": [
      "안녕\n",
      "180\n",
      "180\n",
      "170\n"
     ]
    }
   ],
   "execution_count": 40
  },
  {
   "metadata": {
    "ExecuteTime": {
     "end_time": "2025-05-16T15:08:52.007693Z",
     "start_time": "2025-05-16T15:08:52.005308Z"
    }
   },
   "cell_type": "code",
   "source": [
    "# 밖에서 속성을 못 건드리게 ㄱㄱ\n",
    "class robot:\n",
    "    def __init__(self, height, sentence):\n",
    "        self.__height = height # 비공개로 만들고 싶은 속성은 앞에 밑줄 두 개\n",
    "        self.sentence = sentence\n",
    "\n",
    "    def greeting(self):\n",
    "        print(self.sentence)\n",
    "        self.__height -= 10 # 내부에선 조작 가능..\n",
    "        print(self.__height)\n",
    "\n",
    "bot1 = robot(180, \"hi\")\n",
    "bot1.greeting()\n",
    "\n",
    "# bot1.__height -> 없다고 뜸"
   ],
   "id": "7ea4cd45a632a8a9",
   "outputs": [
    {
     "name": "stdout",
     "output_type": "stream",
     "text": [
      "hi\n",
      "170\n"
     ]
    }
   ],
   "execution_count": 43
  },
  {
   "metadata": {
    "ExecuteTime": {
     "end_time": "2025-05-16T15:11:47.459252Z",
     "start_time": "2025-05-16T15:11:47.456990Z"
    }
   },
   "cell_type": "code",
   "source": [
    "# 상속 -> 효율화다!\n",
    "class Robot: # 부모 클래스\n",
    "    def greeting(self):\n",
    "        print(\"안녕하세요\")\n",
    "\n",
    "\n",
    "class Study_dot(Robot): # 자식 클래스, Robot 클래스를 상속 받는다. -> Robot이 가지는 함수 사용 가능!\n",
    "    def study(self):\n",
    "        print(\"열심열심!\")\n",
    "\n",
    "\n",
    "bot = Study_dot()\n",
    "bot.greeting() # 상속을 받아서 greeting 메서드를 쓸 수 있다..!"
   ],
   "id": "d3a4c3c76f2d3117",
   "outputs": [
    {
     "name": "stdout",
     "output_type": "stream",
     "text": [
      "안녕하세요\n"
     ]
    }
   ],
   "execution_count": 44
  },
  {
   "metadata": {
    "ExecuteTime": {
     "end_time": "2025-05-16T15:14:14.035038Z",
     "start_time": "2025-05-16T15:14:14.033132Z"
    }
   },
   "cell_type": "code",
   "source": [
    "# 메서드 오버라이딩(overrding)\n",
    "\n",
    "class Robot: # 부모 클래스\n",
    "    def greeting(self):\n",
    "        print(\"안녕하세요\")\n",
    "\n",
    "\n",
    "class Study_dot(Robot): # 자식 클래스\n",
    "    def greeting(self): # 부모의 greeting을 물려받았으나 여기서 다시 정의하면 덮어써버림..!\n",
    "        print(\"공부하는 로봇 열심열심!\")\n",
    "\n",
    "Study_dot().greeting()"
   ],
   "id": "e30a8382fd28ea48",
   "outputs": [
    {
     "name": "stdout",
     "output_type": "stream",
     "text": [
      "공부하는 로봇 열심열심!\n"
     ]
    }
   ],
   "execution_count": 47
  },
  {
   "metadata": {
    "ExecuteTime": {
     "end_time": "2025-05-16T15:17:08.734775Z",
     "start_time": "2025-05-16T15:17:08.732684Z"
    }
   },
   "cell_type": "code",
   "source": [
    "# 메서드 오버라이딩(overrding)\n",
    "\n",
    "class Robot: # 부모 클래스\n",
    "    def greeting(self):\n",
    "        print(\"로봇입니다\")\n",
    "\n",
    "\n",
    "class Study_dot(Robot): # 자식 클래스\n",
    "    def greeting(self):\n",
    "        super().greeting() # super()가 부모 클래스를 가리킴 -> 부모의 것을 이렇게 사용하는 것 가능..!\n",
    "        print(\"공부하는 로봇입니다!\") # 부모의 원래 기능은 유지, 거기에 덧붙이거 싶을 때 오버라이딩 사용 가능\n",
    "\n",
    "Study_dot().greeting()"
   ],
   "id": "20572f530a07e1b2",
   "outputs": [
    {
     "name": "stdout",
     "output_type": "stream",
     "text": [
      "로봇입니다\n",
      "공부하는 로봇입니다!\n"
     ]
    }
   ],
   "execution_count": 50
  },
  {
   "metadata": {
    "ExecuteTime": {
     "end_time": "2025-05-16T15:21:43.214529Z",
     "start_time": "2025-05-16T15:21:43.211528Z"
    }
   },
   "cell_type": "code",
   "source": [
    "class robot:\n",
    "    def func1(self):\n",
    "        print(\"부모 클래스의 func1 실행\")\n",
    "        self.money = 100\n",
    "\n",
    "class Study_bot(robot):\n",
    "    def func2(self):\n",
    "        print(\"자식 클래스의 func2 실행\")\n",
    "        self.book = 10\n",
    "\n",
    "bot1 = Study_bot()\n",
    "bot1.func2()\n",
    "print(bot1.book)\n",
    "# print(bot1.money) 못 가져옴.. 이게 돈을 받을려면 저 func1이 한 번은 실행이 되어야함! (그럼 __init__ 쓰면 되는거 아닌교?)\n",
    "\n",
    "bot1.func1() # 부모 함수를 실행해야 부모의 속성더 가져오게 된다.\n",
    "print(bot1.money)"
   ],
   "id": "fc8789cae33ac7fa",
   "outputs": [
    {
     "name": "stdout",
     "output_type": "stream",
     "text": [
      "자식 클래스의 func2 실행\n",
      "10\n",
      "부모 클래스의 func1 실행\n",
      "100\n"
     ]
    }
   ],
   "execution_count": 54
  },
  {
   "metadata": {
    "ExecuteTime": {
     "end_time": "2025-05-16T15:28:01.633630Z",
     "start_time": "2025-05-16T15:28:01.631551Z"
    }
   },
   "cell_type": "code",
   "source": [
    "# 딥러닝 코드에선 아래와 같은 코드를 많이 보게 됨\n",
    "class Robot:\n",
    "    def __init__(self):\n",
    "        print(\"부모 클래스의 init 실행\")\n",
    "        self.money = 100\n",
    "\n",
    "class StudyBot(Robot):\n",
    "    def __init__(self):\n",
    "        super().__init__()\n",
    "        print(\"자식 클래스의 init 실향\")\n",
    "\n",
    "StudyBot().money"
   ],
   "id": "d9d13d099435b940",
   "outputs": [
    {
     "name": "stdout",
     "output_type": "stream",
     "text": [
      "부모 클래스의 init 실행\n",
      "자식 클래스의 init 실향\n"
     ]
    },
    {
     "data": {
      "text/plain": [
       "100"
      ]
     },
     "execution_count": 56,
     "metadata": {},
     "output_type": "execute_result"
    }
   ],
   "execution_count": 56
  },
  {
   "metadata": {},
   "cell_type": "code",
   "outputs": [],
   "execution_count": null,
   "source": [
    "class Robot:\n",
    "    def __init__(self):\n",
    "        print(\"부모 클래스의 init 실행\")\n",
    "        self.money = 100\n",
    "\n",
    "class StudyBot(Robot):\n",
    "    def fun2(self): # 자식 클래스에 __init__이 없다면 부모 클래스의 __init__이 자동 호출\n",
    "        super().__init__()\n",
    "        print(\"자식 클래스의 init 실향\")"
   ],
   "id": "7d20ebda4adf157a"
  },
  {
   "metadata": {},
   "cell_type": "markdown",
   "source": "<hr>",
   "id": "1093b6fd484ccbef"
  },
  {
   "metadata": {
    "ExecuteTime": {
     "end_time": "2025-05-16T15:41:03.061270Z",
     "start_time": "2025-05-16T15:41:03.055648Z"
    }
   },
   "cell_type": "code",
   "source": [
    "class MyModel(nn.Module):\n",
    "    def __init__(self):\n",
    "        super().__init__()\n",
    "\n",
    "        # MyModel(nn.Module)에서 super().__init__()는 nn.Module의 초기화 코드를 실헹한다.\n",
    "        # 이 초기화는 모델 내부의 layer들을 등록하고 추적할 수 있게 해주는 중요한 역할한다.\n",
    "        # 모델 안에 넣고 학습 가능한 layer로 등록하려면 → 반드시 super().__init__() 호출이 필요하다.\n",
    "        # 즉, 부모 클래스의 __init__을 상속받고 실행하므로서 .forward, parameter()등을 쓸 수 있다.\n",
    "\n",
    "        self.fc1 = nn.Linear(2,5)\n",
    "        self.fc2 = nn.Linear(5,10)\n",
    "        self.fc3 = nn.Linear(10,3)\n",
    "        self.sig1 = nn.Sigmoid()\n",
    "        self.sig2 = nn.Sigmoid()\n",
    "        self.sig3 = nn.Sigmoid()\n",
    "\n",
    "\n",
    "    def forward(self, x):\n",
    "        x = self.fc1(x)\n",
    "        x = self.sig1(x)\n",
    "        x = self.fc2(x)\n",
    "        x = self.sig2(x)\n",
    "        x = self.fc3(x)\n",
    "        x = self.sig3(x)\n",
    "        return x\n",
    "\n",
    "model = MyModel()\n",
    "x = torch.randn(5,2)\n",
    "y = model(x)\n",
    "print(y)"
   ],
   "id": "6ea36a89c06dc352",
   "outputs": [
    {
     "name": "stdout",
     "output_type": "stream",
     "text": [
      "tensor([[0.4709, 0.5548, 0.5764],\n",
      "        [0.4677, 0.5541, 0.5756],\n",
      "        [0.4724, 0.5558, 0.5769],\n",
      "        [0.4643, 0.5500, 0.5739],\n",
      "        [0.4662, 0.5526, 0.5750]], grad_fn=<SigmoidBackward0>)\n"
     ]
    }
   ],
   "execution_count": 66
  },
  {
   "metadata": {
    "ExecuteTime": {
     "end_time": "2025-05-16T15:42:19.062840Z",
     "start_time": "2025-05-16T15:42:19.059849Z"
    }
   },
   "cell_type": "code",
   "source": [
    "print(model)\n",
    "print(model.fc1.weight)\n",
    "print(model.fc2.bias)"
   ],
   "id": "a7e17d66550adb36",
   "outputs": [
    {
     "name": "stdout",
     "output_type": "stream",
     "text": [
      "MyModel(\n",
      "  (fc1): Linear(in_features=2, out_features=5, bias=True)\n",
      "  (fc2): Linear(in_features=5, out_features=10, bias=True)\n",
      "  (fc3): Linear(in_features=10, out_features=3, bias=True)\n",
      "  (sig1): Sigmoid()\n",
      "  (sig2): Sigmoid()\n",
      "  (sig3): Sigmoid()\n",
      ")\n",
      "Parameter containing:\n",
      "tensor([[ 0.3675, -0.6347],\n",
      "        [-0.2294, -0.1896],\n",
      "        [ 0.0964,  0.6984],\n",
      "        [-0.1745, -0.1285],\n",
      "        [-0.0418,  0.6427]], requires_grad=True)\n",
      "Parameter containing:\n",
      "tensor([ 0.1930, -0.3964, -0.2680, -0.2347,  0.3082, -0.3488, -0.0661,  0.0317,\n",
      "        -0.1447,  0.2445], requires_grad=True)\n"
     ]
    }
   ],
   "execution_count": 68
  },
  {
   "metadata": {
    "ExecuteTime": {
     "end_time": "2025-05-16T15:47:01.198582Z",
     "start_time": "2025-05-16T15:47:01.195601Z"
    }
   },
   "cell_type": "code",
   "source": [
    "class MyModel(nn.Module):\n",
    "    def __init__(self):\n",
    "        super().__init__()\n",
    "\n",
    "        self.linear = nn.Sequential(nn.Linear(2, 5),\n",
    "                                    nn.Sigmoid(),\n",
    "                                    nn.Linear(5, 10),\n",
    "                                    nn.Sigmoid(),\n",
    "                                    nn.Linear(10, 3),\n",
    "                                    nn.Sigmoid())\n",
    "\n",
    "    def forward(self, x):\n",
    "        x = self.linear(x)\n",
    "        return x\n",
    "\n",
    "model = MyModel()\n",
    "x = torch.randn(5,2)\n",
    "y = model(x)\n",
    "print(y)"
   ],
   "id": "d8c1108de5b4a5f6",
   "outputs": [
    {
     "name": "stdout",
     "output_type": "stream",
     "text": [
      "tensor([[0.5054, 0.4225, 0.4049],\n",
      "        [0.4986, 0.4163, 0.4059],\n",
      "        [0.4987, 0.4145, 0.4024],\n",
      "        [0.5026, 0.4198, 0.4052],\n",
      "        [0.5037, 0.4193, 0.4022]], grad_fn=<SigmoidBackward0>)\n"
     ]
    }
   ],
   "execution_count": 70
  },
  {
   "metadata": {
    "ExecuteTime": {
     "end_time": "2025-05-16T15:54:54.210747Z",
     "start_time": "2025-05-16T15:54:54.208514Z"
    }
   },
   "cell_type": "code",
   "source": [
    "print(model)\n",
    "print(model.linear[0].weight)"
   ],
   "id": "eba4f74e14c6ddfe",
   "outputs": [
    {
     "name": "stdout",
     "output_type": "stream",
     "text": [
      "MyModel(\n",
      "  (linear): Sequential(\n",
      "    (0): Linear(in_features=2, out_features=5, bias=True)\n",
      "    (1): Sigmoid()\n",
      "    (2): Linear(in_features=5, out_features=10, bias=True)\n",
      "    (3): Sigmoid()\n",
      "    (4): Linear(in_features=10, out_features=3, bias=True)\n",
      "    (5): Sigmoid()\n",
      "  )\n",
      ")\n",
      "Parameter containing:\n",
      "tensor([[-0.5476,  0.5513],\n",
      "        [ 0.6354, -0.0206],\n",
      "        [-0.2853,  0.3714],\n",
      "        [ 0.4735,  0.3682],\n",
      "        [ 0.0609,  0.0381]], requires_grad=True)\n"
     ]
    }
   ],
   "execution_count": 75
  },
  {
   "metadata": {
    "ExecuteTime": {
     "end_time": "2025-05-16T15:56:04.160132Z",
     "start_time": "2025-05-16T15:56:04.156996Z"
    }
   },
   "cell_type": "code",
   "source": "list(model.parameters())",
   "id": "38368577d2e2badc",
   "outputs": [
    {
     "data": {
      "text/plain": [
       "[Parameter containing:\n",
       " tensor([[-0.5476,  0.5513],\n",
       "         [ 0.6354, -0.0206],\n",
       "         [-0.2853,  0.3714],\n",
       "         [ 0.4735,  0.3682],\n",
       "         [ 0.0609,  0.0381]], requires_grad=True),\n",
       " Parameter containing:\n",
       " tensor([-0.1474,  0.3822,  0.0663, -0.3515, -0.5233], requires_grad=True),\n",
       " Parameter containing:\n",
       " tensor([[ 0.1071,  0.0535,  0.4161,  0.0495,  0.4465],\n",
       "         [-0.1768, -0.3146, -0.0586, -0.1630, -0.0744],\n",
       "         [-0.1373,  0.4090,  0.1985,  0.0725, -0.0073],\n",
       "         [ 0.4268,  0.1982, -0.1121, -0.4280, -0.4276],\n",
       "         [-0.1687,  0.0779,  0.0762,  0.2116,  0.2033],\n",
       "         [-0.1911,  0.2156,  0.2435,  0.1185,  0.3606],\n",
       "         [-0.3225,  0.0707, -0.0965,  0.4039, -0.3499],\n",
       "         [ 0.1468, -0.3210, -0.3006, -0.4067,  0.0931],\n",
       "         [ 0.4076, -0.2256,  0.0321, -0.3652, -0.3216],\n",
       "         [ 0.1764, -0.0641, -0.0727, -0.2531,  0.2779]], requires_grad=True),\n",
       " Parameter containing:\n",
       " tensor([-0.3425, -0.2058,  0.2908,  0.1969, -0.4118, -0.4344, -0.2585, -0.4300,\n",
       "          0.3134, -0.2173], requires_grad=True),\n",
       " Parameter containing:\n",
       " tensor([[ 0.1258, -0.2569,  0.0778,  0.2948,  0.2048,  0.2834, -0.0678, -0.0425,\n",
       "          -0.2618, -0.1338],\n",
       "         [-0.1923, -0.0117,  0.0168, -0.0803, -0.1307,  0.3084,  0.0388, -0.2866,\n",
       "          -0.1126,  0.1746],\n",
       "         [-0.2971,  0.2942, -0.0343,  0.1216, -0.0749, -0.2058,  0.1701,  0.0958,\n",
       "          -0.1697,  0.1297]], requires_grad=True),\n",
       " Parameter containing:\n",
       " tensor([-0.1656, -0.2322, -0.3116], requires_grad=True)]"
      ]
     },
     "execution_count": 76,
     "metadata": {},
     "output_type": "execute_result"
    }
   ],
   "execution_count": 76
  },
  {
   "metadata": {
    "ExecuteTime": {
     "end_time": "2025-05-16T16:00:57.595675Z",
     "start_time": "2025-05-16T16:00:57.593731Z"
    }
   },
   "cell_type": "code",
   "source": [
    "# 파라미터 수 구하기\n",
    "print([p.numel() for p in model.parameters()])\n",
    "print(sum([p.numel() for p in model.parameters()]))\n",
    "print(sum([p.numel() for p in model.parameters() if p.requires_grad]))\n",
    "\n",
    "# numel() -> 텐서 안에 있는 전체 원소의 개수를 반환"
   ],
   "id": "8e7a480a7aa28758",
   "outputs": [
    {
     "name": "stdout",
     "output_type": "stream",
     "text": [
      "[10, 5, 50, 10, 30, 3]\n",
      "108\n",
      "108\n"
     ]
    }
   ],
   "execution_count": 79
  },
  {
   "metadata": {},
   "cell_type": "markdown",
   "source": "## Weight initialization",
   "id": "55bcc6007b432f01"
  },
  {
   "metadata": {
    "ExecuteTime": {
     "end_time": "2025-05-16T16:02:27.175290Z",
     "start_time": "2025-05-16T16:02:27.160815Z"
    }
   },
   "cell_type": "code",
   "source": [
    "import torch\n",
    "from torch import nn\n",
    "\n",
    "Fin=5000\n",
    "Fout=1000\n",
    "w = torch.zeros(141, Fin)\n",
    "nn.init.kaiming_uniform_(w, mode='fan_in', nonlinearity='relu') # forward pass에서 값의 범위를 유지시켜주기 위함\n",
    "print(w.std())\n",
    "print(torch.sqrt(torch.tensor(2/Fin)))\n",
    "w = torch.zeros(Fout, 212)\n",
    "nn.init.kaiming_uniform_(w, mode='fan_out', nonlinearity='relu') # backward pass에서 값의 범위를 유지시켜주기 위함\n",
    "print(w.std())\n",
    "print(torch.sqrt(torch.tensor(2/Fout)))\n",
    "\n",
    "# CNN?\n",
    "N=32\n",
    "C=64\n",
    "H=6\n",
    "W=10\n",
    "w = torch.zeros(N,C,H,W)\n",
    "nn.init.kaiming_uniform_(w, mode='fan_in', nonlinearity='relu')\n",
    "print(w.std())\n",
    "print(torch.sqrt(torch.tensor(2/(C*H*W))))\n",
    "\n",
    "w = torch.zeros(N,C,H,W)\n",
    "nn.init.kaiming_uniform_(w, mode='fan_out', nonlinearity='relu')\n",
    "print(w.std())\n",
    "print(torch.sqrt(torch.tensor(2/(N*H*W))))"
   ],
   "id": "76e3b0f7590f74b",
   "outputs": [
    {
     "name": "stdout",
     "output_type": "stream",
     "text": [
      "tensor(0.0200)\n",
      "tensor(0.0200)\n",
      "tensor(0.0448)\n",
      "tensor(0.0447)\n",
      "tensor(0.0228)\n",
      "tensor(0.0228)\n",
      "tensor(0.0323)\n",
      "tensor(0.0323)\n"
     ]
    }
   ],
   "execution_count": 80
  },
  {
   "metadata": {},
   "cell_type": "code",
   "outputs": [],
   "execution_count": null,
   "source": "",
   "id": "7fa1b98431cfd9de"
  }
 ],
 "metadata": {
  "kernelspec": {
   "display_name": "Python 3",
   "language": "python",
   "name": "python3"
  },
  "language_info": {
   "codemirror_mode": {
    "name": "ipython",
    "version": 2
   },
   "file_extension": ".py",
   "mimetype": "text/x-python",
   "name": "python",
   "nbconvert_exporter": "python",
   "pygments_lexer": "ipython2",
   "version": "2.7.6"
  }
 },
 "nbformat": 4,
 "nbformat_minor": 5
}
