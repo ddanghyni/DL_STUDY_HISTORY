{
 "cells": [
  {
   "cell_type": "code",
   "id": "initial_id",
   "metadata": {
    "collapsed": true,
    "ExecuteTime": {
     "end_time": "2025-05-19T11:04:49.440524Z",
     "start_time": "2025-05-19T11:04:48.277223Z"
    }
   },
   "source": [
    "import torch\n",
    "from torchvision import transforms\n",
    "import numpy as np\n",
    "\n",
    "from Pytorch_basic.Multiclass_classification import BATCH_SIZE"
   ],
   "outputs": [],
   "execution_count": 1
  },
  {
   "metadata": {
    "ExecuteTime": {
     "end_time": "2025-05-19T11:08:47.395047Z",
     "start_time": "2025-05-19T11:08:47.392159Z"
    }
   },
   "cell_type": "code",
   "source": [
    "class Custom_Dataset(torch.utils.data.Dataset):\n",
    "    def __init__(self, X, Y, transform=None):\n",
    "        self.X = X\n",
    "        self.Y = Y\n",
    "        self.transform = transform\n",
    "\n",
    "    def __len__(self):\n",
    "        return self.X.shape[0]\n",
    "\n",
    "    def __getitem__(self, idx):\n",
    "        x = self.X[idx]\n",
    "        if self.transform is not None:\n",
    "            x = self.transform(x)\n",
    "        y = self.Y[idx]\n",
    "        return x, y"
   ],
   "id": "fa933c38a40c0512",
   "outputs": [],
   "execution_count": 2
  },
  {
   "metadata": {
    "ExecuteTime": {
     "end_time": "2025-05-19T11:16:13.296762Z",
     "start_time": "2025-05-19T11:16:13.293855Z"
    }
   },
   "cell_type": "code",
   "source": [
    "X_data = np.arange(-10,10).reshape(-1,1)\n",
    "Y_data = X_data**2\n",
    "print(X_data.shape)"
   ],
   "id": "cddbf12f0dd045d6",
   "outputs": [
    {
     "name": "stdout",
     "output_type": "stream",
     "text": [
      "(20, 1)\n"
     ]
    }
   ],
   "execution_count": 6
  },
  {
   "metadata": {
    "ExecuteTime": {
     "end_time": "2025-05-19T11:16:14.550835Z",
     "start_time": "2025-05-19T11:16:14.546834Z"
    }
   },
   "cell_type": "code",
   "source": [
    "transform = lambda x:x+1 # 우리가 썼던건 transform = transforms.ToTensor()\n",
    "BATCH_SIZE = 8\n",
    "\n",
    "custome_DS = custom_DS = Custom_Dataset(X_data, Y_data, transform=transform)\n",
    "\n",
    "NoT = int(len(custom_DS)*0.8)\n",
    "NoV = int(len(custom_DS)*0.1)\n",
    "NoTes = len(custom_DS) - NoT - NoV\n",
    "\n",
    "train_DS, val_DS, test_DS = torch.utils.data.random_split(custom_DS, [NoT, NoV, NoTes])\n",
    "\n",
    "train_DL = torch.utils.data.DataLoader(train_DS, batch_size=BATCH_SIZE, shuffle=True)\n",
    "val_DL = torch.utils.data.DataLoader(val_DS, batch_size=BATCH_SIZE, shuffle=True)\n",
    "test_DL = torch.utils.data.DataLoader(test_DS, batch_size=BATCH_SIZE, shuffle=True)"
   ],
   "id": "7e38c57dae15ecf7",
   "outputs": [],
   "execution_count": 7
  },
  {
   "metadata": {
    "ExecuteTime": {
     "end_time": "2025-05-19T11:16:59.243287Z",
     "start_time": "2025-05-19T11:16:59.238545Z"
    }
   },
   "cell_type": "code",
   "source": [
    "for x_batch, y_batch in train_DL:\n",
    "    print(f\"x_batch = {x_batch.reshape(-1)}, \\n\"\n",
    "          f\"y_batch = {y_batch.reshape(-1)}\")\n",
    "print()\n",
    "for x_batch, y_batch in val_DL:\n",
    "    print(f\"x_batch = {x_batch.reshape(-1)}, \\n\"\n",
    "          f\"y_batch = {y_batch.reshape(-1)}\")\n",
    "print()\n",
    "for x_batch, y_batch in test_DL:\n",
    "    print(f\"x_batch = {x_batch.reshape(-1)}, \\n\"\n",
    "          f\"y_batch = {y_batch.reshape(-1)}\")"
   ],
   "id": "f1b9243f60696ef3",
   "outputs": [
    {
     "name": "stdout",
     "output_type": "stream",
     "text": [
      "x_batch = tensor([ 7,  1, -1,  5,  3, -2,  4,  9]), \n",
      "y_batch = tensor([36,  0,  4, 16,  4,  9,  9, 64])\n",
      "x_batch = tensor([ 8, -9,  2, -3, -6,  6, -8, -4]), \n",
      "y_batch = tensor([ 49, 100,   1,  16,  49,  25,  81,  25])\n",
      "\n",
      "x_batch = tensor([-5, -7]), \n",
      "y_batch = tensor([36, 64])\n",
      "\n",
      "x_batch = tensor([10,  0]), \n",
      "y_batch = tensor([81,  1])\n"
     ]
    }
   ],
   "execution_count": 8
  }
 ],
 "metadata": {
  "kernelspec": {
   "display_name": "Python 3",
   "language": "python",
   "name": "python3"
  },
  "language_info": {
   "codemirror_mode": {
    "name": "ipython",
    "version": 2
   },
   "file_extension": ".py",
   "mimetype": "text/x-python",
   "name": "python",
   "nbconvert_exporter": "python",
   "pygments_lexer": "ipython2",
   "version": "2.7.6"
  }
 },
 "nbformat": 4,
 "nbformat_minor": 5
}
