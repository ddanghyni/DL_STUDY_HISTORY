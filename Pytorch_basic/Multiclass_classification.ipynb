{
 "cells": [
  {
   "cell_type": "code",
   "id": "initial_id",
   "metadata": {
    "collapsed": true,
    "ExecuteTime": {
     "end_time": "2025-05-17T12:21:47.599805Z",
     "start_time": "2025-05-17T12:21:46.082750Z"
    }
   },
   "source": [
    "import torch\n",
    "from torchvision import datasets, transforms\n",
    "import matplotlib.pyplot as plt"
   ],
   "outputs": [],
   "execution_count": 1
  },
  {
   "metadata": {
    "ExecuteTime": {
     "end_time": "2025-05-17T12:21:49.245773Z",
     "start_time": "2025-05-17T12:21:49.232199Z"
    }
   },
   "cell_type": "code",
   "source": [
    "DEVICE = \"mps\" if torch.backends.mps.is_available() else \"cpu\"\n",
    "print(DEVICE)"
   ],
   "id": "d85df61eb68b4823",
   "outputs": [
    {
     "name": "stdout",
     "output_type": "stream",
     "text": [
      "mps\n"
     ]
    }
   ],
   "execution_count": 2
  },
  {
   "metadata": {
    "ExecuteTime": {
     "end_time": "2025-05-16T19:31:17.644643Z",
     "start_time": "2025-05-16T19:31:06.427071Z"
    }
   },
   "cell_type": "code",
   "source": [
    "# transform = transforms.ToTensor()\n",
    "# train_DS = datasets.MNIST(root = '/Users/sanghyun/Desktop/GIT_Folder', train=True, download=True, transform=transform)\n",
    "# test_DS = datasets.MNIST(root  = '/Users/sanghyun/Desktop/GIT_Folder', train=False, download=True, transform=transform)"
   ],
   "id": "5a7c185344ec8aa8",
   "outputs": [
    {
     "name": "stderr",
     "output_type": "stream",
     "text": [
      "100.0%\n",
      "100.0%\n",
      "100.0%\n",
      "100.0%\n"
     ]
    }
   ],
   "execution_count": 10
  },
  {
   "metadata": {},
   "cell_type": "markdown",
   "source": "## Train_DS와 test_DS 구경",
   "id": "d51eea85eb1cf444"
  },
  {
   "metadata": {
    "ExecuteTime": {
     "end_time": "2025-05-17T12:21:53.012851Z",
     "start_time": "2025-05-17T12:21:52.985122Z"
    }
   },
   "cell_type": "code",
   "source": [
    "transform = transforms.ToTensor()\n",
    "train_DS = datasets.MNIST(root = '/Users/sanghyun/Desktop/GIT_Folder', train=True, download=False, transform=transform) # transform -> tensor로 바꿔주는...!\n",
    "test_DS = datasets.MNIST(root  = '/Users/sanghyun/Desktop/GIT_Folder', train=False, download=False, transform=transform)"
   ],
   "id": "1f16c6b30e8ff1ca",
   "outputs": [],
   "execution_count": 3
  },
  {
   "metadata": {
    "ExecuteTime": {
     "end_time": "2025-05-17T12:21:54.251193Z",
     "start_time": "2025-05-17T12:21:54.248947Z"
    }
   },
   "cell_type": "code",
   "source": [
    "print(train_DS)\n",
    "print(test_DS)\n",
    "print(len(train_DS))\n",
    "print(len(test_DS))"
   ],
   "id": "cb833b0301aec16d",
   "outputs": [
    {
     "name": "stdout",
     "output_type": "stream",
     "text": [
      "Dataset MNIST\n",
      "    Number of datapoints: 60000\n",
      "    Root location: /Users/sanghyun/Desktop/GIT_Folder\n",
      "    Split: Train\n",
      "    StandardTransform\n",
      "Transform: ToTensor()\n",
      "Dataset MNIST\n",
      "    Number of datapoints: 10000\n",
      "    Root location: /Users/sanghyun/Desktop/GIT_Folder\n",
      "    Split: Test\n",
      "    StandardTransform\n",
      "Transform: ToTensor()\n",
      "60000\n",
      "10000\n"
     ]
    }
   ],
   "execution_count": 4
  },
  {
   "metadata": {
    "ExecuteTime": {
     "end_time": "2025-05-16T19:36:58.961756Z",
     "start_time": "2025-05-16T19:36:58.956638Z"
    }
   },
   "cell_type": "code",
   "source": "train_DS.classes",
   "id": "c7474a93cdba9cad",
   "outputs": [
    {
     "data": {
      "text/plain": [
       "['0 - zero',\n",
       " '1 - one',\n",
       " '2 - two',\n",
       " '3 - three',\n",
       " '4 - four',\n",
       " '5 - five',\n",
       " '6 - six',\n",
       " '7 - seven',\n",
       " '8 - eight',\n",
       " '9 - nine']"
      ]
     },
     "execution_count": 15,
     "metadata": {},
     "output_type": "execute_result"
    }
   ],
   "execution_count": 15
  },
  {
   "metadata": {
    "ExecuteTime": {
     "end_time": "2025-05-16T19:37:09.216235Z",
     "start_time": "2025-05-16T19:37:09.212539Z"
    }
   },
   "cell_type": "code",
   "source": "train_DS.class_to_idx",
   "id": "ea2263e2c3fe16e6",
   "outputs": [
    {
     "data": {
      "text/plain": [
       "{'0 - zero': 0,\n",
       " '1 - one': 1,\n",
       " '2 - two': 2,\n",
       " '3 - three': 3,\n",
       " '4 - four': 4,\n",
       " '5 - five': 5,\n",
       " '6 - six': 6,\n",
       " '7 - seven': 7,\n",
       " '8 - eight': 8,\n",
       " '9 - nine': 9}"
      ]
     },
     "execution_count": 16,
     "metadata": {},
     "output_type": "execute_result"
    }
   ],
   "execution_count": 16
  },
  {
   "metadata": {
    "ExecuteTime": {
     "end_time": "2025-05-16T19:37:48.301745Z",
     "start_time": "2025-05-16T19:37:48.299369Z"
    }
   },
   "cell_type": "code",
   "source": "train_DS.data.shape",
   "id": "fa414ea3a36e414d",
   "outputs": [
    {
     "data": {
      "text/plain": [
       "torch.Size([60000, 28, 28])"
      ]
     },
     "execution_count": 18,
     "metadata": {},
     "output_type": "execute_result"
    }
   ],
   "execution_count": 18
  },
  {
   "metadata": {
    "ExecuteTime": {
     "end_time": "2025-05-16T19:38:15.952641Z",
     "start_time": "2025-05-16T19:38:15.945679Z"
    }
   },
   "cell_type": "code",
   "source": "train_DS.data[0]",
   "id": "2dec411ded50656a",
   "outputs": [
    {
     "data": {
      "text/plain": [
       "tensor([[  0,   0,   0,   0,   0,   0,   0,   0,   0,   0,   0,   0,   0,   0,\n",
       "           0,   0,   0,   0,   0,   0,   0,   0,   0,   0,   0,   0,   0,   0],\n",
       "        [  0,   0,   0,   0,   0,   0,   0,   0,   0,   0,   0,   0,   0,   0,\n",
       "           0,   0,   0,   0,   0,   0,   0,   0,   0,   0,   0,   0,   0,   0],\n",
       "        [  0,   0,   0,   0,   0,   0,   0,   0,   0,   0,   0,   0,   0,   0,\n",
       "           0,   0,   0,   0,   0,   0,   0,   0,   0,   0,   0,   0,   0,   0],\n",
       "        [  0,   0,   0,   0,   0,   0,   0,   0,   0,   0,   0,   0,   0,   0,\n",
       "           0,   0,   0,   0,   0,   0,   0,   0,   0,   0,   0,   0,   0,   0],\n",
       "        [  0,   0,   0,   0,   0,   0,   0,   0,   0,   0,   0,   0,   0,   0,\n",
       "           0,   0,   0,   0,   0,   0,   0,   0,   0,   0,   0,   0,   0,   0],\n",
       "        [  0,   0,   0,   0,   0,   0,   0,   0,   0,   0,   0,   0,   3,  18,\n",
       "          18,  18, 126, 136, 175,  26, 166, 255, 247, 127,   0,   0,   0,   0],\n",
       "        [  0,   0,   0,   0,   0,   0,   0,   0,  30,  36,  94, 154, 170, 253,\n",
       "         253, 253, 253, 253, 225, 172, 253, 242, 195,  64,   0,   0,   0,   0],\n",
       "        [  0,   0,   0,   0,   0,   0,   0,  49, 238, 253, 253, 253, 253, 253,\n",
       "         253, 253, 253, 251,  93,  82,  82,  56,  39,   0,   0,   0,   0,   0],\n",
       "        [  0,   0,   0,   0,   0,   0,   0,  18, 219, 253, 253, 253, 253, 253,\n",
       "         198, 182, 247, 241,   0,   0,   0,   0,   0,   0,   0,   0,   0,   0],\n",
       "        [  0,   0,   0,   0,   0,   0,   0,   0,  80, 156, 107, 253, 253, 205,\n",
       "          11,   0,  43, 154,   0,   0,   0,   0,   0,   0,   0,   0,   0,   0],\n",
       "        [  0,   0,   0,   0,   0,   0,   0,   0,   0,  14,   1, 154, 253,  90,\n",
       "           0,   0,   0,   0,   0,   0,   0,   0,   0,   0,   0,   0,   0,   0],\n",
       "        [  0,   0,   0,   0,   0,   0,   0,   0,   0,   0,   0, 139, 253, 190,\n",
       "           2,   0,   0,   0,   0,   0,   0,   0,   0,   0,   0,   0,   0,   0],\n",
       "        [  0,   0,   0,   0,   0,   0,   0,   0,   0,   0,   0,  11, 190, 253,\n",
       "          70,   0,   0,   0,   0,   0,   0,   0,   0,   0,   0,   0,   0,   0],\n",
       "        [  0,   0,   0,   0,   0,   0,   0,   0,   0,   0,   0,   0,  35, 241,\n",
       "         225, 160, 108,   1,   0,   0,   0,   0,   0,   0,   0,   0,   0,   0],\n",
       "        [  0,   0,   0,   0,   0,   0,   0,   0,   0,   0,   0,   0,   0,  81,\n",
       "         240, 253, 253, 119,  25,   0,   0,   0,   0,   0,   0,   0,   0,   0],\n",
       "        [  0,   0,   0,   0,   0,   0,   0,   0,   0,   0,   0,   0,   0,   0,\n",
       "          45, 186, 253, 253, 150,  27,   0,   0,   0,   0,   0,   0,   0,   0],\n",
       "        [  0,   0,   0,   0,   0,   0,   0,   0,   0,   0,   0,   0,   0,   0,\n",
       "           0,  16,  93, 252, 253, 187,   0,   0,   0,   0,   0,   0,   0,   0],\n",
       "        [  0,   0,   0,   0,   0,   0,   0,   0,   0,   0,   0,   0,   0,   0,\n",
       "           0,   0,   0, 249, 253, 249,  64,   0,   0,   0,   0,   0,   0,   0],\n",
       "        [  0,   0,   0,   0,   0,   0,   0,   0,   0,   0,   0,   0,   0,   0,\n",
       "          46, 130, 183, 253, 253, 207,   2,   0,   0,   0,   0,   0,   0,   0],\n",
       "        [  0,   0,   0,   0,   0,   0,   0,   0,   0,   0,   0,   0,  39, 148,\n",
       "         229, 253, 253, 253, 250, 182,   0,   0,   0,   0,   0,   0,   0,   0],\n",
       "        [  0,   0,   0,   0,   0,   0,   0,   0,   0,   0,  24, 114, 221, 253,\n",
       "         253, 253, 253, 201,  78,   0,   0,   0,   0,   0,   0,   0,   0,   0],\n",
       "        [  0,   0,   0,   0,   0,   0,   0,   0,  23,  66, 213, 253, 253, 253,\n",
       "         253, 198,  81,   2,   0,   0,   0,   0,   0,   0,   0,   0,   0,   0],\n",
       "        [  0,   0,   0,   0,   0,   0,  18, 171, 219, 253, 253, 253, 253, 195,\n",
       "          80,   9,   0,   0,   0,   0,   0,   0,   0,   0,   0,   0,   0,   0],\n",
       "        [  0,   0,   0,   0,  55, 172, 226, 253, 253, 253, 253, 244, 133,  11,\n",
       "           0,   0,   0,   0,   0,   0,   0,   0,   0,   0,   0,   0,   0,   0],\n",
       "        [  0,   0,   0,   0, 136, 253, 253, 253, 212, 135, 132,  16,   0,   0,\n",
       "           0,   0,   0,   0,   0,   0,   0,   0,   0,   0,   0,   0,   0,   0],\n",
       "        [  0,   0,   0,   0,   0,   0,   0,   0,   0,   0,   0,   0,   0,   0,\n",
       "           0,   0,   0,   0,   0,   0,   0,   0,   0,   0,   0,   0,   0,   0],\n",
       "        [  0,   0,   0,   0,   0,   0,   0,   0,   0,   0,   0,   0,   0,   0,\n",
       "           0,   0,   0,   0,   0,   0,   0,   0,   0,   0,   0,   0,   0,   0],\n",
       "        [  0,   0,   0,   0,   0,   0,   0,   0,   0,   0,   0,   0,   0,   0,\n",
       "           0,   0,   0,   0,   0,   0,   0,   0,   0,   0,   0,   0,   0,   0]],\n",
       "       dtype=torch.uint8)"
      ]
     },
     "execution_count": 19,
     "metadata": {},
     "output_type": "execute_result"
    }
   ],
   "execution_count": 19
  },
  {
   "metadata": {
    "ExecuteTime": {
     "end_time": "2025-05-16T19:40:07.240509Z",
     "start_time": "2025-05-16T19:40:07.190079Z"
    }
   },
   "cell_type": "code",
   "source": [
    "plt.imshow(train_DS.data[0], cmap=\"gray\")\n",
    "plt.colorbar()"
   ],
   "id": "e8c7825dbbd4e360",
   "outputs": [
    {
     "data": {
      "text/plain": [
       "<matplotlib.colorbar.Colorbar at 0x1477cb710>"
      ]
     },
     "execution_count": 23,
     "metadata": {},
     "output_type": "execute_result"
    },
    {
     "data": {
      "text/plain": [
       "<Figure size 640x480 with 2 Axes>"
      ],
      "image/png": "[encoded data removed]"
     },
     "metadata": {},
     "output_type": "display_data"
    }
   ],
   "execution_count": 23
  },
  {
   "metadata": {
    "ExecuteTime": {
     "end_time": "2025-05-16T19:40:35.357593Z",
     "start_time": "2025-05-16T19:40:35.354761Z"
    }
   },
   "cell_type": "code",
   "source": [
    "print(train_DS.targets)\n",
    "print(train_DS.targets.shape)"
   ],
   "id": "50e976471cf07175",
   "outputs": [
    {
     "name": "stdout",
     "output_type": "stream",
     "text": [
      "tensor([5, 0, 4,  ..., 5, 6, 8])\n",
      "torch.Size([60000])\n"
     ]
    }
   ],
   "execution_count": 24
  },
  {
   "metadata": {},
   "cell_type": "markdown",
   "source": "## DataLoader 구경",
   "id": "1d684c9a2e6e949c"
  },
  {
   "metadata": {
    "ExecuteTime": {
     "end_time": "2025-05-17T12:26:23.400733Z",
     "start_time": "2025-05-17T12:26:23.398541Z"
    }
   },
   "cell_type": "code",
   "source": [
    "BATCH_SIZE = 32\n",
    "train_DL = torch.utils.data.DataLoader(train_DS, batch_size=BATCH_SIZE, shuffle=True)\n",
    "test_DL = torch.utils.data.DataLoader(test_DS, batch_size=BATCH_SIZE, shuffle=True)"
   ],
   "id": "7de3fcf9f4c1e49f",
   "outputs": [],
   "execution_count": 5
  },
  {
   "metadata": {
    "ExecuteTime": {
     "end_time": "2025-05-17T12:29:22.365456Z",
     "start_time": "2025-05-17T12:29:22.354046Z"
    }
   },
   "cell_type": "code",
   "source": [
    "x_batch, y_batch = next(iter(train_DL)) # 데이터 한 국자 뜨자~\n",
    "\n",
    "print(type(x_batch))\n",
    "print(x_batch.shape)"
   ],
   "id": "57907b6d8fcb6fc9",
   "outputs": [
    {
     "name": "stdout",
     "output_type": "stream",
     "text": [
      "<class 'torch.Tensor'>\n",
      "torch.Size([32, 1, 28, 28])\n"
     ]
    }
   ],
   "execution_count": 6
  },
  {
   "metadata": {
    "ExecuteTime": {
     "end_time": "2025-05-17T12:30:53.596805Z",
     "start_time": "2025-05-17T12:30:53.530801Z"
    }
   },
   "cell_type": "code",
   "source": [
    "plt.imshow(x_batch[0].squeeze(), cmap=\"gray\")\n",
    "plt.colorbar()"
   ],
   "id": "c6df1b040961e07",
   "outputs": [
    {
     "data": {
      "text/plain": [
       "<matplotlib.colorbar.Colorbar at 0x13a6f1a00>"
      ]
     },
     "execution_count": 8,
     "metadata": {},
     "output_type": "execute_result"
    },
    {
     "data": {
      "text/plain": [
       "<Figure size 640x480 with 2 Axes>"
      ],
      "image/png": "[encoded data removed]"
     },
     "metadata": {},
     "output_type": "display_data"
    }
   ],
   "execution_count": 8
  },
  {
   "metadata": {
    "ExecuteTime": {
     "end_time": "2025-05-17T12:33:29.630744Z",
     "start_time": "2025-05-17T12:33:29.628098Z"
    }
   },
   "cell_type": "code",
   "source": [
    "print(train_DL.dataset.data.dtype)\n",
    "print(x_batch.dtype)\n",
    "\n",
    "'''\n",
    "transform = transforms.ToTensor()에서 .ToTensor()의 역할\n",
    "1. tensor로 바꿔준다\n",
    "2. 가채행열로 바꿔준다\n",
    "3. 0~1 사이로 바꿔준다\n",
    "'''"
   ],
   "id": "f48d1aed269cad28",
   "outputs": [
    {
     "name": "stdout",
     "output_type": "stream",
     "text": [
      "torch.uint8\n",
      "torch.float32\n"
     ]
    }
   ],
   "execution_count": 10
  },
  {
   "metadata": {},
   "cell_type": "markdown",
   "source": "## 본격적으로 model 만들기!",
   "id": "e088fc8b452d9ec2"
  },
  {
   "metadata": {
    "ExecuteTime": {
     "end_time": "2025-05-17T12:54:22.853386Z",
     "start_time": "2025-05-17T12:54:22.850024Z"
    }
   },
   "cell_type": "code",
   "source": [
    "from torch import nn\n",
    "\n",
    "class MLP(nn.Module):\n",
    "    def __init__(self):\n",
    "        super().__init__()\n",
    "\n",
    "        self.linear = nn.Sequential(nn.Linear(28 * 28, 100),\n",
    "                                    nn.ReLU(),\n",
    "                                    nn.Linear(100, 10)) # 10개 분류니깐 10개의  출력층\n",
    "\n",
    "\n",
    "    def forward(self, x):\n",
    "\n",
    "        x = torch.flatten(x, start_dim=1)\n",
    "\n",
    "        x = self.linear(x)\n",
    "\n",
    "        return x"
   ],
   "id": "301680af7049c05e",
   "outputs": [],
   "execution_count": 20
  },
  {
   "metadata": {
    "ExecuteTime": {
     "end_time": "2025-05-17T12:53:32.932629Z",
     "start_time": "2025-05-17T12:53:32.927099Z"
    }
   },
   "cell_type": "code",
   "source": [
    "# flatten 확인\n",
    "x_batch, _ = next(iter(train_DL))\n",
    "print(x_batch.shape)\n",
    "flat_image = torch.flatten(x_batch)\n",
    "print(flat_image.shape)\n",
    "\n",
    "flat_image = torch.flatten(x_batch, start_dim=1) # 개 체 행 렬이면 1번 즉 체부터 펴라... 32 \\\\ 1 * 28 * 28\n",
    "print(flat_image.shape)"
   ],
   "id": "6cdf43d4fe154605",
   "outputs": [
    {
     "name": "stdout",
     "output_type": "stream",
     "text": [
      "torch.Size([32, 1, 28, 28])\n",
      "torch.Size([25088])\n",
      "torch.Size([32, 784])\n"
     ]
    }
   ],
   "execution_count": 18
  },
  {
   "metadata": {
    "ExecuteTime": {
     "end_time": "2025-05-17T12:54:38.829613Z",
     "start_time": "2025-05-17T12:54:38.823486Z"
    }
   },
   "cell_type": "code",
   "source": [
    "model = MLP()\n",
    "print(model)\n",
    "\n",
    "x_batch, _ = next(iter(train_DL))\n",
    "# print(model(x_batch).shape) -> error -> torch.Size([32, 1, 28, 28]) 이므로 개채행열은데 nn linear은 개채를 원한다!! 즉 flatten을 하자!!\n",
    "print(model(x_batch).shape) # 32 , 10 -> 10개의 확룰 32개의 데이터에서"
   ],
   "id": "6ecfb32c8b774e0",
   "outputs": [
    {
     "name": "stdout",
     "output_type": "stream",
     "text": [
      "MLP(\n",
      "  (linear): Sequential(\n",
      "    (0): Linear(in_features=784, out_features=100, bias=True)\n",
      "    (1): ReLU()\n",
      "    (2): Linear(in_features=100, out_features=10, bias=True)\n",
      "  )\n",
      ")\n",
      "torch.Size([32, 10])\n"
     ]
    }
   ],
   "execution_count": 22
  },
  {
   "metadata": {},
   "cell_type": "markdown",
   "source": "## 모델 훈련시키기!",
   "id": "b05dbf51a0e51c91"
  },
  {
   "metadata": {
    "ExecuteTime": {
     "end_time": "2025-05-17T13:21:12.932126Z",
     "start_time": "2025-05-17T13:18:06.931386Z"
    }
   },
   "cell_type": "code",
   "source": [
    "from torch import optim\n",
    "\n",
    "LP = 1e-1\n",
    "\n",
    "EPOCH = 100\n",
    "\n",
    "criterion = nn.CrossEntropyLoss()\n",
    "\n",
    "optimizer = optim.Adam(model.parameters(), lr = LP)\n",
    "\n",
    "def Train(model, train_DL, criterion, optimizer):\n",
    "\n",
    "    loss_history = []\n",
    "\n",
    "    NoT = len(train_DL.dataset)\n",
    "\n",
    "    model.train()\n",
    "\n",
    "    for ep in range(EPOCH):\n",
    "\n",
    "        rloss = 0 # running loss\n",
    "\n",
    "        for x_batch, y_batch in train_DL: # for SGD\n",
    "\n",
    "            # inference\n",
    "            y_hat = model(x_batch)\n",
    "\n",
    "            # loss\n",
    "            loss = criterion(y_hat, y_batch)\n",
    "\n",
    "            # update\n",
    "            optimizer.zero_grad() # gradient 누적을 막지 위한 초기화 -> 안하면 gradient가 계속 누적돼서 가중치 업데이트가 잘못된다.\n",
    "            loss.backward() # backpropagation\n",
    "            optimizer.step() # weight update\n",
    "\n",
    "            # loss accumulation\n",
    "            loss_b = loss.item() * x_batch.shape[0]\n",
    "            '''\n",
    "            loss.item()은 한 데이터당 평균 손실값\n",
    "            전체 손실로 바꾸려면 배치 크기인 x_batch.shape[0]을 곱\n",
    "            '''\n",
    "            rloss += loss_b  # -> 이렇게 하는 이유 다시 곰곰히 생각해보기\n",
    "\n",
    "        # print loss\n",
    "        loss_e = rloss / NoT\n",
    "\n",
    "        loss_history += [loss_e]\n",
    "\n",
    "        print(f'Epoch : {ep + 1}, train loss : {round(loss_e, 3)}')\n",
    "        print(\"-\" * 20)\n",
    "\n",
    "    return loss_history"
   ],
   "id": "b50b10dd8e4b0a64",
   "outputs": [
    {
     "name": "stdout",
     "output_type": "stream",
     "text": [
      "Epoch : 1, train loss : 1.234\n",
      "--------------------\n",
      "Epoch : 2, train loss : 1.257\n",
      "--------------------\n",
      "Epoch : 3, train loss : 1.335\n",
      "--------------------\n",
      "Epoch : 4, train loss : 1.245\n",
      "--------------------\n",
      "Epoch : 5, train loss : 1.232\n",
      "--------------------\n",
      "Epoch : 6, train loss : 1.255\n",
      "--------------------\n",
      "Epoch : 7, train loss : 1.215\n",
      "--------------------\n",
      "Epoch : 8, train loss : 1.278\n",
      "--------------------\n",
      "Epoch : 9, train loss : 1.25\n",
      "--------------------\n",
      "Epoch : 10, train loss : 1.26\n",
      "--------------------\n",
      "Epoch : 11, train loss : 1.206\n",
      "--------------------\n",
      "Epoch : 12, train loss : 1.259\n",
      "--------------------\n",
      "Epoch : 13, train loss : 1.221\n",
      "--------------------\n",
      "Epoch : 14, train loss : 1.227\n",
      "--------------------\n",
      "Epoch : 15, train loss : 1.243\n",
      "--------------------\n",
      "Epoch : 16, train loss : 1.243\n",
      "--------------------\n",
      "Epoch : 17, train loss : 1.23\n",
      "--------------------\n",
      "Epoch : 18, train loss : 1.18\n",
      "--------------------\n",
      "Epoch : 19, train loss : 1.191\n",
      "--------------------\n",
      "Epoch : 20, train loss : 1.177\n",
      "--------------------\n",
      "Epoch : 21, train loss : 1.146\n",
      "--------------------\n",
      "Epoch : 22, train loss : 1.23\n",
      "--------------------\n",
      "Epoch : 23, train loss : 1.25\n",
      "--------------------\n",
      "Epoch : 24, train loss : 1.197\n",
      "--------------------\n",
      "Epoch : 25, train loss : 1.204\n",
      "--------------------\n",
      "Epoch : 26, train loss : 1.237\n",
      "--------------------\n",
      "Epoch : 27, train loss : 1.24\n",
      "--------------------\n",
      "Epoch : 28, train loss : 1.205\n",
      "--------------------\n",
      "Epoch : 29, train loss : 1.222\n",
      "--------------------\n",
      "Epoch : 30, train loss : 1.121\n",
      "--------------------\n",
      "Epoch : 31, train loss : 1.171\n",
      "--------------------\n",
      "Epoch : 32, train loss : 1.123\n",
      "--------------------\n",
      "Epoch : 33, train loss : 1.161\n",
      "--------------------\n",
      "Epoch : 34, train loss : 1.195\n",
      "--------------------\n",
      "Epoch : 35, train loss : 1.141\n",
      "--------------------\n",
      "Epoch : 36, train loss : 1.145\n",
      "--------------------\n",
      "Epoch : 37, train loss : 1.095\n",
      "--------------------\n",
      "Epoch : 38, train loss : 1.134\n",
      "--------------------\n",
      "Epoch : 39, train loss : 1.126\n",
      "--------------------\n",
      "Epoch : 40, train loss : 1.132\n",
      "--------------------\n",
      "Epoch : 41, train loss : 1.161\n",
      "--------------------\n",
      "Epoch : 42, train loss : 1.194\n",
      "--------------------\n",
      "Epoch : 43, train loss : 1.162\n",
      "--------------------\n",
      "Epoch : 44, train loss : 1.184\n",
      "--------------------\n",
      "Epoch : 45, train loss : 1.223\n",
      "--------------------\n",
      "Epoch : 46, train loss : 1.082\n",
      "--------------------\n",
      "Epoch : 47, train loss : 1.173\n",
      "--------------------\n",
      "Epoch : 48, train loss : 1.142\n",
      "--------------------\n",
      "Epoch : 49, train loss : 1.236\n",
      "--------------------\n",
      "Epoch : 50, train loss : 1.236\n",
      "--------------------\n",
      "Epoch : 51, train loss : 1.149\n",
      "--------------------\n",
      "Epoch : 52, train loss : 1.145\n",
      "--------------------\n",
      "Epoch : 53, train loss : 1.196\n",
      "--------------------\n",
      "Epoch : 54, train loss : 1.173\n",
      "--------------------\n",
      "Epoch : 55, train loss : 1.159\n",
      "--------------------\n",
      "Epoch : 56, train loss : 1.19\n",
      "--------------------\n",
      "Epoch : 57, train loss : 1.195\n",
      "--------------------\n",
      "Epoch : 58, train loss : 1.082\n",
      "--------------------\n",
      "Epoch : 59, train loss : 1.145\n",
      "--------------------\n",
      "Epoch : 60, train loss : 1.154\n",
      "--------------------\n",
      "Epoch : 61, train loss : 1.111\n",
      "--------------------\n",
      "Epoch : 62, train loss : 1.173\n",
      "--------------------\n",
      "Epoch : 63, train loss : 1.111\n",
      "--------------------\n",
      "Epoch : 64, train loss : 1.099\n",
      "--------------------\n",
      "Epoch : 65, train loss : 1.104\n",
      "--------------------\n",
      "Epoch : 66, train loss : 1.157\n",
      "--------------------\n",
      "Epoch : 67, train loss : 1.117\n",
      "--------------------\n",
      "Epoch : 68, train loss : 1.108\n",
      "--------------------\n",
      "Epoch : 69, train loss : 1.199\n",
      "--------------------\n",
      "Epoch : 70, train loss : 1.129\n",
      "--------------------\n",
      "Epoch : 71, train loss : 1.227\n",
      "--------------------\n",
      "Epoch : 72, train loss : 1.149\n",
      "--------------------\n",
      "Epoch : 73, train loss : 1.203\n",
      "--------------------\n",
      "Epoch : 74, train loss : 1.232\n",
      "--------------------\n",
      "Epoch : 75, train loss : 1.066\n",
      "--------------------\n",
      "Epoch : 76, train loss : 1.196\n",
      "--------------------\n",
      "Epoch : 77, train loss : 1.107\n",
      "--------------------\n",
      "Epoch : 78, train loss : 1.095\n",
      "--------------------\n",
      "Epoch : 79, train loss : 1.144\n",
      "--------------------\n",
      "Epoch : 80, train loss : 1.213\n",
      "--------------------\n",
      "Epoch : 81, train loss : 1.146\n",
      "--------------------\n",
      "Epoch : 82, train loss : 1.099\n",
      "--------------------\n",
      "Epoch : 83, train loss : 1.162\n",
      "--------------------\n",
      "Epoch : 84, train loss : 1.225\n",
      "--------------------\n",
      "Epoch : 85, train loss : 1.12\n",
      "--------------------\n",
      "Epoch : 86, train loss : 1.072\n",
      "--------------------\n",
      "Epoch : 87, train loss : 1.138\n",
      "--------------------\n",
      "Epoch : 88, train loss : 1.111\n",
      "--------------------\n",
      "Epoch : 89, train loss : 1.165\n",
      "--------------------\n",
      "Epoch : 90, train loss : 1.196\n",
      "--------------------\n",
      "Epoch : 91, train loss : 1.077\n",
      "--------------------\n",
      "Epoch : 92, train loss : 1.118\n",
      "--------------------\n",
      "Epoch : 93, train loss : 1.105\n",
      "--------------------\n",
      "Epoch : 94, train loss : 1.156\n",
      "--------------------\n",
      "Epoch : 95, train loss : 1.225\n",
      "--------------------\n",
      "Epoch : 96, train loss : 1.103\n",
      "--------------------\n",
      "Epoch : 97, train loss : 1.141\n",
      "--------------------\n",
      "Epoch : 98, train loss : 1.233\n",
      "--------------------\n",
      "Epoch : 99, train loss : 1.158\n",
      "--------------------\n",
      "Epoch : 100, train loss : 1.179\n",
      "--------------------\n"
     ]
    }
   ],
   "execution_count": 23
  },
  {
   "metadata": {},
   "cell_type": "code",
   "outputs": [],
   "execution_count": null,
   "source": "# 1 50",
   "id": "37f54e6337b095a4"
  }
 ],
 "metadata": {
  "kernelspec": {
   "display_name": "Python 3",
   "language": "python",
   "name": "python3"
  },
  "language_info": {
   "codemirror_mode": {
    "name": "ipython",
    "version": 2
   },
   "file_extension": ".py",
   "mimetype": "text/x-python",
   "name": "python",
   "nbconvert_exporter": "python",
   "pygments_lexer": "ipython2",
   "version": "2.7.6"
  }
 },
 "nbformat": 4,
 "nbformat_minor": 5
}
