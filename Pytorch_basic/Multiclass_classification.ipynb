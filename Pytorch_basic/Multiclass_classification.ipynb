{
 "cells": [
  {
   "cell_type": "code",
   "id": "initial_id",
   "metadata": {
    "collapsed": true,
    "ExecuteTime": {
     "end_time": "2025-05-18T05:03:32.961319Z",
     "start_time": "2025-05-18T05:03:32.959115Z"
    }
   },
   "source": [
    "import torch\n",
    "from torchvision import datasets, transforms\n",
    "import matplotlib.pyplot as plt"
   ],
   "outputs": [],
   "execution_count": 42
  },
  {
   "metadata": {
    "ExecuteTime": {
     "end_time": "2025-05-18T05:03:34.408281Z",
     "start_time": "2025-05-18T05:03:34.405834Z"
    }
   },
   "cell_type": "code",
   "source": [
    "DEVICE = \"mps\" if torch.backends.mps.is_available() else \"cpu\"\n",
    "print(DEVICE)"
   ],
   "id": "d85df61eb68b4823",
   "outputs": [
    {
     "name": "stdout",
     "output_type": "stream",
     "text": [
      "mps\n"
     ]
    }
   ],
   "execution_count": 43
  },
  {
   "metadata": {},
   "cell_type": "code",
   "source": [
    "# transform = transforms.ToTensor()\n",
    "# train_DS = datasets.MNIST(root = '/Users/sanghyun/Desktop/GIT_Folder', train=True, download=True, transform=transform)\n",
    "# test_DS = datasets.MNIST(root  = '/Users/sanghyun/Desktop/GIT_Folder', train=False, download=True, transform=transform)"
   ],
   "id": "5a7c185344ec8aa8",
   "outputs": [],
   "execution_count": null
  },
  {
   "metadata": {},
   "cell_type": "markdown",
   "source": "## Train_DS와 test_DS 구경",
   "id": "d51eea85eb1cf444"
  },
  {
   "metadata": {
    "ExecuteTime": {
     "end_time": "2025-05-18T05:03:36.748218Z",
     "start_time": "2025-05-18T05:03:36.725245Z"
    }
   },
   "cell_type": "code",
   "source": [
    "transform = transforms.ToTensor()\n",
    "'''\n",
    "이미지나 NumPy 배열은 (높이, 너비, 채널) 순서이지만\n",
    "PyTorch 모델은 (채널, 높이, 너비) 순서를 기대.\n",
    "ToTensor()는 이 순서를 자동으로 조정\n",
    "'''\n",
    "train_DS = datasets.MNIST(root = '/Users/sanghyun/Desktop/GIT_Folder', train=True, download=False, transform=transform) # transform -> tensor로 바꿔주는...!\n",
    "test_DS = datasets.MNIST(root  = '/Users/sanghyun/Desktop/GIT_Folder', train=False, download=False, transform=transform)"
   ],
   "id": "1f16c6b30e8ff1ca",
   "outputs": [],
   "execution_count": 44
  },
  {
   "metadata": {},
   "cell_type": "code",
   "source": [
    "print(train_DS)\n",
    "print(test_DS)\n",
    "print(len(train_DS))\n",
    "print(len(test_DS))"
   ],
   "id": "cb833b0301aec16d",
   "outputs": [],
   "execution_count": null
  },
  {
   "metadata": {},
   "cell_type": "code",
   "source": "train_DS.classes",
   "id": "c7474a93cdba9cad",
   "outputs": [],
   "execution_count": null
  },
  {
   "metadata": {},
   "cell_type": "code",
   "source": "train_DS.class_to_idx",
   "id": "ea2263e2c3fe16e6",
   "outputs": [],
   "execution_count": null
  },
  {
   "metadata": {},
   "cell_type": "code",
   "source": [
    "train_DS.data.shape\n",
    "'''\n",
    "transform을 지정해도, 실제 데이터 꺼낼 때만 적용되는 거고,\n",
    "내부 데이터 shape은 안 바뀜.\n",
    "'''"
   ],
   "id": "fa414ea3a36e414d",
   "outputs": [],
   "execution_count": null
  },
  {
   "metadata": {},
   "cell_type": "code",
   "source": "train_DS.data[0]",
   "id": "2dec411ded50656a",
   "outputs": [],
   "execution_count": null
  },
  {
   "metadata": {},
   "cell_type": "code",
   "source": [
    "plt.imshow(train_DS.data[0], cmap=\"gray\")\n",
    "plt.colorbar()"
   ],
   "id": "e8c7825dbbd4e360",
   "outputs": [],
   "execution_count": null
  },
  {
   "metadata": {},
   "cell_type": "code",
   "source": [
    "print(train_DS.targets)\n",
    "print(train_DS.targets.shape)"
   ],
   "id": "50e976471cf07175",
   "outputs": [],
   "execution_count": null
  },
  {
   "metadata": {},
   "cell_type": "markdown",
   "source": "## DataLoader 구경",
   "id": "1d684c9a2e6e949c"
  },
  {
   "metadata": {
    "ExecuteTime": {
     "end_time": "2025-05-18T05:03:42.096321Z",
     "start_time": "2025-05-18T05:03:42.093540Z"
    }
   },
   "cell_type": "code",
   "source": [
    "'''\n",
    "train_DL에서 한 번 뽑으면(=for loop에서 한 번에)\n",
    "32개의 데이터(=BATCH_SIZE)로 이루어진 미니배치가 나온다.\n",
    "'''\n",
    "BATCH_SIZE = 32\n",
    "train_DL = torch.utils.data.DataLoader(train_DS, batch_size=BATCH_SIZE, shuffle=True)\n",
    "test_DL = torch.utils.data.DataLoader(test_DS, batch_size=BATCH_SIZE, shuffle=True)"
   ],
   "id": "7de3fcf9f4c1e49f",
   "outputs": [],
   "execution_count": 45
  },
  {
   "metadata": {},
   "cell_type": "code",
   "source": [
    "x_batch, y_batch = next(iter(train_DL)) # 데이터 한 국자 뜨자~\n",
    "\n",
    "print(type(x_batch))\n",
    "print(x_batch.shape) # 보면 개 채 행 렬 꼴이다. 32개의 데이터가 1개의 채널 그리고 28 by 28로 이루어져있다."
   ],
   "id": "57907b6d8fcb6fc9",
   "outputs": [],
   "execution_count": null
  },
  {
   "metadata": {},
   "cell_type": "code",
   "source": [
    "plt.imshow(x_batch[0].squeeze(), cmap=\"gray\") # 기존 위에 플롯을 보면 값이 통일 x -> ToTensor()을 쓰니깐 0 ~ 1 사이의 값으로 변환됨.\n",
    "plt.colorbar()"
   ],
   "id": "c6df1b040961e07",
   "outputs": [],
   "execution_count": null
  },
  {
   "metadata": {},
   "cell_type": "code",
   "source": [
    "print(train_DL.dataset.data.dtype)\n",
    "print(x_batch.dtype)\n",
    "print(x_batch.shape)\n",
    "'''\n",
    "transform = transforms.ToTensor()에서 .ToTensor()의 역할\n",
    "1. tensor로 바꿔준다\n",
    "2. 개채행열로 바꿔준다\n",
    "3. 0~1 사이로 바꿔준다\n",
    "'''"
   ],
   "id": "f48d1aed269cad28",
   "outputs": [],
   "execution_count": null
  },
  {
   "metadata": {},
   "cell_type": "markdown",
   "source": "## 본격적으로 model 만들기!",
   "id": "e088fc8b452d9ec2"
  },
  {
   "metadata": {
    "ExecuteTime": {
     "end_time": "2025-05-18T05:03:46.810310Z",
     "start_time": "2025-05-18T05:03:46.806967Z"
    }
   },
   "cell_type": "code",
   "source": [
    "from torch import nn\n",
    "\n",
    "class MLP(nn.Module):\n",
    "    def __init__(self):\n",
    "        super().__init__()\n",
    "\n",
    "        self.linear = nn.Sequential(nn.Linear(28 * 28, 100),\n",
    "                                    nn.ReLU(),\n",
    "                                    nn.Linear(100, 10)) # 10개 분류니깐 10개의  출력층\n",
    "\n",
    "\n",
    "    def forward(self, x):\n",
    "\n",
    "        x = torch.flatten(x, start_dim=1)\n",
    "        '''\n",
    "        nn.Linear(=선형 계층, fully connected layer)는 입력 형태가 (batch, feature), 즉 (배치 개수, 특성 개수)이길 원한다.\n",
    "        하지만 이미지 데이터는 보통 (배치, 채널, 행, 열)로 들어옴.\n",
    "        따라서 .flatten으로 (배치, 특성 개수)로 변형 ㄱㄱ\n",
    "        '''\n",
    "\n",
    "        x = self.linear(x)\n",
    "\n",
    "        return x"
   ],
   "id": "301680af7049c05e",
   "outputs": [],
   "execution_count": 46
  },
  {
   "metadata": {},
   "cell_type": "code",
   "source": [
    "# flatten 확인\n",
    "x_batch, _ = next(iter(train_DL))\n",
    "print(x_batch.shape)\n",
    "flat_image = torch.flatten(x_batch)\n",
    "print(flat_image.shape)\n",
    "\n",
    "flat_image = torch.flatten(x_batch, start_dim=1) # 개 체 행 렬이면 1번 즉 체부터 펴라... 32 \\\\ 1 * 28 * 28\n",
    "print(flat_image.shape)"
   ],
   "id": "6cdf43d4fe154605",
   "outputs": [],
   "execution_count": null
  },
  {
   "metadata": {},
   "cell_type": "code",
   "source": [
    "model = MLP()\n",
    "# model.to(DEVICE)\n",
    "print(model)\n",
    "\n",
    "#x_batch, y_batch = next(iter(train_DL)) # 일반적인 훈련 루프에서는 안 써도 됨. 이미 위에서 Dataloader에서 batch_size를 설정했으니깐\n",
    "# print(model(x_batch).shape) -> error -> torch.Size([32, 1, 28, 28]) 이므로 개채행열은데 nn linear은 개채를 원한다!! 즉 flatten을 하자!!\n",
    "#print(model(x_batch).shape) # 32 , 10 -> 10개의 확룰 32개의 데이터에서"
   ],
   "id": "6ecfb32c8b774e0",
   "outputs": [],
   "execution_count": null
  },
  {
   "metadata": {},
   "cell_type": "markdown",
   "source": "## 모델 훈련시키기!",
   "id": "b05dbf51a0e51c91"
  },
  {
   "metadata": {
    "ExecuteTime": {
     "end_time": "2025-05-18T05:05:29.824047Z",
     "start_time": "2025-05-18T05:05:29.819967Z"
    }
   },
   "cell_type": "code",
   "source": [
    "from torch import optim\n",
    "\n",
    "LP = 1e-3\n",
    "\n",
    "EPOCH = 20\n",
    "\n",
    "criterion = nn.CrossEntropyLoss()\n",
    "\n",
    "#optimizer = optim.Adam(model.parameters(), lr = LP)\n",
    "\n",
    "def Train(model, train_DL, criterion, optimizer):\n",
    "\n",
    "    loss_history = []\n",
    "\n",
    "    NoT = len(train_DL.dataset)\n",
    "\n",
    "    model.train()\n",
    "\n",
    "    for ep in range(EPOCH):\n",
    "\n",
    "        rloss = 0 # running loss\n",
    "\n",
    "        for x_batch, y_batch in train_DL: # for SGD\n",
    "\n",
    "            # GPU\n",
    "            #x_batch = x_batch.to(DEVICE)   # ← 이 부분이 꼭 필요!\n",
    "            #y_batch = y_batch.to(DEVICE)\n",
    "\n",
    "            # inference\n",
    "            y_hat = model(x_batch)\n",
    "\n",
    "            # loss\n",
    "            loss = criterion(y_hat, y_batch)\n",
    "\n",
    "            # update\n",
    "            optimizer.zero_grad() # gradient 누적을 막지 위한 초기화 -> 안하면 gradient가 계속 누적돼서 가중치 업데이트가 잘못된다.\n",
    "            loss.backward() # backpropagation\n",
    "            optimizer.step() # weight update\n",
    "\n",
    "            # loss accumulation\n",
    "            loss_b = loss.item() * x_batch.shape[0]\n",
    "            '''\n",
    "            loss.item()은 한 데이터당 평균 손실값\n",
    "            전체 손실로 바꾸려면 배치 크기인 x_batch.shape[0]을 곱\n",
    "            '''\n",
    "            rloss += loss_b  # -> 이렇게 하는 이유 다시 곰곰히 생각해보기\n",
    "\n",
    "        # print loss\n",
    "        loss_e = rloss / NoT\n",
    "\n",
    "        loss_history += [loss_e]\n",
    "\n",
    "        print(f'Epoch : {ep + 1}, train loss : {round(loss_e, 3)}')\n",
    "        print(\"-\" * 20)\n",
    "\n",
    "    return loss_history"
   ],
   "id": "b50b10dd8e4b0a64",
   "outputs": [],
   "execution_count": 49
  },
  {
   "metadata": {},
   "cell_type": "code",
   "source": [
    "optimizer = optim.Adam(model.parameters(), lr = LP)\n",
    "Train(model, train_DL, criterion, optimizer)"
   ],
   "id": "37f54e6337b095a4",
   "outputs": [],
   "execution_count": null
  },
  {
   "metadata": {},
   "cell_type": "markdown",
   "source": "<hr>",
   "id": "6acb910c80ce1e81"
  },
  {
   "metadata": {},
   "cell_type": "markdown",
   "source": "## Cross Entropy 확인(왜 모델에 softmax를 안붙였을까?)",
   "id": "5adcbeb41542e896"
  },
  {
   "metadata": {},
   "cell_type": "code",
   "source": [
    "# cross entropy 구하는 여러가지 방법\n",
    "import torch.nn.functional as F\n",
    "\n",
    "y_hat = torch.randn(3, 5) # data는 (배치 수, feature 수 (개, 채)) 5 종류러 분류하는 문제 가정\n",
    "\n",
    "print(y_hat) # 가로 축으로 합ㅂ이 1이 아님, 즉, softmax 통과 전\n",
    "\n",
    "y_batch_test = torch.randint(5, (3,)) # 정답 인덱스 생성\n",
    "\n",
    "'''\n",
    "PyTorch의 CrossEntropyLoss는 직접 원핫 인코딩된 벡터를 요구하지 않고, \"정답 인덱스\"만 있으면 된다..\n",
    "'''\n",
    "\n",
    "print(y_batch_test)"
   ],
   "id": "a83c7bae90be786a",
   "outputs": [],
   "execution_count": null
  },
  {
   "metadata": {},
   "cell_type": "code",
   "source": [
    "# 방법 1\n",
    "loss_test = F.cross_entropy(y_hat, y_batch_test) # softmax가 내장\n",
    "print(loss_test)\n",
    "\n",
    "# 방법 2\n",
    "criterion_test = nn.CrossEntropyLoss() # softmax가 내장\n",
    "print(criterion_test(y_hat, y_batch_test))"
   ],
   "id": "149be9e98c35a764",
   "outputs": [],
   "execution_count": null
  },
  {
   "metadata": {},
   "cell_type": "code",
   "source": [
    "# 방법 3 직접 ㄱㄱ\n",
    "y_hat_soft = F.softmax(y_hat, dim = 1)\n",
    "# sum(F.softmax(y_hat, dim = 1)[0]) -> 합이 1이된다.\n",
    "print(y_hat_soft)\n",
    "\n",
    "'''\n",
    "다중분류에서 cross entropy과 softmax 복습하기...\n",
    "'''\n",
    "\n",
    "loss = 0\n",
    "\n",
    "for i , val in enumerate(y_hat_soft):\n",
    "\n",
    "    print(i , val)\n",
    "\n",
    "    loss += -torch.log(val[y_batch_test[i]]) # -> definition of cross entropy\n",
    "\n",
    "print(loss / 3) # 평균이 내장되어있음을 알 수 있다.\n",
    "\n",
    "'''\n",
    "어 근데 우리가 직접 softmax 통과해서 CE구한거하고 그냥 nn.CE한거랑 loss 값이 같노..?\n",
    "공식 문서를 보면 nn.CE 식에 이미 softmax가 포함되어 있다..!\n",
    "즉, pytorch에선 softmax를 activation function으로 생각안하고 loss를 구하기 위한 하나의 함수로 생각을 한다.\n",
    "'''\n",
    "print()"
   ],
   "id": "3d93c5e49860f422",
   "outputs": [],
   "execution_count": null
  },
  {
   "metadata": {},
   "cell_type": "code",
   "source": [
    "from IPython.display import Image\n",
    "'''\n",
    "즉, 우리는 softmax (nn.CE)전까지만 logit 나오는 부분까지만 모델을 만들면 된다..!\n",
    "'''\n",
    "\n",
    "Image(\"/Users/sanghyun/Desktop/GIT_Folder/DL/Pytorch_basic/I1.jpeg\")"
   ],
   "id": "bf0ec3e4650134fa",
   "outputs": [],
   "execution_count": null
  },
  {
   "metadata": {},
   "cell_type": "markdown",
   "source": "<hr>",
   "id": "358d55b5e6cb9576"
  },
  {
   "metadata": {},
   "cell_type": "markdown",
   "source": "## 모델 학습시키기",
   "id": "8043ee1720410d4f"
  },
  {
   "metadata": {
    "ExecuteTime": {
     "end_time": "2025-05-18T05:06:11.433135Z",
     "start_time": "2025-05-18T05:05:32.956667Z"
    }
   },
   "cell_type": "code",
   "source": [
    "#model = MLP().to(DEVICE) # x_batch, y_batch, model까지 DEVICE에 올려줘야함\n",
    "model = MLP()\n",
    "\n",
    "optimizer = optim.Adam(model.parameters(), lr = LP) # model를 만들고 parameter를 받아야하니깐!\n",
    "\n",
    "loss_history = Train(model, train_DL, criterion, optimizer)\n",
    "\n",
    "plt.plot(range(1, EPOCH + 1), loss_history)\n",
    "plt.xlabel('Epoch')\n",
    "plt.ylabel('loss')\n",
    "plt.title('Train loss')\n",
    "plt.grid()"
   ],
   "id": "3da8a244f5a6cb3",
   "outputs": [
    {
     "name": "stdout",
     "output_type": "stream",
     "text": [
      "Epoch : 1, train loss : 0.316\n",
      "--------------------\n",
      "Epoch : 2, train loss : 0.147\n",
      "--------------------\n",
      "Epoch : 3, train loss : 0.102\n",
      "--------------------\n",
      "Epoch : 4, train loss : 0.078\n",
      "--------------------\n",
      "Epoch : 5, train loss : 0.061\n",
      "--------------------\n",
      "Epoch : 6, train loss : 0.049\n",
      "--------------------\n",
      "Epoch : 7, train loss : 0.04\n",
      "--------------------\n",
      "Epoch : 8, train loss : 0.033\n",
      "--------------------\n",
      "Epoch : 9, train loss : 0.028\n",
      "--------------------\n",
      "Epoch : 10, train loss : 0.023\n",
      "--------------------\n",
      "Epoch : 11, train loss : 0.019\n",
      "--------------------\n",
      "Epoch : 12, train loss : 0.017\n",
      "--------------------\n",
      "Epoch : 13, train loss : 0.014\n",
      "--------------------\n",
      "Epoch : 14, train loss : 0.013\n",
      "--------------------\n",
      "Epoch : 15, train loss : 0.01\n",
      "--------------------\n",
      "Epoch : 16, train loss : 0.011\n",
      "--------------------\n",
      "Epoch : 17, train loss : 0.009\n",
      "--------------------\n",
      "Epoch : 18, train loss : 0.009\n",
      "--------------------\n",
      "Epoch : 19, train loss : 0.006\n",
      "--------------------\n",
      "Epoch : 20, train loss : 0.007\n",
      "--------------------\n"
     ]
    },
    {
     "data": {
      "text/plain": [
       "<Figure size 640x480 with 1 Axes>"
      ],
      "image/png": "[encoded data removed]"
     },
     "metadata": {},
     "output_type": "display_data"
    }
   ],
   "execution_count": 50
  },
  {
   "metadata": {},
   "cell_type": "markdown",
   "source": "## 모델 저장하기 & 불러오기\n",
   "id": "9f96cb455ca90c99"
  },
  {
   "metadata": {},
   "cell_type": "code",
   "source": [
    "save_model_path = './result/MLP_MNINT.pt'\n",
    "torch.save(model.state_dict(), save_model_path)\n",
    "model.state_dict()"
   ],
   "id": "478e06579c7f0b73",
   "outputs": [],
   "execution_count": null
  },
  {
   "metadata": {
    "ExecuteTime": {
     "end_time": "2025-05-18T05:12:08.467834Z",
     "start_time": "2025-05-18T05:12:08.460553Z"
    }
   },
   "cell_type": "code",
   "source": [
    "load_model = MLP()\n",
    "'''\n",
    "load_model.load_state_dict(torch.load(save_model_path, map_location = DEVICE))\n",
    "GPU로 학습 시킨거 CPU로 추론하면 오류 생길수도 있어서 map_location으로 동일 환경에서\n",
    "작업되게끔 ㄱㄱ\n",
    "'''\n",
    "load_model.load_state_dict(torch.load(save_model_path))"
   ],
   "id": "77d6ac8e7f2e239f",
   "outputs": [
    {
     "data": {
      "text/plain": [
       "<All keys matched successfully>"
      ]
     },
     "execution_count": 56,
     "metadata": {},
     "output_type": "execute_result"
    }
   ],
   "execution_count": 56
  },
  {
   "metadata": {},
   "cell_type": "markdown",
   "source": "## 모델 테스트하기",
   "id": "2debe340ea2a2edc"
  },
  {
   "metadata": {
    "ExecuteTime": {
     "end_time": "2025-05-18T05:31:55.697010Z",
     "start_time": "2025-05-18T05:31:55.693986Z"
    }
   },
   "cell_type": "code",
   "source": [
    "def Test(model, test_DL):\n",
    "\n",
    "    load_model.eval()\n",
    "\n",
    "    with torch.no_grad():\n",
    "        rcorrect = 0\n",
    "        for x_batch, y_batch in test_DL: # GPU 메모리가 한계가 있기 때문에 test data를 한 방에 넣지 않고 일부씩만 넣기\n",
    "\n",
    "            # inference\n",
    "            y_hat = model(x_batch)\n",
    "\n",
    "            # accurarcy accumulation\n",
    "            #print(sum(y_hat[0])->?? 아 병신아 loss 구하는게 아니잖아...그냥 logit이겠지\n",
    "            #print(y_hat.shape)\n",
    "            #print(torch.argmax(y_hat, dim = 1)) # 이거 체크\n",
    "            #print(y_batch)\n",
    "            #print(y_batch == torch.argmax(y_hat, dim = 1))\n",
    "            pred = y_hat.argmax(dim = 1)\n",
    "            corrects_b = torch.sum(pred == y_batch).item()\n",
    "            rcorrect += corrects_b\n",
    "        accuracy_e = rcorrect / len(test_DL.dataset) * 100\n",
    "\n",
    "    print(f\"Test accuracy: {rcorrect}/{len(test_DL.dataset)} ({round(accuracy_e,1)} %)\")"
   ],
   "id": "3a3f2e9b974e9146",
   "outputs": [],
   "execution_count": 112
  },
  {
   "metadata": {
    "ExecuteTime": {
     "end_time": "2025-05-18T05:31:57.948787Z",
     "start_time": "2025-05-18T05:31:57.782004Z"
    }
   },
   "cell_type": "code",
   "source": "Test(model, test_DL)",
   "id": "a387738084b5593",
   "outputs": [
    {
     "name": "stdout",
     "output_type": "stream",
     "text": [
      "Test accuracy: 9774/10000 (97.7 %)\n"
     ]
    }
   ],
   "execution_count": 113
  },
  {
   "metadata": {
    "ExecuteTime": {
     "end_time": "2025-05-18T05:33:08.089359Z",
     "start_time": "2025-05-18T05:33:08.024127Z"
    }
   },
   "cell_type": "code",
   "source": [
    "def Test_plot(model, test_DL):\n",
    "    model.eval()\n",
    "    with torch.no_grad():\n",
    "        x_batch, y_batch = next(iter(test_DL))\n",
    "        y_hat = model(x_batch)\n",
    "        pred = y_hat.argmax(dim=1)\n",
    "\n",
    "    plt.figure(figsize=(8,4))\n",
    "    for idx in range(6):\n",
    "        plt.subplot(2,3, idx+1, xticks=[], yticks=[])\n",
    "        plt.imshow(x_batch[idx].permute(1,2,0).squeeze(), cmap=\"gray\")\n",
    "        pred_class = test_DL.dataset.classes[pred[idx]]\n",
    "        true_class = test_DL.dataset.classes[y_batch[idx]]\n",
    "        plt.title(f\"{pred_class} ({true_class})\", color = \"g\" if pred_class==true_class else \"r\")\n",
    "\n",
    "\n",
    "Test_plot(load_model, test_DL)"
   ],
   "id": "bf5ab732ea304b6c",
   "outputs": [
    {
     "data": {
      "text/plain": [
       "<Figure size 800x400 with 6 Axes>"
      ],
      "image/png": "[encoded data removed]"
     },
     "metadata": {},
     "output_type": "display_data"
    }
   ],
   "execution_count": 119
  },
  {
   "metadata": {},
   "cell_type": "code",
   "outputs": [],
   "execution_count": null,
   "source": "",
   "id": "529c60cbfc5bfb8a"
  }
 ],
 "metadata": {
  "kernelspec": {
   "display_name": "Python 3",
   "language": "python",
   "name": "python3"
  },
  "language_info": {
   "codemirror_mode": {
    "name": "ipython",
    "version": 2
   },
   "file_extension": ".py",
   "mimetype": "text/x-python",
   "name": "python",
   "nbconvert_exporter": "python",
   "pygments_lexer": "ipython2",
   "version": "2.7.6"
  }
 },
 "nbformat": 4,
 "nbformat_minor": 5
}
