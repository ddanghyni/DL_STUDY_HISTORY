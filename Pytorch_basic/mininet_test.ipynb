{
 "cells": [
  {
   "cell_type": "code",
   "id": "initial_id",
   "metadata": {
    "collapsed": true,
    "ExecuteTime": {
     "end_time": "2025-05-19T07:36:25.657049Z",
     "start_time": "2025-05-19T07:36:24.927554Z"
    }
   },
   "source": [
    "import torch\n",
    "from torch import nn"
   ],
   "outputs": [],
   "execution_count": 1
  },
  {
   "metadata": {
    "ExecuteTime": {
     "end_time": "2025-05-18T12:32:03.625174Z",
     "start_time": "2025-05-18T12:32:03.616204Z"
    }
   },
   "cell_type": "code",
   "source": [
    "x = torch.randn(100, 3)\n",
    "layer = nn.Linear(3, 5)\n",
    "print(layer(x).shape)\n",
    "print(layer.weight)\n",
    "print(layer.bias)"
   ],
   "id": "1164e3c1f3c3d8b5",
   "outputs": [
    {
     "name": "stdout",
     "output_type": "stream",
     "text": [
      "torch.Size([100, 5])\n",
      "Parameter containing:\n",
      "tensor([[-0.1108, -0.4514, -0.4163],\n",
      "        [ 0.3495,  0.0874,  0.4593],\n",
      "        [ 0.1155,  0.4322, -0.3844],\n",
      "        [-0.1602,  0.2817, -0.5329],\n",
      "        [-0.3002,  0.3061, -0.4402]], requires_grad=True)\n",
      "Parameter containing:\n",
      "tensor([-0.3681, -0.1281,  0.4130, -0.5634, -0.4491], requires_grad=True)\n"
     ]
    }
   ],
   "execution_count": 2
  },
  {
   "metadata": {
    "ExecuteTime": {
     "end_time": "2025-05-18T12:35:00.461811Z",
     "start_time": "2025-05-18T12:35:00.458261Z"
    }
   },
   "cell_type": "code",
   "source": [
    "x = torch.randn(2, 5)\n",
    "layer = nn.ReLU() # 음수는 0 양수는 linear\n",
    "print(x)\n",
    "print(layer(x))"
   ],
   "id": "6a6ad4f4237e7a6c",
   "outputs": [
    {
     "name": "stdout",
     "output_type": "stream",
     "text": [
      "tensor([[ 0.2882,  1.3782,  0.4333,  0.0688,  0.8333],\n",
      "        [-1.2900,  0.2007, -1.1845, -0.6450, -1.0957]])\n",
      "tensor([[0.2882, 1.3782, 0.4333, 0.0688, 0.8333],\n",
      "        [0.0000, 0.2007, 0.0000, 0.0000, 0.0000]])\n"
     ]
    }
   ],
   "execution_count": 6
  },
  {
   "metadata": {
    "ExecuteTime": {
     "end_time": "2025-05-18T12:36:50.758291Z",
     "start_time": "2025-05-18T12:36:50.753863Z"
    }
   },
   "cell_type": "code",
   "source": [
    "x = torch.randn(3, 7) # 어떤 노드를 통과된 상태라 하자. 3개, 7 feature\n",
    "drop = nn.Dropout(p = 0.3) # p는 죽일 확률!! 논문에선 살릴 확률이였다.\n",
    "print(drop(x)) # 각 개가 통과마다 다르게 drop 된다..!"
   ],
   "id": "68a25961f0d9d05a",
   "outputs": [
    {
     "name": "stdout",
     "output_type": "stream",
     "text": [
      "tensor([[ 0.3459, -1.5823,  2.9730,  1.2473, -0.0000, -1.0688,  1.3578],\n",
      "        [-0.6621,  0.0000,  2.5391,  3.8966, -0.0255, -0.6990, -0.0000],\n",
      "        [-0.3712, -0.1636, -0.0000, -1.2739,  0.7860,  1.0813,  0.5819]])\n"
     ]
    }
   ],
   "execution_count": 9
  },
  {
   "metadata": {
    "ExecuteTime": {
     "end_time": "2025-05-19T07:38:11.987704Z",
     "start_time": "2025-05-19T07:38:11.956703Z"
    }
   },
   "cell_type": "code",
   "source": [
    "# dropout은 정말 train, test 다르게 작동하나??\n",
    "\n",
    "class sample_model(nn.Module):\n",
    "    def __init__(self):\n",
    "        super().__init__()\n",
    "        self.drop_layer = nn.Sequential(nn.Linear(5, 7),\n",
    "                                        nn.Dropout(p = 0.3))\n",
    "    def forward(self, x):\n",
    "        x = self.drop_layer(x)\n",
    "        return x\n",
    "\n",
    "model = sample_model()\n",
    "model.train()\n",
    "x = torch.randn(3, 5)\n",
    "print(model(x)) # 0.7의 확률로 죽임\n",
    "\n",
    "model.eval()\n",
    "print(model(x)) # 다 살려 그 대신 각 노드마다 0.7 곱"
   ],
   "id": "2c3dbdce26390d89",
   "outputs": [
    {
     "name": "stdout",
     "output_type": "stream",
     "text": [
      "tensor([[-2.0236, -0.8471, -0.0000, -1.6398, -0.0000, -0.1545,  0.0000],\n",
      "        [-0.0000,  0.3171, -0.2573, -0.1815,  0.5417, -0.1272, -0.2058],\n",
      "        [-0.0119,  0.0000, -0.8282, -0.2105, -0.0000, -0.1014,  0.0000]],\n",
      "       grad_fn=<MulBackward0>)\n",
      "tensor([[-1.4165, -0.5930, -1.1434, -1.1478, -1.6408, -0.1081,  0.9608],\n",
      "        [-0.1661,  0.2220, -0.1801, -0.1270,  0.3792, -0.0891, -0.1441],\n",
      "        [-0.0084,  0.1061, -0.5797, -0.1474, -0.3469, -0.0710,  0.2844]],\n",
      "       grad_fn=<AddmmBackward0>)\n"
     ]
    }
   ],
   "execution_count": 2
  },
  {
   "metadata": {
    "ExecuteTime": {
     "end_time": "2025-05-19T07:42:22.119496Z",
     "start_time": "2025-05-19T07:42:22.117166Z"
    }
   },
   "cell_type": "code",
   "source": [
    "layer = nn.Conv2d(in_channels=1, out_channels=2, kernel_size=3, stride=1, padding=1) # stride =1, padding =0이 디폴트\n",
    "'''\n",
    "in_channel == 필터의 채널 수\n",
    "out_chanel == 필터의 수 즉, 출력되는 데이터의 채널의 수\n",
    "'''\n",
    "print(layer(torch.randn(32, 1, 5, 5)).shape) # 개체행렬!\n",
    "# nn.linear(3, 5) # 채 채 -> 이놈은 채 또는 개체를 원함 -> 즉, 개 x 3이야지 통과 가능하다.\n",
    "# nn.Conv2d(3, 5) # 채 채 -> 애는 채 행 열 또는 개 채 행 열을 원함, 개 x 3 x 행 x 열"
   ],
   "id": "43da3cc84e8d104b",
   "outputs": [
    {
     "name": "stdout",
     "output_type": "stream",
     "text": [
      "torch.Size([32, 2, 5, 5])\n"
     ]
    }
   ],
   "execution_count": 9
  },
  {
   "metadata": {
    "ExecuteTime": {
     "end_time": "2025-05-19T07:50:06.697891Z",
     "start_time": "2025-05-19T07:50:06.694482Z"
    }
   },
   "cell_type": "code",
   "source": [
    "layer = nn.Conv2d(3, 5, 3, stride =2 , padding =1)\n",
    "print(layer(torch.randn(32, 3, 5, 5)).shape)\n",
    "print(layer.weight.shape) # 개 채 행 렬 -> 3 x 3 filter가 3의 channel을 가지고 총 5개가 있다."
   ],
   "id": "a13c8eef952a4255",
   "outputs": [
    {
     "name": "stdout",
     "output_type": "stream",
     "text": [
      "torch.Size([32, 5, 3, 3])\n",
      "torch.Size([5, 3, 3, 3])\n"
     ]
    }
   ],
   "execution_count": 12
  },
  {
   "metadata": {
    "ExecuteTime": {
     "end_time": "2025-05-19T08:15:46.015212Z",
     "start_time": "2025-05-19T08:15:46.005688Z"
    }
   },
   "cell_type": "code",
   "source": [
    "conv1 = nn.Conv2d(1, 8, 6, stride=2)\n",
    "x = torch.randn(32, 1, 28, 28)\n",
    "print(conv1(x).shape)\n",
    "\n",
    "conv2 = nn.Conv2d(8, 16, 3, padding=1)\n",
    "print(conv2(conv1(x)).shape)\n",
    "\n",
    "Maxpool = nn.MaxPool2d(kernel_size=2, stride=(2, 2))\n",
    "print(Maxpool(conv2(conv1(x))).shape)"
   ],
   "id": "e849ef36c7fb91db",
   "outputs": [
    {
     "name": "stdout",
     "output_type": "stream",
     "text": [
      "torch.Size([32, 8, 12, 12])\n",
      "torch.Size([32, 16, 12, 12])\n",
      "torch.Size([32, 16, 6, 6])\n"
     ]
    }
   ],
   "execution_count": 15
  },
  {
   "metadata": {
    "ExecuteTime": {
     "end_time": "2025-05-19T08:19:24.861991Z",
     "start_time": "2025-05-19T08:19:24.857819Z"
    }
   },
   "cell_type": "code",
   "source": [
    "maxpool = nn.MaxPool2d(2) # 2 로만 줘도 자동 kernel_size = 2, stride = (2, 2)\n",
    "x = torch.randn(1, 1, 6, 6)\n",
    "print(x)\n",
    "print(maxpool(x))"
   ],
   "id": "41955d4d30f0b1c",
   "outputs": [
    {
     "name": "stdout",
     "output_type": "stream",
     "text": [
      "tensor([[[[ 0.3499, -0.3534,  0.4921, -0.0284, -0.2667, -1.0244],\n",
      "          [ 0.9035,  1.5047,  0.2959,  1.3930,  0.5262, -0.0326],\n",
      "          [ 1.1675, -0.7535,  0.1152, -1.1356, -0.4297,  0.2672],\n",
      "          [-1.2772,  0.9734,  0.3927, -0.1595,  0.4006,  0.2541],\n",
      "          [ 1.3374, -1.6176, -0.1437, -0.5672,  0.1777,  0.6217],\n",
      "          [-0.6175,  1.3684,  2.3634,  0.0053,  0.9664, -1.2419]]]])\n",
      "tensor([[[[1.5047, 1.3930, 0.5262],\n",
      "          [1.1675, 0.3927, 0.4006],\n",
      "          [1.3684, 2.3634, 0.9664]]]])\n"
     ]
    }
   ],
   "execution_count": 18
  },
  {
   "metadata": {
    "ExecuteTime": {
     "end_time": "2025-05-19T08:20:32.458407Z",
     "start_time": "2025-05-19T08:20:32.454056Z"
    }
   },
   "cell_type": "code",
   "source": [
    "avgpool = nn.AvgPool2d(2)\n",
    "x = torch.randn(1, 1, 6, 6)\n",
    "print(x)\n",
    "print(avgpool(x))"
   ],
   "id": "ed3e2bb8af4598ec",
   "outputs": [
    {
     "name": "stdout",
     "output_type": "stream",
     "text": [
      "tensor([[[[ 0.7793,  0.1524,  0.2603, -0.7056,  0.6494,  0.7938],\n",
      "          [ 1.0123, -0.2509, -1.0570, -0.3321, -0.7396,  0.2015],\n",
      "          [-1.6956,  0.3449, -0.4866, -0.8647, -0.6779,  1.0431],\n",
      "          [-0.1455, -1.5248,  0.3526, -1.1165, -1.4569,  1.8551],\n",
      "          [ 0.6834, -0.1479,  1.4771,  0.0593,  0.8920, -0.5520],\n",
      "          [-0.6460,  1.0205, -1.6543,  0.0640,  0.6712,  0.5071]]]])\n",
      "tensor([[[[ 0.4233, -0.4586,  0.2263],\n",
      "          [-0.7552, -0.5288,  0.1909],\n",
      "          [ 0.2275, -0.0135,  0.3796]]]])\n"
     ]
    }
   ],
   "execution_count": 19
  },
  {
   "metadata": {
    "ExecuteTime": {
     "end_time": "2025-05-19T08:27:20.094041Z",
     "start_time": "2025-05-19T08:27:20.087821Z"
    }
   },
   "cell_type": "code",
   "source": [
    "class CNN(nn.Module):\n",
    "    def __init__(self):\n",
    "        super().__init__()\n",
    "\n",
    "        self.conv1 = nn.Conv2d(1, 8, 6, stride=2)\n",
    "        self.conv2 = nn.Conv2d(8, 16, 3, padding=1)\n",
    "        self.Maxpool2 = nn.MaxPool2d(2)\n",
    "        self.fc = nn.Linear(16 * 6 * 6, 10) # 잘모르겠으면 Flatten 이건까지만 하고 실행\n",
    "\n",
    "    def forward(self, x):\n",
    "        x = self.conv1(x)\n",
    "        x = self.conv2(x)\n",
    "        x = self.Maxpool2(x)\n",
    "        x = torch.flatten(x, start_dim=1)\n",
    "        x = self.fc(x)\n",
    "        return x\n",
    "\n",
    "x = torch.randn(32, 1, 28, 28)\n",
    "model = CNN()\n",
    "print(model(x).shape)"
   ],
   "id": "3f44808714ccef42",
   "outputs": [
    {
     "name": "stdout",
     "output_type": "stream",
     "text": [
      "torch.Size([32, 10])\n"
     ]
    }
   ],
   "execution_count": 21
  },
  {
   "metadata": {},
   "cell_type": "code",
   "outputs": [],
   "execution_count": null,
   "source": "",
   "id": "9b51fef7a118045c"
  }
 ],
 "metadata": {
  "kernelspec": {
   "display_name": "Python 3",
   "language": "python",
   "name": "python3"
  },
  "language_info": {
   "codemirror_mode": {
    "name": "ipython",
    "version": 2
   },
   "file_extension": ".py",
   "mimetype": "text/x-python",
   "name": "python",
   "nbconvert_exporter": "python",
   "pygments_lexer": "ipython2",
   "version": "2.7.6"
  }
 },
 "nbformat": 4,
 "nbformat_minor": 5
}
