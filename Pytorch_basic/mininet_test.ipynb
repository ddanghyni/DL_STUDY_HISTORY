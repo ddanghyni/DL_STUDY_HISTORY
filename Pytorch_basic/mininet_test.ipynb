{
 "cells": [
  {
   "cell_type": "code",
   "id": "initial_id",
   "metadata": {
    "collapsed": true,
    "ExecuteTime": {
     "end_time": "2025-05-19T11:38:53.841605Z",
     "start_time": "2025-05-19T11:38:53.282656Z"
    }
   },
   "source": [
    "import torch\n",
    "from torch import nn"
   ],
   "outputs": [],
   "execution_count": 2
  },
  {
   "metadata": {
    "ExecuteTime": {
     "end_time": "2025-05-18T12:32:03.625174Z",
     "start_time": "2025-05-18T12:32:03.616204Z"
    }
   },
   "cell_type": "code",
   "source": [
    "x = torch.randn(100, 3)\n",
    "layer = nn.Linear(3, 5)\n",
    "print(layer(x).shape)\n",
    "print(layer.weight)\n",
    "print(layer.bias)"
   ],
   "id": "1164e3c1f3c3d8b5",
   "outputs": [
    {
     "name": "stdout",
     "output_type": "stream",
     "text": [
      "torch.Size([100, 5])\n",
      "Parameter containing:\n",
      "tensor([[-0.1108, -0.4514, -0.4163],\n",
      "        [ 0.3495,  0.0874,  0.4593],\n",
      "        [ 0.1155,  0.4322, -0.3844],\n",
      "        [-0.1602,  0.2817, -0.5329],\n",
      "        [-0.3002,  0.3061, -0.4402]], requires_grad=True)\n",
      "Parameter containing:\n",
      "tensor([-0.3681, -0.1281,  0.4130, -0.5634, -0.4491], requires_grad=True)\n"
     ]
    }
   ],
   "execution_count": 2
  },
  {
   "metadata": {
    "ExecuteTime": {
     "end_time": "2025-05-18T12:35:00.461811Z",
     "start_time": "2025-05-18T12:35:00.458261Z"
    }
   },
   "cell_type": "code",
   "source": [
    "x = torch.randn(2, 5)\n",
    "layer = nn.ReLU() # 음수는 0 양수는 linear\n",
    "print(x)\n",
    "print(layer(x))"
   ],
   "id": "6a6ad4f4237e7a6c",
   "outputs": [
    {
     "name": "stdout",
     "output_type": "stream",
     "text": [
      "tensor([[ 0.2882,  1.3782,  0.4333,  0.0688,  0.8333],\n",
      "        [-1.2900,  0.2007, -1.1845, -0.6450, -1.0957]])\n",
      "tensor([[0.2882, 1.3782, 0.4333, 0.0688, 0.8333],\n",
      "        [0.0000, 0.2007, 0.0000, 0.0000, 0.0000]])\n"
     ]
    }
   ],
   "execution_count": 6
  },
  {
   "metadata": {
    "ExecuteTime": {
     "end_time": "2025-05-18T12:36:50.758291Z",
     "start_time": "2025-05-18T12:36:50.753863Z"
    }
   },
   "cell_type": "code",
   "source": [
    "x = torch.randn(3, 7) # 어떤 노드를 통과된 상태라 하자. 3개, 7 feature\n",
    "drop = nn.Dropout(p = 0.3) # p는 죽일 확률!! 논문에선 살릴 확률이였다.\n",
    "print(drop(x)) # 각 개가 통과마다 다르게 drop 된다..!"
   ],
   "id": "68a25961f0d9d05a",
   "outputs": [
    {
     "name": "stdout",
     "output_type": "stream",
     "text": [
      "tensor([[ 0.3459, -1.5823,  2.9730,  1.2473, -0.0000, -1.0688,  1.3578],\n",
      "        [-0.6621,  0.0000,  2.5391,  3.8966, -0.0255, -0.6990, -0.0000],\n",
      "        [-0.3712, -0.1636, -0.0000, -1.2739,  0.7860,  1.0813,  0.5819]])\n"
     ]
    }
   ],
   "execution_count": 9
  },
  {
   "metadata": {
    "ExecuteTime": {
     "end_time": "2025-05-19T07:38:11.987704Z",
     "start_time": "2025-05-19T07:38:11.956703Z"
    }
   },
   "cell_type": "code",
   "source": [
    "# dropout은 정말 train, test 다르게 작동하나??\n",
    "\n",
    "class sample_model(nn.Module):\n",
    "    def __init__(self):\n",
    "        super().__init__()\n",
    "        self.drop_layer = nn.Sequential(nn.Linear(5, 7),\n",
    "                                        nn.Dropout(p = 0.3))\n",
    "    def forward(self, x):\n",
    "        x = self.drop_layer(x)\n",
    "        return x\n",
    "\n",
    "model = sample_model()\n",
    "model.train()\n",
    "x = torch.randn(3, 5)\n",
    "print(model(x)) # 0.7의 확률로 죽임\n",
    "\n",
    "model.eval()\n",
    "print(model(x)) # 다 살려 그 대신 각 노드마다 0.7 곱"
   ],
   "id": "2c3dbdce26390d89",
   "outputs": [
    {
     "name": "stdout",
     "output_type": "stream",
     "text": [
      "tensor([[-2.0236, -0.8471, -0.0000, -1.6398, -0.0000, -0.1545,  0.0000],\n",
      "        [-0.0000,  0.3171, -0.2573, -0.1815,  0.5417, -0.1272, -0.2058],\n",
      "        [-0.0119,  0.0000, -0.8282, -0.2105, -0.0000, -0.1014,  0.0000]],\n",
      "       grad_fn=<MulBackward0>)\n",
      "tensor([[-1.4165, -0.5930, -1.1434, -1.1478, -1.6408, -0.1081,  0.9608],\n",
      "        [-0.1661,  0.2220, -0.1801, -0.1270,  0.3792, -0.0891, -0.1441],\n",
      "        [-0.0084,  0.1061, -0.5797, -0.1474, -0.3469, -0.0710,  0.2844]],\n",
      "       grad_fn=<AddmmBackward0>)\n"
     ]
    }
   ],
   "execution_count": 2
  },
  {
   "metadata": {
    "ExecuteTime": {
     "end_time": "2025-05-19T07:42:22.119496Z",
     "start_time": "2025-05-19T07:42:22.117166Z"
    }
   },
   "cell_type": "code",
   "source": [
    "layer = nn.Conv2d(in_channels=1, out_channels=2, kernel_size=3, stride=1, padding=1) # stride =1, padding =0이 디폴트\n",
    "'''\n",
    "in_channel == 필터의 채널 수\n",
    "out_chanel == 필터의 수 즉, 출력되는 데이터의 채널의 수\n",
    "'''\n",
    "print(layer(torch.randn(32, 1, 5, 5)).shape) # 개체행렬!\n",
    "# nn.linear(3, 5) # 채 채 -> 이놈은 채 또는 개체를 원함 -> 즉, 개 x 3이야지 통과 가능하다.\n",
    "# nn.Conv2d(3, 5) # 채 채 -> 애는 채 행 열 또는 개 채 행 열을 원함, 개 x 3 x 행 x 열"
   ],
   "id": "43da3cc84e8d104b",
   "outputs": [
    {
     "name": "stdout",
     "output_type": "stream",
     "text": [
      "torch.Size([32, 2, 5, 5])\n"
     ]
    }
   ],
   "execution_count": 9
  },
  {
   "metadata": {
    "ExecuteTime": {
     "end_time": "2025-05-19T07:50:06.697891Z",
     "start_time": "2025-05-19T07:50:06.694482Z"
    }
   },
   "cell_type": "code",
   "source": [
    "layer = nn.Conv2d(3, 5, 3, stride =2 , padding =1)\n",
    "print(layer(torch.randn(32, 3, 5, 5)).shape)\n",
    "print(layer.weight.shape) # 개 채 행 렬 -> 3 x 3 filter가 3의 channel을 가지고 총 5개가 있다."
   ],
   "id": "a13c8eef952a4255",
   "outputs": [
    {
     "name": "stdout",
     "output_type": "stream",
     "text": [
      "torch.Size([32, 5, 3, 3])\n",
      "torch.Size([5, 3, 3, 3])\n"
     ]
    }
   ],
   "execution_count": 12
  },
  {
   "metadata": {
    "ExecuteTime": {
     "end_time": "2025-05-19T08:15:46.015212Z",
     "start_time": "2025-05-19T08:15:46.005688Z"
    }
   },
   "cell_type": "code",
   "source": [
    "conv1 = nn.Conv2d(1, 8, 6, stride=2)\n",
    "x = torch.randn(32, 1, 28, 28)\n",
    "print(conv1(x).shape)\n",
    "\n",
    "conv2 = nn.Conv2d(8, 16, 3, padding=1)\n",
    "print(conv2(conv1(x)).shape)\n",
    "\n",
    "Maxpool = nn.MaxPool2d(kernel_size=2, stride=(2, 2))\n",
    "print(Maxpool(conv2(conv1(x))).shape)"
   ],
   "id": "e849ef36c7fb91db",
   "outputs": [
    {
     "name": "stdout",
     "output_type": "stream",
     "text": [
      "torch.Size([32, 8, 12, 12])\n",
      "torch.Size([32, 16, 12, 12])\n",
      "torch.Size([32, 16, 6, 6])\n"
     ]
    }
   ],
   "execution_count": 15
  },
  {
   "metadata": {
    "ExecuteTime": {
     "end_time": "2025-05-19T08:19:24.861991Z",
     "start_time": "2025-05-19T08:19:24.857819Z"
    }
   },
   "cell_type": "code",
   "source": [
    "maxpool = nn.MaxPool2d(2) # 2 로만 줘도 자동 kernel_size = 2, stride = (2, 2)\n",
    "x = torch.randn(1, 1, 6, 6)\n",
    "print(x)\n",
    "print(maxpool(x))"
   ],
   "id": "41955d4d30f0b1c",
   "outputs": [
    {
     "name": "stdout",
     "output_type": "stream",
     "text": [
      "tensor([[[[ 0.3499, -0.3534,  0.4921, -0.0284, -0.2667, -1.0244],\n",
      "          [ 0.9035,  1.5047,  0.2959,  1.3930,  0.5262, -0.0326],\n",
      "          [ 1.1675, -0.7535,  0.1152, -1.1356, -0.4297,  0.2672],\n",
      "          [-1.2772,  0.9734,  0.3927, -0.1595,  0.4006,  0.2541],\n",
      "          [ 1.3374, -1.6176, -0.1437, -0.5672,  0.1777,  0.6217],\n",
      "          [-0.6175,  1.3684,  2.3634,  0.0053,  0.9664, -1.2419]]]])\n",
      "tensor([[[[1.5047, 1.3930, 0.5262],\n",
      "          [1.1675, 0.3927, 0.4006],\n",
      "          [1.3684, 2.3634, 0.9664]]]])\n"
     ]
    }
   ],
   "execution_count": 18
  },
  {
   "metadata": {
    "ExecuteTime": {
     "end_time": "2025-05-19T08:20:32.458407Z",
     "start_time": "2025-05-19T08:20:32.454056Z"
    }
   },
   "cell_type": "code",
   "source": [
    "avgpool = nn.AvgPool2d(2)\n",
    "x = torch.randn(1, 1, 6, 6)\n",
    "print(x)\n",
    "print(avgpool(x))"
   ],
   "id": "ed3e2bb8af4598ec",
   "outputs": [
    {
     "name": "stdout",
     "output_type": "stream",
     "text": [
      "tensor([[[[ 0.7793,  0.1524,  0.2603, -0.7056,  0.6494,  0.7938],\n",
      "          [ 1.0123, -0.2509, -1.0570, -0.3321, -0.7396,  0.2015],\n",
      "          [-1.6956,  0.3449, -0.4866, -0.8647, -0.6779,  1.0431],\n",
      "          [-0.1455, -1.5248,  0.3526, -1.1165, -1.4569,  1.8551],\n",
      "          [ 0.6834, -0.1479,  1.4771,  0.0593,  0.8920, -0.5520],\n",
      "          [-0.6460,  1.0205, -1.6543,  0.0640,  0.6712,  0.5071]]]])\n",
      "tensor([[[[ 0.4233, -0.4586,  0.2263],\n",
      "          [-0.7552, -0.5288,  0.1909],\n",
      "          [ 0.2275, -0.0135,  0.3796]]]])\n"
     ]
    }
   ],
   "execution_count": 19
  },
  {
   "metadata": {
    "ExecuteTime": {
     "end_time": "2025-05-19T08:27:20.094041Z",
     "start_time": "2025-05-19T08:27:20.087821Z"
    }
   },
   "cell_type": "code",
   "source": [
    "class CNN(nn.Module):\n",
    "    def __init__(self):\n",
    "        super().__init__()\n",
    "\n",
    "        self.conv1 = nn.Conv2d(1, 8, 6, stride=2)\n",
    "        self.conv2 = nn.Conv2d(8, 16, 3, padding=1)\n",
    "        self.Maxpool2 = nn.MaxPool2d(2)\n",
    "        self.fc = nn.Linear(16 * 6 * 6, 10) # 잘모르겠으면 Flatten 이건까지만 하고 실행\n",
    "\n",
    "    def forward(self, x):\n",
    "        x = self.conv1(x)\n",
    "        x = self.conv2(x)\n",
    "        x = self.Maxpool2(x)\n",
    "        x = torch.flatten(x, start_dim=1)\n",
    "        x = self.fc(x)\n",
    "        return x\n",
    "\n",
    "x = torch.randn(32, 1, 28, 28)\n",
    "model = CNN()\n",
    "print(model(x).shape)"
   ],
   "id": "3f44808714ccef42",
   "outputs": [
    {
     "name": "stdout",
     "output_type": "stream",
     "text": [
      "torch.Size([32, 10])\n"
     ]
    }
   ],
   "execution_count": 21
  },
  {
   "metadata": {},
   "cell_type": "markdown",
   "source": "## .parameters() vs .modules() vs .children() 그리고 isinstance의 활용",
   "id": "214f1bc3d8cfdc02"
  },
  {
   "metadata": {
    "ExecuteTime": {
     "end_time": "2025-05-19T11:55:25.564669Z",
     "start_time": "2025-05-19T11:55:25.559001Z"
    }
   },
   "cell_type": "code",
   "source": [
    "class MLP(nn.Module):\n",
    "    def __init__(self):\n",
    "        super().__init__()\n",
    "        self.fc1 = nn.Sequential(nn.Linear(2,3),\n",
    "                                 nn.ReLU())\n",
    "        self.fc2 = nn.Sequential(nn.Linear(3,4),\n",
    "                                 nn.ReLU())\n",
    "        self.fc_out = nn.Sequential(nn.Linear(4,1), # 이진분류\n",
    "                                    nn.Sigmoid())\n",
    "    def forward(self,x):\n",
    "        x = self.fc1(x)\n",
    "        x = self.fc2(x)\n",
    "        x = self.fc_out(x)\n",
    "        return x\n",
    "\n",
    "model = MLP()\n",
    "print(model(torch.randn(2,2)).shape)\n",
    "print(model)"
   ],
   "id": "6485394e914745fb",
   "outputs": [
    {
     "name": "stdout",
     "output_type": "stream",
     "text": [
      "torch.Size([2, 1])\n",
      "MLP(\n",
      "  (fc1): Sequential(\n",
      "    (0): Linear(in_features=2, out_features=3, bias=True)\n",
      "    (1): ReLU()\n",
      "  )\n",
      "  (fc2): Sequential(\n",
      "    (0): Linear(in_features=3, out_features=4, bias=True)\n",
      "    (1): ReLU()\n",
      "  )\n",
      "  (fc_out): Sequential(\n",
      "    (0): Linear(in_features=4, out_features=1, bias=True)\n",
      "    (1): Sigmoid()\n",
      "  )\n",
      ")\n"
     ]
    }
   ],
   "execution_count": 21
  },
  {
   "metadata": {
    "ExecuteTime": {
     "end_time": "2025-05-19T11:39:45.258697Z",
     "start_time": "2025-05-19T11:39:45.255662Z"
    }
   },
   "cell_type": "code",
   "source": [
    "'''\n",
    "[layer0 weight 값, layer0 bias 값, layer1 weight 값, layer1 bias 값, ...]\n",
    "'''\n",
    "list(model.parameters())"
   ],
   "id": "50eeb56fc1495776",
   "outputs": [
    {
     "data": {
      "text/plain": [
       "[Parameter containing:\n",
       " tensor([[ 0.4411,  0.5475],\n",
       "         [-0.2305,  0.5315],\n",
       "         [-0.3816,  0.0659]], requires_grad=True),\n",
       " Parameter containing:\n",
       " tensor([-0.2984, -0.2058,  0.4123], requires_grad=True),\n",
       " Parameter containing:\n",
       " tensor([[ 0.2673,  0.3347, -0.1339],\n",
       "         [ 0.2274,  0.4008, -0.2736],\n",
       "         [-0.4424, -0.0530, -0.3074],\n",
       "         [ 0.1328, -0.2152,  0.2612]], requires_grad=True),\n",
       " Parameter containing:\n",
       " tensor([0.3346, 0.2851, 0.2692, 0.4073], requires_grad=True),\n",
       " Parameter containing:\n",
       " tensor([[-0.4130,  0.4999,  0.4465,  0.2102]], requires_grad=True),\n",
       " Parameter containing:\n",
       " tensor([0.4567], requires_grad=True)]"
      ]
     },
     "execution_count": 7,
     "metadata": {},
     "output_type": "execute_result"
    }
   ],
   "execution_count": 7
  },
  {
   "metadata": {
    "ExecuteTime": {
     "end_time": "2025-05-19T11:55:33.617320Z",
     "start_time": "2025-05-19T11:55:33.615192Z"
    }
   },
   "cell_type": "code",
   "source": "model = MLP()",
   "id": "6fe2ee051b2ed07c",
   "outputs": [],
   "execution_count": 22
  },
  {
   "metadata": {
    "ExecuteTime": {
     "end_time": "2025-05-19T11:56:54.709235Z",
     "start_time": "2025-05-19T11:56:54.117656Z"
    }
   },
   "cell_type": "code",
   "source": [
    "'''\n",
    "For transfer learning\n",
    "<10개 분류 문제를 5개로...>\n",
    "'''\n",
    "model = MLP()\n",
    "print([p for p in model.parameters() if p.requires_grad])\n",
    "print(\"=\" * 50)\n",
    "for p in model.parameters(): # 전체 Freeze\n",
    "    p.requires_grad = False\n",
    "\n",
    "model.fc_out = nn.Linear(4, 10) # 출력만 체인지!\n",
    "\n",
    "params = [p for p in model.parameters() if p.requires_grad]\n",
    "print(params)\n",
    "\n",
    "from torch import optim\n",
    "\n",
    "'''\n",
    "이렇게 하면 기존 모델의 가중치는 그대로 두고\n",
    "마지막 fc_out 레이어만 새로운 데이터에 맞게 학습!\n",
    "'''\n",
    "optimizer = optim.Adam(params, lr=0.1) # 마지막만 가중치 학습 ㄱㄱ하자 기존껀 그대로 쓰고"
   ],
   "id": "3b718b912a976e0e",
   "outputs": [
    {
     "name": "stdout",
     "output_type": "stream",
     "text": [
      "[Parameter containing:\n",
      "tensor([[ 0.2376, -0.3245],\n",
      "        [ 0.3080,  0.0575],\n",
      "        [ 0.6979,  0.2428]], requires_grad=True), Parameter containing:\n",
      "tensor([-0.0224, -0.1967,  0.1500], requires_grad=True), Parameter containing:\n",
      "tensor([[ 0.3464,  0.2828,  0.3086],\n",
      "        [-0.0090, -0.4900,  0.1332],\n",
      "        [-0.1833, -0.2232, -0.1966],\n",
      "        [ 0.1517,  0.1053, -0.1945]], requires_grad=True), Parameter containing:\n",
      "tensor([ 0.1392, -0.3340, -0.0250, -0.1186], requires_grad=True), Parameter containing:\n",
      "tensor([[-0.3074,  0.4248,  0.4775, -0.0182]], requires_grad=True), Parameter containing:\n",
      "tensor([0.2389], requires_grad=True)]\n",
      "==================================================\n",
      "[Parameter containing:\n",
      "tensor([[-0.2784,  0.2752, -0.0354,  0.3425],\n",
      "        [ 0.4612, -0.4997, -0.2331,  0.2940],\n",
      "        [ 0.0696, -0.4541,  0.4058, -0.3344],\n",
      "        [-0.3250,  0.3717, -0.3814, -0.3557],\n",
      "        [-0.4980, -0.0508, -0.1319, -0.0313],\n",
      "        [ 0.2423, -0.3420, -0.4910, -0.0967],\n",
      "        [-0.2382, -0.4480,  0.3457, -0.0204],\n",
      "        [ 0.0296, -0.1998, -0.4443,  0.4023],\n",
      "        [ 0.0551, -0.4008, -0.1334,  0.4860],\n",
      "        [ 0.4175,  0.4524, -0.1189,  0.0209]], requires_grad=True), Parameter containing:\n",
      "tensor([-0.1509, -0.1032,  0.1013,  0.1759, -0.2514, -0.2639,  0.4095, -0.0458,\n",
      "        -0.2625,  0.2732], requires_grad=True)]\n"
     ]
    }
   ],
   "execution_count": 25
  },
  {
   "metadata": {
    "ExecuteTime": {
     "end_time": "2025-05-19T11:50:50.932509Z",
     "start_time": "2025-05-19T11:50:50.928815Z"
    }
   },
   "cell_type": "code",
   "source": [
    "'''\n",
    "[('layer0.weight', weight 값), ('layer0.bias', bias 값), ('layer1.weight', weight 값), ('layer1.bias', bias 값), ...]\n",
    "'''\n",
    "list(model.named_parameters())"
   ],
   "id": "c49dfafdec7c3b40",
   "outputs": [
    {
     "data": {
      "text/plain": [
       "[('fc1.0.weight',\n",
       "  Parameter containing:\n",
       "  tensor([[-0.3308, -0.0155],\n",
       "          [-0.1607,  0.4018],\n",
       "          [-0.1613, -0.0032]])),\n",
       " ('fc1.0.bias',\n",
       "  Parameter containing:\n",
       "  tensor([-0.6536,  0.5953, -0.5930])),\n",
       " ('fc2.0.weight',\n",
       "  Parameter containing:\n",
       "  tensor([[-0.2898,  0.0487,  0.4600],\n",
       "          [ 0.5438,  0.4170, -0.0354],\n",
       "          [ 0.5531, -0.1187, -0.5636],\n",
       "          [-0.2376,  0.5725, -0.2811]])),\n",
       " ('fc2.0.bias',\n",
       "  Parameter containing:\n",
       "  tensor([-0.2515,  0.2962,  0.3924, -0.3640])),\n",
       " ('fc_out.weight',\n",
       "  Parameter containing:\n",
       "  tensor([[ 0.1011, -0.0024,  0.2741, -0.3737],\n",
       "          [-0.2407,  0.3261, -0.2067,  0.1658],\n",
       "          [-0.3740, -0.3387,  0.3064, -0.1720],\n",
       "          [-0.1757, -0.4754, -0.2350, -0.2415],\n",
       "          [-0.2969, -0.2228,  0.2518, -0.3152],\n",
       "          [-0.3919,  0.2561, -0.4509, -0.0173],\n",
       "          [-0.1330, -0.4636, -0.2654,  0.0723],\n",
       "          [-0.0270, -0.2983,  0.1694, -0.2709],\n",
       "          [-0.4674,  0.2276,  0.4860,  0.4239],\n",
       "          [ 0.0619, -0.1196,  0.2553,  0.3430]], requires_grad=True)),\n",
       " ('fc_out.bias',\n",
       "  Parameter containing:\n",
       "  tensor([-0.3764,  0.4508, -0.2167, -0.0973, -0.3636, -0.2856, -0.0926,  0.4016,\n",
       "          -0.2927,  0.2104], requires_grad=True))]"
      ]
     },
     "execution_count": 12,
     "metadata": {},
     "output_type": "execute_result"
    }
   ],
   "execution_count": 12
  },
  {
   "metadata": {
    "ExecuteTime": {
     "end_time": "2025-05-19T11:51:01.831720Z",
     "start_time": "2025-05-19T11:51:01.826658Z"
    }
   },
   "cell_type": "code",
   "source": [
    "for name, p in model.named_parameters():\n",
    "    print(name)\n",
    "    print(p)"
   ],
   "id": "b49eac62f6fd4761",
   "outputs": [
    {
     "name": "stdout",
     "output_type": "stream",
     "text": [
      "fc1.0.weight\n",
      "Parameter containing:\n",
      "tensor([[-0.3308, -0.0155],\n",
      "        [-0.1607,  0.4018],\n",
      "        [-0.1613, -0.0032]])\n",
      "fc1.0.bias\n",
      "Parameter containing:\n",
      "tensor([-0.6536,  0.5953, -0.5930])\n",
      "fc2.0.weight\n",
      "Parameter containing:\n",
      "tensor([[-0.2898,  0.0487,  0.4600],\n",
      "        [ 0.5438,  0.4170, -0.0354],\n",
      "        [ 0.5531, -0.1187, -0.5636],\n",
      "        [-0.2376,  0.5725, -0.2811]])\n",
      "fc2.0.bias\n",
      "Parameter containing:\n",
      "tensor([-0.2515,  0.2962,  0.3924, -0.3640])\n",
      "fc_out.weight\n",
      "Parameter containing:\n",
      "tensor([[ 0.1011, -0.0024,  0.2741, -0.3737],\n",
      "        [-0.2407,  0.3261, -0.2067,  0.1658],\n",
      "        [-0.3740, -0.3387,  0.3064, -0.1720],\n",
      "        [-0.1757, -0.4754, -0.2350, -0.2415],\n",
      "        [-0.2969, -0.2228,  0.2518, -0.3152],\n",
      "        [-0.3919,  0.2561, -0.4509, -0.0173],\n",
      "        [-0.1330, -0.4636, -0.2654,  0.0723],\n",
      "        [-0.0270, -0.2983,  0.1694, -0.2709],\n",
      "        [-0.4674,  0.2276,  0.4860,  0.4239],\n",
      "        [ 0.0619, -0.1196,  0.2553,  0.3430]], requires_grad=True)\n",
      "fc_out.bias\n",
      "Parameter containing:\n",
      "tensor([-0.3764,  0.4508, -0.2167, -0.0973, -0.3636, -0.2856, -0.0926,  0.4016,\n",
      "        -0.2927,  0.2104], requires_grad=True)\n"
     ]
    }
   ],
   "execution_count": 13
  },
  {
   "metadata": {
    "ExecuteTime": {
     "end_time": "2025-05-19T11:51:09.054416Z",
     "start_time": "2025-05-19T11:51:09.051240Z"
    }
   },
   "cell_type": "code",
   "source": "list(model.modules())",
   "id": "747749b2b364022c",
   "outputs": [
    {
     "data": {
      "text/plain": [
       "[MLP(\n",
       "   (fc1): Sequential(\n",
       "     (0): Linear(in_features=2, out_features=3, bias=True)\n",
       "     (1): ReLU()\n",
       "   )\n",
       "   (fc2): Sequential(\n",
       "     (0): Linear(in_features=3, out_features=4, bias=True)\n",
       "     (1): ReLU()\n",
       "   )\n",
       "   (fc_out): Linear(in_features=4, out_features=10, bias=True)\n",
       " ),\n",
       " Sequential(\n",
       "   (0): Linear(in_features=2, out_features=3, bias=True)\n",
       "   (1): ReLU()\n",
       " ),\n",
       " Linear(in_features=2, out_features=3, bias=True),\n",
       " ReLU(),\n",
       " Sequential(\n",
       "   (0): Linear(in_features=3, out_features=4, bias=True)\n",
       "   (1): ReLU()\n",
       " ),\n",
       " Linear(in_features=3, out_features=4, bias=True),\n",
       " ReLU(),\n",
       " Linear(in_features=4, out_features=10, bias=True)]"
      ]
     },
     "execution_count": 14,
     "metadata": {},
     "output_type": "execute_result"
    }
   ],
   "execution_count": 14
  },
  {
   "metadata": {
    "ExecuteTime": {
     "end_time": "2025-05-19T11:52:11.573928Z",
     "start_time": "2025-05-19T11:52:11.571048Z"
    }
   },
   "cell_type": "code",
   "source": [
    "'''\n",
    "Checking for gradient vanishing\n",
    "'''\n",
    "print([m for m in model.modules() if isinstance(m,nn.Linear)])\n",
    "print(\"=\" * 50)\n",
    "print([m.weight for m in model.modules() if isinstance(m,nn.Linear)])\n",
    "print(\"=\" * 50)\n",
    "print([m.weight.grad for m in model.modules() if isinstance(m,nn.Linear)])"
   ],
   "id": "1bafc1b461308f0d",
   "outputs": [
    {
     "name": "stdout",
     "output_type": "stream",
     "text": [
      "[Linear(in_features=2, out_features=3, bias=True), Linear(in_features=3, out_features=4, bias=True), Linear(in_features=4, out_features=10, bias=True)]\n",
      "==================================================\n",
      "[Parameter containing:\n",
      "tensor([[-0.3308, -0.0155],\n",
      "        [-0.1607,  0.4018],\n",
      "        [-0.1613, -0.0032]]), Parameter containing:\n",
      "tensor([[-0.2898,  0.0487,  0.4600],\n",
      "        [ 0.5438,  0.4170, -0.0354],\n",
      "        [ 0.5531, -0.1187, -0.5636],\n",
      "        [-0.2376,  0.5725, -0.2811]]), Parameter containing:\n",
      "tensor([[ 0.1011, -0.0024,  0.2741, -0.3737],\n",
      "        [-0.2407,  0.3261, -0.2067,  0.1658],\n",
      "        [-0.3740, -0.3387,  0.3064, -0.1720],\n",
      "        [-0.1757, -0.4754, -0.2350, -0.2415],\n",
      "        [-0.2969, -0.2228,  0.2518, -0.3152],\n",
      "        [-0.3919,  0.2561, -0.4509, -0.0173],\n",
      "        [-0.1330, -0.4636, -0.2654,  0.0723],\n",
      "        [-0.0270, -0.2983,  0.1694, -0.2709],\n",
      "        [-0.4674,  0.2276,  0.4860,  0.4239],\n",
      "        [ 0.0619, -0.1196,  0.2553,  0.3430]], requires_grad=True)]\n",
      "==================================================\n",
      "[None, None, None]\n"
     ]
    }
   ],
   "execution_count": 16
  },
  {
   "metadata": {
    "ExecuteTime": {
     "end_time": "2025-05-19T11:55:38.512138Z",
     "start_time": "2025-05-19T11:55:38.505945Z"
    }
   },
   "cell_type": "code",
   "source": [
    "'''\n",
    "weight initialization에 활용\n",
    "'''\n",
    "for m in model.modules():\n",
    "    if isinstance(m, nn.Linear):\n",
    "        #nn.init.kaiming_normal_(m.weight)\n",
    "        nn.init.constant_(m.weight, 1)\n",
    "\n",
    "print([m.weight for m in model.modules() if isinstance(m, nn.Linear)])\n",
    "print(\"=\" * 50)\n",
    "print([p for p in model.parameters() if p.requires_grad])"
   ],
   "id": "a098228bd5d6e037",
   "outputs": [
    {
     "name": "stdout",
     "output_type": "stream",
     "text": [
      "[Parameter containing:\n",
      "tensor([[1., 1.],\n",
      "        [1., 1.],\n",
      "        [1., 1.]], requires_grad=True), Parameter containing:\n",
      "tensor([[1., 1., 1.],\n",
      "        [1., 1., 1.],\n",
      "        [1., 1., 1.],\n",
      "        [1., 1., 1.]], requires_grad=True), Parameter containing:\n",
      "tensor([[1., 1., 1., 1.]], requires_grad=True)]\n",
      "==================================================\n",
      "[Parameter containing:\n",
      "tensor([[1., 1.],\n",
      "        [1., 1.],\n",
      "        [1., 1.]], requires_grad=True), Parameter containing:\n",
      "tensor([ 0.6548, -0.2828, -0.1646], requires_grad=True), Parameter containing:\n",
      "tensor([[1., 1., 1.],\n",
      "        [1., 1., 1.],\n",
      "        [1., 1., 1.],\n",
      "        [1., 1., 1.]], requires_grad=True), Parameter containing:\n",
      "tensor([ 0.1869,  0.2428, -0.0914, -0.4958], requires_grad=True), Parameter containing:\n",
      "tensor([[1., 1., 1., 1.]], requires_grad=True), Parameter containing:\n",
      "tensor([-0.2523], requires_grad=True)]\n"
     ]
    }
   ],
   "execution_count": 23
  },
  {
   "metadata": {
    "ExecuteTime": {
     "end_time": "2025-05-19T11:56:57.978351Z",
     "start_time": "2025-05-19T11:56:57.975045Z"
    }
   },
   "cell_type": "code",
   "source": "list(model.children())",
   "id": "46c2f5ddba8c811c",
   "outputs": [
    {
     "data": {
      "text/plain": [
       "[Sequential(\n",
       "   (0): Linear(in_features=2, out_features=3, bias=True)\n",
       "   (1): ReLU()\n",
       " ),\n",
       " Sequential(\n",
       "   (0): Linear(in_features=3, out_features=4, bias=True)\n",
       "   (1): ReLU()\n",
       " ),\n",
       " Linear(in_features=4, out_features=10, bias=True)]"
      ]
     },
     "execution_count": 26,
     "metadata": {},
     "output_type": "execute_result"
    }
   ],
   "execution_count": 26
  },
  {
   "metadata": {
    "ExecuteTime": {
     "end_time": "2025-05-19T11:57:33.801919Z",
     "start_time": "2025-05-19T11:57:33.797362Z"
    }
   },
   "cell_type": "code",
   "source": [
    "x = torch.randn(2, 2)\n",
    "list(model.children())[0](x)"
   ],
   "id": "cfae24e00c541684",
   "outputs": [
    {
     "data": {
      "text/plain": [
       "tensor([[0.0000, 0.0000, 0.6766],\n",
       "        [0.0000, 0.0000, 0.0000]])"
      ]
     },
     "execution_count": 27,
     "metadata": {},
     "output_type": "execute_result"
    }
   ],
   "execution_count": 27
  },
  {
   "metadata": {
    "ExecuteTime": {
     "end_time": "2025-05-19T11:58:20.965609Z",
     "start_time": "2025-05-19T11:58:20.961820Z"
    }
   },
   "cell_type": "code",
   "source": [
    "print(*list(model.children())[:2])\n",
    "sub_network = nn.Sequential(*list(model.children())[:2])\n",
    "print(sub_network)\n",
    "print(sub_network(x))"
   ],
   "id": "e14745755dc32c74",
   "outputs": [
    {
     "name": "stdout",
     "output_type": "stream",
     "text": [
      "Sequential(\n",
      "  (0): Linear(in_features=2, out_features=3, bias=True)\n",
      "  (1): ReLU()\n",
      ") Sequential(\n",
      "  (0): Linear(in_features=3, out_features=4, bias=True)\n",
      "  (1): ReLU()\n",
      ")\n",
      "Sequential(\n",
      "  (0): Sequential(\n",
      "    (0): Linear(in_features=2, out_features=3, bias=True)\n",
      "    (1): ReLU()\n",
      "  )\n",
      "  (1): Sequential(\n",
      "    (0): Linear(in_features=3, out_features=4, bias=True)\n",
      "    (1): ReLU()\n",
      "  )\n",
      ")\n",
      "tensor([[0.3480, 0.0000, 0.0000, 0.0000],\n",
      "        [0.1392, 0.0000, 0.0000, 0.0000]])\n"
     ]
    }
   ],
   "execution_count": 28
  },
  {
   "metadata": {},
   "cell_type": "markdown",
   "source": "## ModuleList vs Sequential",
   "id": "bcbc31c7871a6f6f"
  },
  {
   "metadata": {
    "ExecuteTime": {
     "end_time": "2025-05-19T12:04:44.344731Z",
     "start_time": "2025-05-19T12:04:44.340517Z"
    }
   },
   "cell_type": "code",
   "source": [
    "fc = nn.Linear(3, 3)\n",
    "layer_list = [fc for _ in range(5)]\n",
    "layers1 = nn.Sequential(*layer_list)\n",
    "layers2 = nn.ModuleList(layer_list) # * 쓰고 지랄 엠병 할 필요 없노\n",
    "print(layers1)\n",
    "print(\"=\" * 50)\n",
    "print(layers2)"
   ],
   "id": "1a9f9180b9c5189f",
   "outputs": [
    {
     "name": "stdout",
     "output_type": "stream",
     "text": [
      "Sequential(\n",
      "  (0): Linear(in_features=3, out_features=3, bias=True)\n",
      "  (1): Linear(in_features=3, out_features=3, bias=True)\n",
      "  (2): Linear(in_features=3, out_features=3, bias=True)\n",
      "  (3): Linear(in_features=3, out_features=3, bias=True)\n",
      "  (4): Linear(in_features=3, out_features=3, bias=True)\n",
      ")\n",
      "==================================================\n",
      "ModuleList(\n",
      "  (0-4): 5 x Linear(in_features=3, out_features=3, bias=True)\n",
      ")\n"
     ]
    }
   ],
   "execution_count": 30
  },
  {
   "metadata": {
    "ExecuteTime": {
     "end_time": "2025-05-19T12:06:19.177494Z",
     "start_time": "2025-05-19T12:06:19.172292Z"
    }
   },
   "cell_type": "code",
   "source": [
    "x=torch.randn(1,3)\n",
    "print(layers1(x))\n",
    "\n",
    "# print(layers2(x)) # error! -> Seq에는 Forward()가 정의되어있어서 그냥 가능..\n",
    "for layer in layers2:\n",
    "    x = layer(x)\n",
    "print(x)"
   ],
   "id": "9c25e6b78e0b6aee",
   "outputs": [
    {
     "name": "stdout",
     "output_type": "stream",
     "text": [
      "tensor([[-0.5715,  0.3017, -0.3979]], grad_fn=<AddmmBackward0>)\n",
      "tensor([[-0.5715,  0.3017, -0.3979]], grad_fn=<AddmmBackward0>)\n"
     ]
    }
   ],
   "execution_count": 31
  },
  {
   "metadata": {
    "ExecuteTime": {
     "end_time": "2025-05-19T12:10:59.666957Z",
     "start_time": "2025-05-19T12:10:59.663324Z"
    }
   },
   "cell_type": "code",
   "source": [
    "'''\n",
    "<걍 리스트 쓰지 왜 nn.ModuleList 를 쓸까?>\n",
    "'''\n",
    "class testNet(nn.Module):\n",
    "    def __init__(self):\n",
    "        super().__init__()\n",
    "\n",
    "        #self.Module_List = [nn.Linear(3,3), nn.Linear(3,3)] # -> 등록 못함..\n",
    "        self.Module_List = nn.ModuleList([nn.Linear(3,3), nn.Linear(3,3)])\n",
    "\n",
    "    def forward(self,x):\n",
    "        for layer in self.Module_List:\n",
    "            x = layer(x)\n",
    "        return x\n",
    "\n",
    "model=testNet()\n",
    "print(model(torch.randn(1,3)))\n",
    "\n",
    "#print(model) # 그냥 리스트로 하면 등록이 안돼있다!\n",
    "print(list(model.parameters()))\n",
    "#optimizer = optim.Adam(model.parameters(), lr = 0.1) # 등록이 안돼있으면 parameter를 못 찾는다!"
   ],
   "id": "a9da3e954612dea1",
   "outputs": [
    {
     "name": "stdout",
     "output_type": "stream",
     "text": [
      "tensor([[-0.7920, -0.2759, -0.4472]], grad_fn=<AddmmBackward0>)\n",
      "[Parameter containing:\n",
      "tensor([[-0.0513, -0.3149, -0.5710],\n",
      "        [-0.4224,  0.2163, -0.4706],\n",
      "        [-0.0809, -0.3872,  0.1710]], requires_grad=True), Parameter containing:\n",
      "tensor([-0.4993, -0.4372,  0.2502], requires_grad=True), Parameter containing:\n",
      "tensor([[-0.0152,  0.4593, -0.5006],\n",
      "        [-0.2672, -0.4765, -0.1522],\n",
      "        [ 0.5358,  0.0264, -0.1710]], requires_grad=True), Parameter containing:\n",
      "tensor([-0.5164, -0.5323, -0.3616], requires_grad=True)]\n"
     ]
    }
   ],
   "execution_count": 43
  },
  {
   "metadata": {
    "ExecuteTime": {
     "end_time": "2025-05-19T12:15:33.469686Z",
     "start_time": "2025-05-19T12:15:33.466440Z"
    }
   },
   "cell_type": "code",
   "source": [
    "'''\n",
    "<그럼 nn.Sequential 쓰고 말지 왜 굳이 nn.ModuleList?>\n",
    "'''\n",
    "class small_block(nn.Module):\n",
    "    def __init__(self):\n",
    "        super().__init__()\n",
    "        self.block_x = nn.Linear(1,1)\n",
    "        self.block_y = nn.Linear(1,1)\n",
    "\n",
    "    def forward(self, x, y):\n",
    "        x = self.block_x(x)\n",
    "        y = self.block_y(y)\n",
    "        return x, y\n",
    "\n",
    "block = small_block()\n",
    "print(block)\n",
    "print(\"=\" * 50)\n",
    "model = nn.Sequential(block, block)\n",
    "print(model)\n",
    "print(\"=\" * 50)\n",
    "# model(torch.randn(1), torch.randn(1)) # error!\n",
    "# nn.Sequential 이 가지고 있는 forward 함수를 call 하기 때문에 입력을 두 개 넣으면 안된다!!\n",
    "# nn.Seq의 forward(self, x) 이런식으로 하나만 받을수 ㅇㅆ노\n",
    "\n",
    "model = nn.ModuleList([block,block])\n",
    "x = torch.randn(1)\n",
    "y = torch.randn(1)\n",
    "for block in model: # -> forward() 정의\n",
    "    x, y = block(x,y)\n",
    "print(x, y)"
   ],
   "id": "ba40828a9ef2d2c9",
   "outputs": [
    {
     "name": "stdout",
     "output_type": "stream",
     "text": [
      "small_block(\n",
      "  (block_x): Linear(in_features=1, out_features=1, bias=True)\n",
      "  (block_y): Linear(in_features=1, out_features=1, bias=True)\n",
      ")\n",
      "==================================================\n",
      "Sequential(\n",
      "  (0): small_block(\n",
      "    (block_x): Linear(in_features=1, out_features=1, bias=True)\n",
      "    (block_y): Linear(in_features=1, out_features=1, bias=True)\n",
      "  )\n",
      "  (1): small_block(\n",
      "    (block_x): Linear(in_features=1, out_features=1, bias=True)\n",
      "    (block_y): Linear(in_features=1, out_features=1, bias=True)\n",
      "  )\n",
      ")\n",
      "==================================================\n",
      "tensor([-0.3195], grad_fn=<ViewBackward0>) tensor([1.3596], grad_fn=<ViewBackward0>)\n"
     ]
    }
   ],
   "execution_count": 49
  }
 ],
 "metadata": {
  "kernelspec": {
   "display_name": "Python 3",
   "language": "python",
   "name": "python3"
  },
  "language_info": {
   "codemirror_mode": {
    "name": "ipython",
    "version": 2
   },
   "file_extension": ".py",
   "mimetype": "text/x-python",
   "name": "python",
   "nbconvert_exporter": "python",
   "pygments_lexer": "ipython2",
   "version": "2.7.6"
  }
 },
 "nbformat": 4,
 "nbformat_minor": 5
}
