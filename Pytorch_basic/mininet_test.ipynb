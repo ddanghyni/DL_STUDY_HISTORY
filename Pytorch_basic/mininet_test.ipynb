{
 "cells": [
  {
   "cell_type": "code",
   "id": "initial_id",
   "metadata": {
    "collapsed": true,
    "ExecuteTime": {
     "end_time": "2025-05-18T12:31:12.413410Z",
     "start_time": "2025-05-18T12:31:11.988282Z"
    }
   },
   "source": [
    "import torch\n",
    "from torch import nn"
   ],
   "outputs": [],
   "execution_count": 1
  },
  {
   "metadata": {
    "ExecuteTime": {
     "end_time": "2025-05-18T12:32:03.625174Z",
     "start_time": "2025-05-18T12:32:03.616204Z"
    }
   },
   "cell_type": "code",
   "source": [
    "x = torch.randn(100, 3)\n",
    "layer = nn.Linear(3, 5)\n",
    "print(layer(x).shape)\n",
    "print(layer.weight)\n",
    "print(layer.bias)"
   ],
   "id": "1164e3c1f3c3d8b5",
   "outputs": [
    {
     "name": "stdout",
     "output_type": "stream",
     "text": [
      "torch.Size([100, 5])\n",
      "Parameter containing:\n",
      "tensor([[-0.1108, -0.4514, -0.4163],\n",
      "        [ 0.3495,  0.0874,  0.4593],\n",
      "        [ 0.1155,  0.4322, -0.3844],\n",
      "        [-0.1602,  0.2817, -0.5329],\n",
      "        [-0.3002,  0.3061, -0.4402]], requires_grad=True)\n",
      "Parameter containing:\n",
      "tensor([-0.3681, -0.1281,  0.4130, -0.5634, -0.4491], requires_grad=True)\n"
     ]
    }
   ],
   "execution_count": 2
  },
  {
   "metadata": {
    "ExecuteTime": {
     "end_time": "2025-05-18T12:35:00.461811Z",
     "start_time": "2025-05-18T12:35:00.458261Z"
    }
   },
   "cell_type": "code",
   "source": [
    "x = torch.randn(2, 5)\n",
    "layer = nn.ReLU() # 음수는 0 양수는 linear\n",
    "print(x)\n",
    "print(layer(x))"
   ],
   "id": "6a6ad4f4237e7a6c",
   "outputs": [
    {
     "name": "stdout",
     "output_type": "stream",
     "text": [
      "tensor([[ 0.2882,  1.3782,  0.4333,  0.0688,  0.8333],\n",
      "        [-1.2900,  0.2007, -1.1845, -0.6450, -1.0957]])\n",
      "tensor([[0.2882, 1.3782, 0.4333, 0.0688, 0.8333],\n",
      "        [0.0000, 0.2007, 0.0000, 0.0000, 0.0000]])\n"
     ]
    }
   ],
   "execution_count": 6
  },
  {
   "metadata": {
    "ExecuteTime": {
     "end_time": "2025-05-18T12:36:50.758291Z",
     "start_time": "2025-05-18T12:36:50.753863Z"
    }
   },
   "cell_type": "code",
   "source": [
    "x = torch.randn(3, 7) # 어떤 노드를 통과된 상태라 하자. 3개, 7 feature\n",
    "drop = nn.Dropout(p = 0.3) # p는 죽일 확률!! 논문에선 살릴 확률이였다.\n",
    "print(drop(x)) # 각 개가 통과마다 다르게 drop 된다..!"
   ],
   "id": "68a25961f0d9d05a",
   "outputs": [
    {
     "name": "stdout",
     "output_type": "stream",
     "text": [
      "tensor([[ 0.3459, -1.5823,  2.9730,  1.2473, -0.0000, -1.0688,  1.3578],\n",
      "        [-0.6621,  0.0000,  2.5391,  3.8966, -0.0255, -0.6990, -0.0000],\n",
      "        [-0.3712, -0.1636, -0.0000, -1.2739,  0.7860,  1.0813,  0.5819]])\n"
     ]
    }
   ],
   "execution_count": 9
  },
  {
   "metadata": {
    "ExecuteTime": {
     "end_time": "2025-05-18T12:43:56.929147Z",
     "start_time": "2025-05-18T12:43:56.923776Z"
    }
   },
   "cell_type": "code",
   "source": [
    "# dropout은 정말 train, test 다르게 작동하나??\n",
    "\n",
    "class sample_model(nn.Module):\n",
    "    def __init__(self):\n",
    "        super().__init__()\n",
    "        self.drop_layer = nn.Sequential(nn.Linear(5, 7),\n",
    "                                        nn.Dropout(p = 0.3))\n",
    "    def forward(self, x):\n",
    "        x = self.drop_layer(x)\n",
    "        return x\n",
    "\n",
    "model = sample_model()\n",
    "model.train()\n",
    "x = torch.randn(3, 5)\n",
    "print(model(x)) # 0.7의 확률로 죽임\n",
    "\n",
    "model.eval()\n",
    "print(model(x)) # 다 살려 그 대신 각 노드마다 0.7 곱"
   ],
   "id": "2c3dbdce26390d89",
   "outputs": [
    {
     "name": "stdout",
     "output_type": "stream",
     "text": [
      "tensor([[-0.2408,  0.0000, -0.0000,  0.0000, -0.0000, -0.0000, -0.0000],\n",
      "        [-0.0000, -0.8482,  0.1684, -0.4316, -1.1132, -0.0000, -0.0000],\n",
      "        [-0.0000,  0.0000, -0.0000,  0.4816,  0.0000,  0.7195, -1.1222]],\n",
      "       grad_fn=<MulBackward0>)\n",
      "tensor([[-0.1686,  0.9088, -0.3931,  0.2556, -0.6006, -0.2436, -1.5682],\n",
      "        [-0.1836, -0.5937,  0.1179, -0.3021, -0.7792, -0.3999, -0.3580],\n",
      "        [-0.0967,  0.9509, -0.3483,  0.3371,  0.0670,  0.5036, -0.7856]],\n",
      "       grad_fn=<AddmmBackward0>)\n"
     ]
    }
   ],
   "execution_count": 10
  },
  {
   "metadata": {
    "ExecuteTime": {
     "end_time": "2025-05-18T12:47:03.055888Z",
     "start_time": "2025-05-18T12:47:03.047380Z"
    }
   },
   "cell_type": "code",
   "source": [
    "layer = nn.Conv2d(in_channels=1, out_channels=2, kernel_size=3, stride=1, padding=1) # stride =1, padding =0이 디폴트\n",
    "layer(torch.randn(32, 1, 5, 5)).shape # 개체행렬!\n",
    "# nn.linear(3, 5) # 채 채 -> 이놈은 채 또는 개체를 원함 -> 즉, 개 x 3이야지 통과 가능하다.\n",
    "# nn.Conv2d(3, 5) # 채 채 -> 애는 채 행 열 또는 개 채 행 열을 원함, 개 x 3 x 행 x 열"
   ],
   "id": "43da3cc84e8d104b",
   "outputs": [
    {
     "data": {
      "text/plain": [
       "torch.Size([32, 2, 3, 3])"
      ]
     },
     "execution_count": 11,
     "metadata": {},
     "output_type": "execute_result"
    }
   ],
   "execution_count": 11
  },
  {
   "metadata": {
    "ExecuteTime": {
     "end_time": "2025-05-18T13:04:20.315326Z",
     "start_time": "2025-05-18T13:04:20.310256Z"
    }
   },
   "cell_type": "code",
   "source": [
    "layer = nn.Conv2d(3, 5, 3, stride =2 , padding =1)\n",
    "layer(torch.randn(32, 3, 5, 5))\n",
    "layer.weight.shape"
   ],
   "id": "a13c8eef952a4255",
   "outputs": [
    {
     "data": {
      "text/plain": [
       "torch.Size([5, 3, 3, 3])"
      ]
     },
     "execution_count": 14,
     "metadata": {},
     "output_type": "execute_result"
    }
   ],
   "execution_count": 14
  }
 ],
 "metadata": {
  "kernelspec": {
   "display_name": "Python 3",
   "language": "python",
   "name": "python3"
  },
  "language_info": {
   "codemirror_mode": {
    "name": "ipython",
    "version": 2
   },
   "file_extension": ".py",
   "mimetype": "text/x-python",
   "name": "python",
   "nbconvert_exporter": "python",
   "pygments_lexer": "ipython2",
   "version": "2.7.6"
  }
 },
 "nbformat": 4,
 "nbformat_minor": 5
}
