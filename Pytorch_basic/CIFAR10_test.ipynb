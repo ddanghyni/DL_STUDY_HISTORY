{
 "cells": [
  {
   "cell_type": "code",
   "id": "initial_id",
   "metadata": {
    "collapsed": true,
    "ExecuteTime": {
     "end_time": "2025-05-19T09:40:27.694092Z",
     "start_time": "2025-05-19T09:40:26.745601Z"
    }
   },
   "source": [
    "from multiclass_functions_1 import *\n",
    "import torch\n",
    "from torchvision import datasets, transforms"
   ],
   "outputs": [],
   "execution_count": 1
  },
  {
   "metadata": {
    "ExecuteTime": {
     "end_time": "2025-05-19T09:40:29.285627Z",
     "start_time": "2025-05-19T09:40:28.665686Z"
    }
   },
   "cell_type": "code",
   "source": [
    "transform = transforms.ToTensor()\n",
    "train_DS = datasets.CIFAR10(root = '/Users/sanghyun/Desktop/GIT_Folder', train=True, download=False, transform=transform)\n",
    "test_DS = datasets.CIFAR10(root  = '/Users/sanghyun/Desktop/GIT_Folder', train=False, download=False, transform=transform)\n",
    "BATCH_SIZE = 32\n",
    "train_DL = torch.utils.data.DataLoader(train_DS, batch_size=BATCH_SIZE, shuffle=True)\n",
    "test_DL = torch.utils.data.DataLoader(test_DS, batch_size=BATCH_SIZE, shuffle=True)"
   ],
   "id": "f2bbdf8a75d732d9",
   "outputs": [],
   "execution_count": 2
  },
  {
   "metadata": {
    "ExecuteTime": {
     "end_time": "2025-05-19T09:40:32.205694Z",
     "start_time": "2025-05-19T09:40:32.203747Z"
    }
   },
   "cell_type": "code",
   "source": [
    "BATCH_SIZE = 32\n",
    "LR = 1e-3\n",
    "EPOCH = 15\n",
    "criterion = nn.CrossEntropyLoss()\n",
    "new_model_train = True\n",
    "model_type = \"CNN_deep\"\n",
    "dataset = \"CIFAR10\"\n",
    "save_model_path = f\"./result/{model_type}_{dataset}.pt\""
   ],
   "id": "9d04ddd63c7a023",
   "outputs": [],
   "execution_count": 3
  },
  {
   "metadata": {
    "ExecuteTime": {
     "end_time": "2025-05-19T09:40:34.794800Z",
     "start_time": "2025-05-19T09:40:34.792103Z"
    }
   },
   "cell_type": "code",
   "source": [
    "print(train_DS)\n",
    "print(test_DS)\n",
    "print(len(train_DS))\n",
    "print(len(test_DS))\n",
    "print(test_DS.classes)\n",
    "print(test_DS.class_to_idx)"
   ],
   "id": "899d907bb3f7733d",
   "outputs": [
    {
     "name": "stdout",
     "output_type": "stream",
     "text": [
      "Dataset CIFAR10\n",
      "    Number of datapoints: 50000\n",
      "    Root location: /Users/sanghyun/Desktop/GIT_Folder\n",
      "    Split: Train\n",
      "    StandardTransform\n",
      "Transform: ToTensor()\n",
      "Dataset CIFAR10\n",
      "    Number of datapoints: 10000\n",
      "    Root location: /Users/sanghyun/Desktop/GIT_Folder\n",
      "    Split: Test\n",
      "    StandardTransform\n",
      "Transform: ToTensor()\n",
      "50000\n",
      "10000\n",
      "['airplane', 'automobile', 'bird', 'cat', 'deer', 'dog', 'frog', 'horse', 'ship', 'truck']\n",
      "{'airplane': 0, 'automobile': 1, 'bird': 2, 'cat': 3, 'deer': 4, 'dog': 5, 'frog': 6, 'horse': 7, 'ship': 8, 'truck': 9}\n"
     ]
    }
   ],
   "execution_count": 4
  },
  {
   "metadata": {
    "ExecuteTime": {
     "end_time": "2025-05-19T08:39:20.775246Z",
     "start_time": "2025-05-19T08:39:20.769303Z"
    }
   },
   "cell_type": "code",
   "source": "x_batch, y_batch = next(iter(test_DL))",
   "id": "d41c559cc4fdfc8",
   "outputs": [],
   "execution_count": 14
  },
  {
   "metadata": {
    "ExecuteTime": {
     "end_time": "2025-05-19T08:57:17.702436Z",
     "start_time": "2025-05-19T08:57:17.698800Z"
    }
   },
   "cell_type": "code",
   "source": [
    "print(x_batch.shape)\n",
    "print(x_batch.dtype)"
   ],
   "id": "faeef3f49cd8a4a3",
   "outputs": [
    {
     "name": "stdout",
     "output_type": "stream",
     "text": [
      "torch.Size([32, 3, 32, 32])\n",
      "torch.float32\n"
     ]
    }
   ],
   "execution_count": 28
  },
  {
   "metadata": {
    "ExecuteTime": {
     "end_time": "2025-05-19T09:33:27.470745Z",
     "start_time": "2025-05-19T09:33:27.467617Z"
    }
   },
   "cell_type": "code",
   "source": [
    "x_batch = x_batch.to(DEVICE)\n",
    "y_batch = y_batch.to(DEVICE)"
   ],
   "id": "1418926da22312d3",
   "outputs": [],
   "execution_count": 79
  },
  {
   "metadata": {
    "ExecuteTime": {
     "end_time": "2025-05-19T08:39:23.113398Z",
     "start_time": "2025-05-19T08:39:23.066089Z"
    }
   },
   "cell_type": "code",
   "source": "plt.imshow(x_batch[7].permute(1, 2, 0))",
   "id": "14788c63121921b5",
   "outputs": [
    {
     "data": {
      "text/plain": [
       "<matplotlib.image.AxesImage at 0x165b864e0>"
      ]
     },
     "execution_count": 15,
     "metadata": {},
     "output_type": "execute_result"
    },
    {
     "data": {
      "text/plain": [
       "<Figure size 640x480 with 1 Axes>"
      ],
      "image/png": "[encoded data removed]"
     },
     "metadata": {},
     "output_type": "display_data"
    }
   ],
   "execution_count": 15
  },
  {
   "metadata": {
    "ExecuteTime": {
     "end_time": "2025-05-19T09:40:38.671129Z",
     "start_time": "2025-05-19T09:40:38.663340Z"
    }
   },
   "cell_type": "code",
   "source": [
    "class CNN(nn.Module):\n",
    "    def __init__(self):\n",
    "        super().__init__()\n",
    "\n",
    "        self.conv1 = nn.Sequential(nn.Conv2d(3, 8, 3, stride = 1, padding = 1),\n",
    "                                   nn.BatchNorm2d(8), # 8개의 채널 각각에 대해, 한 배치 내 모든 픽셀 값을 평균 0, 분산 1이 되도록 정규화\n",
    "                                   nn.ReLU())         # 정규화된 feature map에 ReLU 활성화 함수를 적용함\n",
    "        self.Maxpool1 = nn.MaxPool2d(2)\n",
    "\n",
    "        self.conv2 = nn.Sequential(nn.Conv2d(8, 16, 3, stride = 1, padding = 1),\n",
    "                                   nn.BatchNorm2d(16),\n",
    "                                   nn.ReLU())\n",
    "        self.Maxpool2 = nn.MaxPool2d(2)\n",
    "\n",
    "        self.conv3 = nn.Sequential(nn.Conv2d(16, 32, 3, stride = 1, padding = 1),\n",
    "                                   nn.BatchNorm2d(32),\n",
    "                                   nn.ReLU())\n",
    "        self.Maxpool3 = nn.MaxPool2d(2)\n",
    "\n",
    "        self.fc = nn.Linear(32 * 4 * 4, 10)\n",
    "\n",
    "\n",
    "    def forward(self, x):\n",
    "        x = self.conv1(x)\n",
    "        x = self.Maxpool1(x)\n",
    "        x = self.conv2(x)\n",
    "        x = self.Maxpool2(x)\n",
    "        x = self.conv3(x)\n",
    "        x = self.Maxpool3(x)\n",
    "\n",
    "        x = torch.flatten(x, start_dim=1)\n",
    "        x = self.fc(x)\n",
    "        return x\n",
    "\n",
    "\n",
    "class CNN_deep(nn.Module):\n",
    "    def __init__(self):\n",
    "        super().__init__()\n",
    "        self.conv_block1 = nn.Sequential(nn.Conv2d(3,32,3,padding=1),\n",
    "                                         nn.BatchNorm2d(32),\n",
    "                                         nn.ReLU(),\n",
    "                                         nn.Conv2d(32,32,3,padding=1),\n",
    "                                         nn.BatchNorm2d(32),\n",
    "                                         nn.ReLU())\n",
    "        self.Maxpool1 = nn.MaxPool2d(2)\n",
    "\n",
    "        self.conv_block2 = nn.Sequential(nn.Conv2d(32,64,3,padding=1),\n",
    "                                         nn.BatchNorm2d(64),\n",
    "                                         nn.ReLU(),\n",
    "                                         nn.Conv2d(64,64,3,padding=1),\n",
    "                                         nn.BatchNorm2d(64),\n",
    "                                         nn.ReLU(),\n",
    "                                         nn.Conv2d(64,64,3,padding=1),\n",
    "                                         nn.BatchNorm2d(64),\n",
    "                                         nn.ReLU())\n",
    "        self.Maxpool2 = nn.MaxPool2d(2)\n",
    "\n",
    "        self.conv_block3 = nn.Sequential(nn.Conv2d(64,128,3,padding=1),\n",
    "                                         nn.BatchNorm2d(128),\n",
    "                                         nn.ReLU(),\n",
    "                                         nn.Conv2d(128,128,3,padding=1),\n",
    "                                         nn.BatchNorm2d(128),\n",
    "                                         nn.ReLU(),\n",
    "                                         nn.Conv2d(128,128,3,padding=1),\n",
    "                                         nn.BatchNorm2d(128),\n",
    "                                         nn.ReLU())\n",
    "        self.Maxpool3 = nn.MaxPool2d(2)\n",
    "\n",
    "        self.classifier = nn.Sequential(nn.Linear(128*4*4,512),\n",
    "                                        nn.Linear(512,10))\n",
    "\n",
    "    def forward(self, x):\n",
    "        x = self.conv_block1(x)\n",
    "        x = self.Maxpool1(x)\n",
    "        x = self.conv_block2(x)\n",
    "        x = self.Maxpool2(x)\n",
    "        x = self.conv_block3(x)\n",
    "        x = self.Maxpool3(x)\n",
    "        x = torch.flatten(x, start_dim=1)\n",
    "        x = self.classifier(x)\n",
    "        return x"
   ],
   "id": "eca06c32361f87eb",
   "outputs": [],
   "execution_count": 5
  },
  {
   "metadata": {
    "ExecuteTime": {
     "end_time": "2025-05-19T09:40:43.902175Z",
     "start_time": "2025-05-19T09:40:43.874039Z"
    }
   },
   "cell_type": "code",
   "source": [
    "exec(f\"model = {model_type}().to(DEVICE)\")\n",
    "print(model)"
   ],
   "id": "be09e556660ffcfa",
   "outputs": [
    {
     "name": "stdout",
     "output_type": "stream",
     "text": [
      "CNN_deep(\n",
      "  (conv_block1): Sequential(\n",
      "    (0): Conv2d(3, 32, kernel_size=(3, 3), stride=(1, 1), padding=(1, 1))\n",
      "    (1): BatchNorm2d(32, eps=1e-05, momentum=0.1, affine=True, track_running_stats=True)\n",
      "    (2): ReLU()\n",
      "    (3): Conv2d(32, 32, kernel_size=(3, 3), stride=(1, 1), padding=(1, 1))\n",
      "    (4): BatchNorm2d(32, eps=1e-05, momentum=0.1, affine=True, track_running_stats=True)\n",
      "    (5): ReLU()\n",
      "  )\n",
      "  (Maxpool1): MaxPool2d(kernel_size=2, stride=2, padding=0, dilation=1, ceil_mode=False)\n",
      "  (conv_block2): Sequential(\n",
      "    (0): Conv2d(32, 64, kernel_size=(3, 3), stride=(1, 1), padding=(1, 1))\n",
      "    (1): BatchNorm2d(64, eps=1e-05, momentum=0.1, affine=True, track_running_stats=True)\n",
      "    (2): ReLU()\n",
      "    (3): Conv2d(64, 64, kernel_size=(3, 3), stride=(1, 1), padding=(1, 1))\n",
      "    (4): BatchNorm2d(64, eps=1e-05, momentum=0.1, affine=True, track_running_stats=True)\n",
      "    (5): ReLU()\n",
      "    (6): Conv2d(64, 64, kernel_size=(3, 3), stride=(1, 1), padding=(1, 1))\n",
      "    (7): BatchNorm2d(64, eps=1e-05, momentum=0.1, affine=True, track_running_stats=True)\n",
      "    (8): ReLU()\n",
      "  )\n",
      "  (Maxpool2): MaxPool2d(kernel_size=2, stride=2, padding=0, dilation=1, ceil_mode=False)\n",
      "  (conv_block3): Sequential(\n",
      "    (0): Conv2d(64, 128, kernel_size=(3, 3), stride=(1, 1), padding=(1, 1))\n",
      "    (1): BatchNorm2d(128, eps=1e-05, momentum=0.1, affine=True, track_running_stats=True)\n",
      "    (2): ReLU()\n",
      "    (3): Conv2d(128, 128, kernel_size=(3, 3), stride=(1, 1), padding=(1, 1))\n",
      "    (4): BatchNorm2d(128, eps=1e-05, momentum=0.1, affine=True, track_running_stats=True)\n",
      "    (5): ReLU()\n",
      "    (6): Conv2d(128, 128, kernel_size=(3, 3), stride=(1, 1), padding=(1, 1))\n",
      "    (7): BatchNorm2d(128, eps=1e-05, momentum=0.1, affine=True, track_running_stats=True)\n",
      "    (8): ReLU()\n",
      "  )\n",
      "  (Maxpool3): MaxPool2d(kernel_size=2, stride=2, padding=0, dilation=1, ceil_mode=False)\n",
      "  (classifier): Sequential(\n",
      "    (0): Linear(in_features=2048, out_features=512, bias=True)\n",
      "    (1): Linear(in_features=512, out_features=10, bias=True)\n",
      "  )\n",
      ")\n"
     ]
    }
   ],
   "execution_count": 6
  },
  {
   "metadata": {
    "ExecuteTime": {
     "end_time": "2025-05-19T09:44:52.666636Z",
     "start_time": "2025-05-19T09:40:51.033122Z"
    }
   },
   "cell_type": "code",
   "source": [
    "if new_model_train:\n",
    "    optimizer = optim.Adam(model.parameters(), lr=LR)\n",
    "    loss_history = Train(model, train_DL, criterion, optimizer, EPOCH)\n",
    "\n",
    "    torch.save(model, save_model_path)\n",
    "\n",
    "    plt.plot(range(1,EPOCH+1),loss_history)\n",
    "    plt.xlabel('Epoch')\n",
    "    plt.ylabel('loss')\n",
    "    plt.title(\"Train Loss\")\n",
    "    plt.grid()"
   ],
   "id": "26fbad3d5473f24",
   "outputs": [
    {
     "data": {
      "text/plain": [
       "Epoch 1/15:   0%|          | 0/1563 [00:00<?, ?it/s]"
      ],
      "application/vnd.jupyter.widget-view+json": {
       "version_major": 2,
       "version_minor": 0,
       "model_id": "d02d799b51aa4dd8ab1e143ca779a725"
      }
     },
     "metadata": {},
     "output_type": "display_data"
    },
    {
     "name": "stdout",
     "output_type": "stream",
     "text": [
      "Epoch: 1, train loss: 1.516\n",
      "--------------------\n"
     ]
    },
    {
     "data": {
      "text/plain": [
       "Epoch 2/15:   0%|          | 0/1563 [00:00<?, ?it/s]"
      ],
      "application/vnd.jupyter.widget-view+json": {
       "version_major": 2,
       "version_minor": 0,
       "model_id": "b68499e9775c4dd69e0e096a6c05c60f"
      }
     },
     "metadata": {},
     "output_type": "display_data"
    },
    {
     "name": "stdout",
     "output_type": "stream",
     "text": [
      "Epoch: 2, train loss: 0.944\n",
      "--------------------\n"
     ]
    },
    {
     "data": {
      "text/plain": [
       "Epoch 3/15:   0%|          | 0/1563 [00:00<?, ?it/s]"
      ],
      "application/vnd.jupyter.widget-view+json": {
       "version_major": 2,
       "version_minor": 0,
       "model_id": "44359e9341a04ca78b015686fc8b1f36"
      }
     },
     "metadata": {},
     "output_type": "display_data"
    },
    {
     "name": "stdout",
     "output_type": "stream",
     "text": [
      "Epoch: 3, train loss: 0.732\n",
      "--------------------\n"
     ]
    },
    {
     "data": {
      "text/plain": [
       "Epoch 4/15:   0%|          | 0/1563 [00:00<?, ?it/s]"
      ],
      "application/vnd.jupyter.widget-view+json": {
       "version_major": 2,
       "version_minor": 0,
       "model_id": "d31bc2da0f6a47fca6263af43a8f19c7"
      }
     },
     "metadata": {},
     "output_type": "display_data"
    },
    {
     "name": "stdout",
     "output_type": "stream",
     "text": [
      "Epoch: 4, train loss: 0.604\n",
      "--------------------\n"
     ]
    },
    {
     "data": {
      "text/plain": [
       "Epoch 5/15:   0%|          | 0/1563 [00:00<?, ?it/s]"
      ],
      "application/vnd.jupyter.widget-view+json": {
       "version_major": 2,
       "version_minor": 0,
       "model_id": "18bca4ca39bd4cb08bbaca3d138ddf20"
      }
     },
     "metadata": {},
     "output_type": "display_data"
    },
    {
     "name": "stdout",
     "output_type": "stream",
     "text": [
      "Epoch: 5, train loss: 0.512\n",
      "--------------------\n"
     ]
    },
    {
     "data": {
      "text/plain": [
       "Epoch 6/15:   0%|          | 0/1563 [00:00<?, ?it/s]"
      ],
      "application/vnd.jupyter.widget-view+json": {
       "version_major": 2,
       "version_minor": 0,
       "model_id": "0ded5253bbc845098501ffe943d149a1"
      }
     },
     "metadata": {},
     "output_type": "display_data"
    },
    {
     "name": "stdout",
     "output_type": "stream",
     "text": [
      "Epoch: 6, train loss: 0.432\n",
      "--------------------\n"
     ]
    },
    {
     "data": {
      "text/plain": [
       "Epoch 7/15:   0%|          | 0/1563 [00:00<?, ?it/s]"
      ],
      "application/vnd.jupyter.widget-view+json": {
       "version_major": 2,
       "version_minor": 0,
       "model_id": "577fa6262b284e8ba5aa4b6bdc6f89ec"
      }
     },
     "metadata": {},
     "output_type": "display_data"
    },
    {
     "name": "stdout",
     "output_type": "stream",
     "text": [
      "Epoch: 7, train loss: 0.369\n",
      "--------------------\n"
     ]
    },
    {
     "data": {
      "text/plain": [
       "Epoch 8/15:   0%|          | 0/1563 [00:00<?, ?it/s]"
      ],
      "application/vnd.jupyter.widget-view+json": {
       "version_major": 2,
       "version_minor": 0,
       "model_id": "47457431df9c41aaa63e43d5947bcb7d"
      }
     },
     "metadata": {},
     "output_type": "display_data"
    },
    {
     "name": "stdout",
     "output_type": "stream",
     "text": [
      "Epoch: 8, train loss: 0.31\n",
      "--------------------\n"
     ]
    },
    {
     "data": {
      "text/plain": [
       "Epoch 9/15:   0%|          | 0/1563 [00:00<?, ?it/s]"
      ],
      "application/vnd.jupyter.widget-view+json": {
       "version_major": 2,
       "version_minor": 0,
       "model_id": "a6274acb6a63432ab27e2b5a743885ac"
      }
     },
     "metadata": {},
     "output_type": "display_data"
    },
    {
     "name": "stdout",
     "output_type": "stream",
     "text": [
      "Epoch: 9, train loss: 0.265\n",
      "--------------------\n"
     ]
    },
    {
     "data": {
      "text/plain": [
       "Epoch 10/15:   0%|          | 0/1563 [00:00<?, ?it/s]"
      ],
      "application/vnd.jupyter.widget-view+json": {
       "version_major": 2,
       "version_minor": 0,
       "model_id": "8ab5b89e6fa24a31bb5169294e7fb337"
      }
     },
     "metadata": {},
     "output_type": "display_data"
    },
    {
     "name": "stdout",
     "output_type": "stream",
     "text": [
      "Epoch: 10, train loss: 0.218\n",
      "--------------------\n"
     ]
    },
    {
     "data": {
      "text/plain": [
       "Epoch 11/15:   0%|          | 0/1563 [00:00<?, ?it/s]"
      ],
      "application/vnd.jupyter.widget-view+json": {
       "version_major": 2,
       "version_minor": 0,
       "model_id": "2366d0616cfa4dac98e849b7589e0e08"
      }
     },
     "metadata": {},
     "output_type": "display_data"
    },
    {
     "name": "stdout",
     "output_type": "stream",
     "text": [
      "Epoch: 11, train loss: 0.183\n",
      "--------------------\n"
     ]
    },
    {
     "data": {
      "text/plain": [
       "Epoch 12/15:   0%|          | 0/1563 [00:00<?, ?it/s]"
      ],
      "application/vnd.jupyter.widget-view+json": {
       "version_major": 2,
       "version_minor": 0,
       "model_id": "610b24abc9ca462fb9564888df9ff8c0"
      }
     },
     "metadata": {},
     "output_type": "display_data"
    },
    {
     "name": "stdout",
     "output_type": "stream",
     "text": [
      "Epoch: 12, train loss: 0.161\n",
      "--------------------\n"
     ]
    },
    {
     "data": {
      "text/plain": [
       "Epoch 13/15:   0%|          | 0/1563 [00:00<?, ?it/s]"
      ],
      "application/vnd.jupyter.widget-view+json": {
       "version_major": 2,
       "version_minor": 0,
       "model_id": "ceda4a6d3dc34bef8eaf25f05200ba0a"
      }
     },
     "metadata": {},
     "output_type": "display_data"
    },
    {
     "name": "stdout",
     "output_type": "stream",
     "text": [
      "Epoch: 13, train loss: 0.134\n",
      "--------------------\n"
     ]
    },
    {
     "data": {
      "text/plain": [
       "Epoch 14/15:   0%|          | 0/1563 [00:00<?, ?it/s]"
      ],
      "application/vnd.jupyter.widget-view+json": {
       "version_major": 2,
       "version_minor": 0,
       "model_id": "ec0434bc380c4edba9e94b7eab558767"
      }
     },
     "metadata": {},
     "output_type": "display_data"
    },
    {
     "name": "stdout",
     "output_type": "stream",
     "text": [
      "Epoch: 14, train loss: 0.124\n",
      "--------------------\n"
     ]
    },
    {
     "data": {
      "text/plain": [
       "Epoch 15/15:   0%|          | 0/1563 [00:00<?, ?it/s]"
      ],
      "application/vnd.jupyter.widget-view+json": {
       "version_major": 2,
       "version_minor": 0,
       "model_id": "a4ed3c89d8d14cb6ac58cd6452eeef3e"
      }
     },
     "metadata": {},
     "output_type": "display_data"
    },
    {
     "name": "stdout",
     "output_type": "stream",
     "text": [
      "Epoch: 15, train loss: 0.111\n",
      "--------------------\n"
     ]
    },
    {
     "data": {
      "text/plain": [
       "<Figure size 640x480 with 1 Axes>"
      ],
      "image/png": "[encoded data removed]"
     },
     "metadata": {},
     "output_type": "display_data"
    }
   ],
   "execution_count": 7
  },
  {
   "metadata": {
    "ExecuteTime": {
     "end_time": "2025-05-19T09:45:02.823222Z",
     "start_time": "2025-05-19T09:45:02.801131Z"
    }
   },
   "cell_type": "code",
   "source": "load_model = torch.load(save_model_path, map_location=DEVICE, weights_only=False)",
   "id": "41861134c1769653",
   "outputs": [],
   "execution_count": 8
  },
  {
   "metadata": {
    "ExecuteTime": {
     "end_time": "2025-05-19T09:45:06.195452Z",
     "start_time": "2025-05-19T09:45:04.175174Z"
    }
   },
   "cell_type": "code",
   "source": "Test(load_model, test_DL)",
   "id": "3f5fce9abf0d85ad",
   "outputs": [
    {
     "name": "stdout",
     "output_type": "stream",
     "text": [
      "Test accuracy: 8328/10000 (83.3 %)\n"
     ]
    }
   ],
   "execution_count": 9
  },
  {
   "metadata": {
    "ExecuteTime": {
     "end_time": "2025-05-19T10:15:20.276136Z",
     "start_time": "2025-05-19T10:15:20.211638Z"
    }
   },
   "cell_type": "code",
   "source": [
    "Test_plot(load_model, test_DL)\n",
    "print(count_params(load_model))"
   ],
   "id": "fad4a97e72e1d3cb",
   "outputs": [
    {
     "name": "stdout",
     "output_type": "stream",
     "text": [
      "1527018\n"
     ]
    },
    {
     "data": {
      "text/plain": [
       "<Figure size 800x400 with 6 Axes>"
      ],
      "image/png": "[encoded data removed]"
     },
     "metadata": {},
     "output_type": "display_data"
    }
   ],
   "execution_count": 16
  }
 ],
 "metadata": {
  "kernelspec": {
   "display_name": "Python 3",
   "language": "python",
   "name": "python3"
  },
  "language_info": {
   "codemirror_mode": {
    "name": "ipython",
    "version": 2
   },
   "file_extension": ".py",
   "mimetype": "text/x-python",
   "name": "python",
   "nbconvert_exporter": "python",
   "pygments_lexer": "ipython2",
   "version": "2.7.6"
  }
 },
 "nbformat": 4,
 "nbformat_minor": 5
}
